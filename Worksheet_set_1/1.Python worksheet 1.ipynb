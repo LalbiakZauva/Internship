{
 "cells": [
  {
   "cell_type": "markdown",
   "id": "8390a33e",
   "metadata": {},
   "source": [
    "# Solutions to Python - worksheet 1"
   ]
  },
  {
   "cell_type": "markdown",
   "id": "2c168410",
   "metadata": {},
   "source": [
    "### 11. Program to find factorial of a number (postive integers only)"
   ]
  },
  {
   "cell_type": "code",
   "execution_count": null,
   "id": "cc406b32",
   "metadata": {},
   "outputs": [],
   "source": [
    "def fac(x):\n",
    "    fac = 1\n",
    "    if x<0:\n",
    "        print ('enter only positive integer')\n",
    "    elif x==0:\n",
    "        print ('Factorial of 0 = 1')\n",
    "    else :\n",
    "        for i in range (1,x+1):\n",
    "            fac = i*fac\n",
    "        print ('factorial of',x,'=', fac)"
   ]
  },
  {
   "cell_type": "code",
   "execution_count": null,
   "id": "6b65a9b0",
   "metadata": {},
   "outputs": [],
   "source": [
    "fac(5)"
   ]
  },
  {
   "cell_type": "markdown",
   "id": "696c38cd",
   "metadata": {},
   "source": [
    "### 12. Program to check if a number is prime or composite "
   ]
  },
  {
   "cell_type": "code",
   "execution_count": null,
   "id": "68b435c9",
   "metadata": {},
   "outputs": [],
   "source": [
    "def check(y):\n",
    "    if y>1:\n",
    "        for j in range (2,y):\n",
    "            if y%j == 0:\n",
    "                print (y, 'is a composite number since it is divisible by',y//j,'which is a number other than 1 and itself i.e.',y)\n",
    "                break\n",
    "        else :\n",
    "            print (y, 'is a prime number since it is divisible by only 1 and itself i.e.',y)\n",
    "    else :\n",
    "        print ('enter only integer greater than 1')\n",
    "        print ('prime number starts from 2')\n",
    "        print ('composite number starts from 4')"
   ]
  },
  {
   "cell_type": "code",
   "execution_count": null,
   "id": "4bee270b",
   "metadata": {
    "scrolled": true
   },
   "outputs": [],
   "source": [
    "check(4)"
   ]
  },
  {
   "cell_type": "markdown",
   "id": "87c1cef3",
   "metadata": {},
   "source": [
    "### 13. Program to check for palindrome"
   ]
  },
  {
   "cell_type": "code",
   "execution_count": null,
   "id": "39bd0c2c",
   "metadata": {
    "scrolled": true
   },
   "outputs": [],
   "source": [
    "Input = str(input('Enter an input :'))\n",
    "if Input[::]==Input[::-1]:\n",
    "    print('Yep!', Input, 'is a palindrome')\n",
    "else :\n",
    "    print (Input ,'is NOT a palindrome')"
   ]
  },
  {
   "cell_type": "markdown",
   "id": "62876e9d",
   "metadata": {},
   "source": [
    "### 14. Program to find the 3rd side of a rt-triangle using two given sides"
   ]
  },
  {
   "cell_type": "code",
   "execution_count": null,
   "id": "e272d719",
   "metadata": {},
   "outputs": [],
   "source": [
    "try :\n",
    "    a = float(input('Enter a positive number :'))\n",
    "    b = float(input('Enter a positive number :'))\n",
    "    c = (a**2 + b**2)**(1/2)\n",
    "    \n",
    "    if a<0:\n",
    "        raise exception()\n",
    "    elif b<0:\n",
    "        raise exception()\n",
    "    else :\n",
    "        pass\n",
    "except :\n",
    "    if a<0:\n",
    "        print ('Enter only positive number')\n",
    "    elif b<0:\n",
    "        print ('Enter only positive number')\n",
    "else :\n",
    "    print (c)"
   ]
  },
  {
   "cell_type": "markdown",
   "id": "bf144a3f",
   "metadata": {},
   "source": [
    "### 15. Program to find frequency of each characters present in the given string"
   ]
  },
  {
   "cell_type": "code",
   "execution_count": null,
   "id": "a3490887",
   "metadata": {},
   "outputs": [],
   "source": [
    "i1 = str(input('Enter any string :'))\n",
    "i2 = str(input('Enter any letter from your string :'))\n",
    "freq = i1.count(i2)\n",
    "print ('The letter',i2,'appears',freq,'times in',i1)"
   ]
  }
 ],
 "metadata": {
  "kernelspec": {
   "display_name": "Python 3 (ipykernel)",
   "language": "python",
   "name": "python3"
  },
  "language_info": {
   "codemirror_mode": {
    "name": "ipython",
    "version": 3
   },
   "file_extension": ".py",
   "mimetype": "text/x-python",
   "name": "python",
   "nbconvert_exporter": "python",
   "pygments_lexer": "ipython3",
   "version": "3.9.7"
  }
 },
 "nbformat": 4,
 "nbformat_minor": 5
}
