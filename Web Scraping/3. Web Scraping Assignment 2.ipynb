{
 "cells": [
  {
   "cell_type": "markdown",
   "id": "670972d4",
   "metadata": {},
   "source": [
    "# 1. First 10 Data Analyst job in Bangalore"
   ]
  },
  {
   "cell_type": "code",
   "execution_count": 1,
   "id": "7edbda27",
   "metadata": {},
   "outputs": [
    {
     "name": "stdout",
     "output_type": "stream",
     "text": [
      "Requirement already satisfied: selenium in c:\\users\\hp\\anaconda3\\lib\\site-packages (4.3.0)\n",
      "Requirement already satisfied: trio~=0.17 in c:\\users\\hp\\anaconda3\\lib\\site-packages (from selenium) (0.21.0)\n",
      "Requirement already satisfied: urllib3[secure,socks]~=1.26 in c:\\users\\hp\\anaconda3\\lib\\site-packages (from selenium) (1.26.7)\n",
      "Requirement already satisfied: trio-websocket~=0.9 in c:\\users\\hp\\anaconda3\\lib\\site-packages (from selenium) (0.9.2)\n",
      "Requirement already satisfied: sortedcontainers in c:\\users\\hp\\anaconda3\\lib\\site-packages (from trio~=0.17->selenium) (2.4.0)\n",
      "Requirement already satisfied: outcome in c:\\users\\hp\\anaconda3\\lib\\site-packages (from trio~=0.17->selenium) (1.2.0)\n",
      "Requirement already satisfied: cffi>=1.14 in c:\\users\\hp\\anaconda3\\lib\\site-packages (from trio~=0.17->selenium) (1.14.6)\n",
      "Requirement already satisfied: idna in c:\\users\\hp\\anaconda3\\lib\\site-packages (from trio~=0.17->selenium) (3.2)\n",
      "Requirement already satisfied: sniffio in c:\\users\\hp\\anaconda3\\lib\\site-packages (from trio~=0.17->selenium) (1.2.0)\n",
      "Requirement already satisfied: async-generator>=1.9 in c:\\users\\hp\\anaconda3\\lib\\site-packages (from trio~=0.17->selenium) (1.10)\n",
      "Requirement already satisfied: attrs>=19.2.0 in c:\\users\\hp\\anaconda3\\lib\\site-packages (from trio~=0.17->selenium) (21.2.0)\n",
      "Requirement already satisfied: pycparser in c:\\users\\hp\\anaconda3\\lib\\site-packages (from cffi>=1.14->trio~=0.17->selenium) (2.20)\n",
      "Requirement already satisfied: wsproto>=0.14 in c:\\users\\hp\\anaconda3\\lib\\site-packages (from trio-websocket~=0.9->selenium) (1.1.0)\n",
      "Requirement already satisfied: PySocks!=1.5.7,<2.0,>=1.5.6 in c:\\users\\hp\\anaconda3\\lib\\site-packages (from urllib3[secure,socks]~=1.26->selenium) (1.7.1)\n",
      "Requirement already satisfied: pyOpenSSL>=0.14 in c:\\users\\hp\\anaconda3\\lib\\site-packages (from urllib3[secure,socks]~=1.26->selenium) (21.0.0)\n",
      "Requirement already satisfied: cryptography>=1.3.4 in c:\\users\\hp\\anaconda3\\lib\\site-packages (from urllib3[secure,socks]~=1.26->selenium) (3.4.8)\n",
      "Requirement already satisfied: certifi in c:\\users\\hp\\anaconda3\\lib\\site-packages (from urllib3[secure,socks]~=1.26->selenium) (2021.10.8)\n",
      "Requirement already satisfied: six>=1.5.2 in c:\\users\\hp\\anaconda3\\lib\\site-packages (from pyOpenSSL>=0.14->urllib3[secure,socks]~=1.26->selenium) (1.16.0)\n",
      "Requirement already satisfied: h11<1,>=0.9.0 in c:\\users\\hp\\anaconda3\\lib\\site-packages (from wsproto>=0.14->trio-websocket~=0.9->selenium) (0.13.0)\n"
     ]
    }
   ],
   "source": [
    "# first let's install selenium\n",
    "!pip install selenium"
   ]
  },
  {
   "cell_type": "code",
   "execution_count": 1,
   "id": "5e0743ca",
   "metadata": {},
   "outputs": [],
   "source": [
    "# importing necessary libraries\n",
    "import selenium\n",
    "from selenium import webdriver\n",
    "from selenium.webdriver.common.by import By\n",
    "import pandas as pd\n",
    "import numpy as np\n",
    "import warnings\n",
    "warnings.filterwarnings('ignore')"
   ]
  },
  {
   "cell_type": "code",
   "execution_count": 3,
   "id": "1bc5ab33",
   "metadata": {},
   "outputs": [],
   "source": [
    "# running webdriver\n",
    "driver = webdriver.Chrome(r'C:\\Users\\HP\\chromedriver_win32\\chromedriver.exe')"
   ]
  },
  {
   "cell_type": "code",
   "execution_count": 4,
   "id": "4cc7ceca",
   "metadata": {},
   "outputs": [],
   "source": [
    "# getting the desired webpage\n",
    "url = \"https://www.naukri.com/\"\n",
    "driver.get(url)"
   ]
  },
  {
   "cell_type": "code",
   "execution_count": 5,
   "id": "4244270e",
   "metadata": {},
   "outputs": [],
   "source": [
    "job = driver.find_element(By.CLASS_NAME,\"suggestor-input\")"
   ]
  },
  {
   "cell_type": "code",
   "execution_count": 6,
   "id": "e65b9805",
   "metadata": {},
   "outputs": [],
   "source": [
    "# write on search bar\n",
    "job.send_keys(\"Data Analyst\")"
   ]
  },
  {
   "cell_type": "code",
   "execution_count": 7,
   "id": "9029032b",
   "metadata": {},
   "outputs": [],
   "source": [
    "# finding web element for search location bar using xpath\n",
    "loc = driver.find_element(By.XPATH,\"/html/body/div[1]/div[2]/div[3]/div/div/div[5]/div/div/div/input\")"
   ]
  },
  {
   "cell_type": "code",
   "execution_count": 8,
   "id": "5c99f191",
   "metadata": {},
   "outputs": [],
   "source": [
    "loc.send_keys(\"Bangalore\")"
   ]
  },
  {
   "cell_type": "code",
   "execution_count": 9,
   "id": "50192871",
   "metadata": {},
   "outputs": [],
   "source": [
    "# clicking search button\n",
    "search = driver.find_element(By.XPATH,\"/html/body/div[1]/div[2]/div[3]/div/div/div[6]\")\n",
    "search.click()"
   ]
  },
  {
   "cell_type": "markdown",
   "id": "a6f60dc2",
   "metadata": {},
   "source": [
    "#### Job titles"
   ]
  },
  {
   "cell_type": "code",
   "execution_count": 10,
   "id": "e8900ef8",
   "metadata": {},
   "outputs": [],
   "source": [
    "jobs_10 = driver.find_elements(By.XPATH,\"//a[@class='title fw500 ellipsis']\")"
   ]
  },
  {
   "cell_type": "code",
   "execution_count": 11,
   "id": "63443a72",
   "metadata": {},
   "outputs": [
    {
     "data": {
      "text/plain": [
       "10"
      ]
     },
     "execution_count": 11,
     "metadata": {},
     "output_type": "execute_result"
    }
   ],
   "source": [
    "jobs = []\n",
    "for i in jobs_10:\n",
    "    jobs.append(i.text)\n",
    "jobs = jobs[:10]\n",
    "len(jobs)"
   ]
  },
  {
   "cell_type": "markdown",
   "id": "e9a926de",
   "metadata": {},
   "source": [
    "#### Job location"
   ]
  },
  {
   "cell_type": "code",
   "execution_count": 12,
   "id": "6ffb1756",
   "metadata": {},
   "outputs": [],
   "source": [
    "loc = driver.find_elements(By.XPATH,'//li[@class=\"fleft grey-text br2 placeHolderLi location\"]')"
   ]
  },
  {
   "cell_type": "code",
   "execution_count": 13,
   "id": "71f4ef2d",
   "metadata": {},
   "outputs": [
    {
     "data": {
      "text/plain": [
       "10"
      ]
     },
     "execution_count": 13,
     "metadata": {},
     "output_type": "execute_result"
    }
   ],
   "source": [
    "location = []\n",
    "for i in loc:\n",
    "    location.append(i.text)\n",
    "location = location[:10]\n",
    "len(location)"
   ]
  },
  {
   "cell_type": "markdown",
   "id": "d18d9be9",
   "metadata": {},
   "source": [
    "#### Company names"
   ]
  },
  {
   "cell_type": "code",
   "execution_count": 14,
   "id": "e89c0636",
   "metadata": {},
   "outputs": [],
   "source": [
    "comp = driver.find_elements(By.XPATH,'//a[@class=\"subTitle ellipsis fleft\"]')"
   ]
  },
  {
   "cell_type": "code",
   "execution_count": 15,
   "id": "33e8317d",
   "metadata": {},
   "outputs": [
    {
     "data": {
      "text/plain": [
       "10"
      ]
     },
     "execution_count": 15,
     "metadata": {},
     "output_type": "execute_result"
    }
   ],
   "source": [
    "company = []\n",
    "for i in comp:\n",
    "    company.append(i.text)\n",
    "company = company[:10]\n",
    "len(company)"
   ]
  },
  {
   "cell_type": "markdown",
   "id": "034c0f03",
   "metadata": {},
   "source": [
    "#### Experience required"
   ]
  },
  {
   "cell_type": "code",
   "execution_count": 16,
   "id": "67987361",
   "metadata": {},
   "outputs": [],
   "source": [
    "exp = driver.find_elements(By.XPATH,'//li[@class=\"fleft grey-text br2 placeHolderLi experience\"]')"
   ]
  },
  {
   "cell_type": "code",
   "execution_count": 17,
   "id": "20f6e717",
   "metadata": {},
   "outputs": [
    {
     "data": {
      "text/plain": [
       "10"
      ]
     },
     "execution_count": 17,
     "metadata": {},
     "output_type": "execute_result"
    }
   ],
   "source": [
    "experience = []\n",
    "for i in exp:\n",
    "    experience.append(i.text)\n",
    "experience = experience[:10]\n",
    "len(experience)"
   ]
  },
  {
   "cell_type": "markdown",
   "id": "c1f1fe7e",
   "metadata": {},
   "source": [
    "#### Dataframe for first 10 Data Analyst job in Bangalore"
   ]
  },
  {
   "cell_type": "code",
   "execution_count": 18,
   "id": "1b585380",
   "metadata": {},
   "outputs": [
    {
     "data": {
      "text/html": [
       "<div>\n",
       "<style scoped>\n",
       "    .dataframe tbody tr th:only-of-type {\n",
       "        vertical-align: middle;\n",
       "    }\n",
       "\n",
       "    .dataframe tbody tr th {\n",
       "        vertical-align: top;\n",
       "    }\n",
       "\n",
       "    .dataframe thead th {\n",
       "        text-align: right;\n",
       "    }\n",
       "</style>\n",
       "<table border=\"1\" class=\"dataframe\">\n",
       "  <thead>\n",
       "    <tr style=\"text-align: right;\">\n",
       "      <th></th>\n",
       "      <th>Job title</th>\n",
       "      <th>Job location</th>\n",
       "      <th>Company names</th>\n",
       "      <th>Experience required</th>\n",
       "    </tr>\n",
       "  </thead>\n",
       "  <tbody>\n",
       "    <tr>\n",
       "      <th>1</th>\n",
       "      <td>Data Analyst/Senior Data Analyst</td>\n",
       "      <td>Bangalore/Bengaluru</td>\n",
       "      <td>Meesho</td>\n",
       "      <td>3-6 Yrs</td>\n",
       "    </tr>\n",
       "    <tr>\n",
       "      <th>2</th>\n",
       "      <td>Senior Data Analyst II</td>\n",
       "      <td>Bangalore/Bengaluru</td>\n",
       "      <td>Flipkart</td>\n",
       "      <td>3-6 Yrs</td>\n",
       "    </tr>\n",
       "    <tr>\n",
       "      <th>3</th>\n",
       "      <td>Software Technical Expert - Data Analyst</td>\n",
       "      <td>Bangalore/Bengaluru</td>\n",
       "      <td>Schneider Electric</td>\n",
       "      <td>3-6 Yrs</td>\n",
       "    </tr>\n",
       "    <tr>\n",
       "      <th>4</th>\n",
       "      <td>Data Analyst</td>\n",
       "      <td>Bangalore/Bengaluru</td>\n",
       "      <td>Jio</td>\n",
       "      <td>8-11 Yrs</td>\n",
       "    </tr>\n",
       "    <tr>\n",
       "      <th>5</th>\n",
       "      <td>Big data analyst</td>\n",
       "      <td>Bangalore/Bengaluru</td>\n",
       "      <td>Accolite Software India Pvt Ltd</td>\n",
       "      <td>2-6 Yrs</td>\n",
       "    </tr>\n",
       "    <tr>\n",
       "      <th>6</th>\n",
       "      <td>Data Analyst</td>\n",
       "      <td>Bangalore/Bengaluru</td>\n",
       "      <td>BYJUS</td>\n",
       "      <td>2-5 Yrs</td>\n",
       "    </tr>\n",
       "    <tr>\n",
       "      <th>7</th>\n",
       "      <td>Senior Business Analyst, Data Analytics &amp; Engi...</td>\n",
       "      <td>Bangalore/Bengaluru\\n(WFH during Covid)</td>\n",
       "      <td>Artech Infosystems Pvt. Ltd.</td>\n",
       "      <td>4-8 Yrs</td>\n",
       "    </tr>\n",
       "    <tr>\n",
       "      <th>8</th>\n",
       "      <td>Data Analyst 2</td>\n",
       "      <td>Bangalore/Bengaluru</td>\n",
       "      <td>PayPal</td>\n",
       "      <td>1-3 Yrs</td>\n",
       "    </tr>\n",
       "    <tr>\n",
       "      <th>9</th>\n",
       "      <td>Clinical Data Analyst</td>\n",
       "      <td>Bangalore/Bengaluru, Chennai</td>\n",
       "      <td>Navitas LLP</td>\n",
       "      <td>3-8 Yrs</td>\n",
       "    </tr>\n",
       "    <tr>\n",
       "      <th>10</th>\n",
       "      <td>Senior Data Analyst</td>\n",
       "      <td>Bangalore/Bengaluru</td>\n",
       "      <td>Walmart</td>\n",
       "      <td>4-7 Yrs</td>\n",
       "    </tr>\n",
       "  </tbody>\n",
       "</table>\n",
       "</div>"
      ],
      "text/plain": [
       "                                            Job title  \\\n",
       "1                    Data Analyst/Senior Data Analyst   \n",
       "2                              Senior Data Analyst II   \n",
       "3            Software Technical Expert - Data Analyst   \n",
       "4                                        Data Analyst   \n",
       "5                                    Big data analyst   \n",
       "6                                        Data Analyst   \n",
       "7   Senior Business Analyst, Data Analytics & Engi...   \n",
       "8                                      Data Analyst 2   \n",
       "9                               Clinical Data Analyst   \n",
       "10                                Senior Data Analyst   \n",
       "\n",
       "                               Job location                    Company names  \\\n",
       "1                       Bangalore/Bengaluru                           Meesho   \n",
       "2                       Bangalore/Bengaluru                         Flipkart   \n",
       "3                       Bangalore/Bengaluru               Schneider Electric   \n",
       "4                       Bangalore/Bengaluru                              Jio   \n",
       "5                       Bangalore/Bengaluru  Accolite Software India Pvt Ltd   \n",
       "6                       Bangalore/Bengaluru                            BYJUS   \n",
       "7   Bangalore/Bengaluru\\n(WFH during Covid)     Artech Infosystems Pvt. Ltd.   \n",
       "8                       Bangalore/Bengaluru                           PayPal   \n",
       "9              Bangalore/Bengaluru, Chennai                      Navitas LLP   \n",
       "10                      Bangalore/Bengaluru                          Walmart   \n",
       "\n",
       "   Experience required  \n",
       "1              3-6 Yrs  \n",
       "2              3-6 Yrs  \n",
       "3              3-6 Yrs  \n",
       "4             8-11 Yrs  \n",
       "5              2-6 Yrs  \n",
       "6              2-5 Yrs  \n",
       "7              4-8 Yrs  \n",
       "8              1-3 Yrs  \n",
       "9              3-8 Yrs  \n",
       "10             4-7 Yrs  "
      ]
     },
     "execution_count": 18,
     "metadata": {},
     "output_type": "execute_result"
    }
   ],
   "source": [
    "df = pd.DataFrame(index=[1,2,3,4,5,6,7,8,9,10])\n",
    "df[\"Job title\"] = jobs\n",
    "df[\"Job location\"] = location\n",
    "df[\"Company names\"] = company\n",
    "df[\"Experience required\"] = experience\n",
    "df"
   ]
  },
  {
   "cell_type": "markdown",
   "id": "24dde42a",
   "metadata": {},
   "source": [
    "# 2. First 10 Data Scientist job in Bangalore "
   ]
  },
  {
   "cell_type": "code",
   "execution_count": 19,
   "id": "11405ac3",
   "metadata": {},
   "outputs": [],
   "source": [
    "# running webdriver\n",
    "driver = webdriver.Chrome(r'C:\\Users\\HP\\chromedriver_win32\\chromedriver.exe')"
   ]
  },
  {
   "cell_type": "code",
   "execution_count": 20,
   "id": "9be5b8cb",
   "metadata": {},
   "outputs": [],
   "source": [
    "# getting the desired webpage\n",
    "url = \"https://www.naukri.com/\"\n",
    "driver.get(url)"
   ]
  },
  {
   "cell_type": "code",
   "execution_count": 21,
   "id": "57a4891a",
   "metadata": {
    "scrolled": true
   },
   "outputs": [],
   "source": [
    "job2 = driver.find_element(By.CLASS_NAME,\"suggestor-input\")"
   ]
  },
  {
   "cell_type": "code",
   "execution_count": 22,
   "id": "4d2c4461",
   "metadata": {},
   "outputs": [],
   "source": [
    "# Entering input in the search bar\n",
    "job2.send_keys(\"Data Scientist\")"
   ]
  },
  {
   "cell_type": "code",
   "execution_count": 23,
   "id": "877d39c1",
   "metadata": {},
   "outputs": [],
   "source": [
    "loc2 = driver.find_element(By.XPATH,'/html/body/div[1]/div[2]/div[3]/div/div/div[5]/div/div/div/input')"
   ]
  },
  {
   "cell_type": "code",
   "execution_count": 24,
   "id": "77e2486d",
   "metadata": {},
   "outputs": [],
   "source": [
    "loc2.send_keys(\"Bangalore\")"
   ]
  },
  {
   "cell_type": "code",
   "execution_count": 25,
   "id": "08227149",
   "metadata": {},
   "outputs": [],
   "source": [
    "# clicking search button\n",
    "search = driver.find_element(By.CLASS_NAME,\"qsbSubmit\")"
   ]
  },
  {
   "cell_type": "code",
   "execution_count": 26,
   "id": "30f82723",
   "metadata": {},
   "outputs": [],
   "source": [
    "search.click()"
   ]
  },
  {
   "cell_type": "markdown",
   "id": "b343d1b1",
   "metadata": {},
   "source": [
    "#### Job title"
   ]
  },
  {
   "cell_type": "code",
   "execution_count": 27,
   "id": "223b6d01",
   "metadata": {},
   "outputs": [],
   "source": [
    "job = driver.find_elements(By.XPATH,'//a[@class=\"title fw500 ellipsis\"]')"
   ]
  },
  {
   "cell_type": "code",
   "execution_count": 28,
   "id": "9b7be23b",
   "metadata": {},
   "outputs": [
    {
     "data": {
      "text/plain": [
       "10"
      ]
     },
     "execution_count": 28,
     "metadata": {},
     "output_type": "execute_result"
    }
   ],
   "source": [
    "jobs = []\n",
    "for i in job:\n",
    "    jobs.append(i.text)\n",
    "jobs = jobs[:10]\n",
    "len(jobs)"
   ]
  },
  {
   "cell_type": "markdown",
   "id": "99a9bc4d",
   "metadata": {},
   "source": [
    "#### Job location "
   ]
  },
  {
   "cell_type": "code",
   "execution_count": 29,
   "id": "1dc6c48c",
   "metadata": {},
   "outputs": [],
   "source": [
    "loc = driver.find_elements(By.XPATH,'//li[@class=\"fleft grey-text br2 placeHolderLi location\"]')"
   ]
  },
  {
   "cell_type": "code",
   "execution_count": 30,
   "id": "3d5594c0",
   "metadata": {},
   "outputs": [
    {
     "data": {
      "text/plain": [
       "10"
      ]
     },
     "execution_count": 30,
     "metadata": {},
     "output_type": "execute_result"
    }
   ],
   "source": [
    "location = []\n",
    "for i in loc:\n",
    "    location.append(i.text)\n",
    "location = location[:10]\n",
    "len(location)"
   ]
  },
  {
   "cell_type": "markdown",
   "id": "e3e567ba",
   "metadata": {},
   "source": [
    "#### Company name"
   ]
  },
  {
   "cell_type": "code",
   "execution_count": 31,
   "id": "714c3dc0",
   "metadata": {},
   "outputs": [],
   "source": [
    "comp = driver.find_elements(By.XPATH,'//a[@class=\"subTitle ellipsis fleft\"]')"
   ]
  },
  {
   "cell_type": "code",
   "execution_count": 32,
   "id": "32a3f61b",
   "metadata": {},
   "outputs": [
    {
     "data": {
      "text/plain": [
       "10"
      ]
     },
     "execution_count": 32,
     "metadata": {},
     "output_type": "execute_result"
    }
   ],
   "source": [
    "company = []\n",
    "for i in comp:\n",
    "    company.append(i.text)\n",
    "company = company[:10]\n",
    "len(company)"
   ]
  },
  {
   "cell_type": "markdown",
   "id": "eca1680e",
   "metadata": {},
   "source": [
    "#### Dataframe for first 10 Data Scientist job in Bangalore"
   ]
  },
  {
   "cell_type": "code",
   "execution_count": 33,
   "id": "5ed7400b",
   "metadata": {},
   "outputs": [
    {
     "data": {
      "text/html": [
       "<div>\n",
       "<style scoped>\n",
       "    .dataframe tbody tr th:only-of-type {\n",
       "        vertical-align: middle;\n",
       "    }\n",
       "\n",
       "    .dataframe tbody tr th {\n",
       "        vertical-align: top;\n",
       "    }\n",
       "\n",
       "    .dataframe thead th {\n",
       "        text-align: right;\n",
       "    }\n",
       "</style>\n",
       "<table border=\"1\" class=\"dataframe\">\n",
       "  <thead>\n",
       "    <tr style=\"text-align: right;\">\n",
       "      <th></th>\n",
       "      <th>Job title</th>\n",
       "      <th>Job location</th>\n",
       "      <th>Company name</th>\n",
       "    </tr>\n",
       "  </thead>\n",
       "  <tbody>\n",
       "    <tr>\n",
       "      <th>1</th>\n",
       "      <td>Urgent Job Opening For AI Practitioner - Data ...</td>\n",
       "      <td>Bangalore/Bengaluru, Kochi/Cochin, New Delhi, ...</td>\n",
       "      <td>Wipro</td>\n",
       "    </tr>\n",
       "    <tr>\n",
       "      <th>2</th>\n",
       "      <td>Dataiku Consultant</td>\n",
       "      <td>Bangalore/Bengaluru, Pune, Chennai</td>\n",
       "      <td>Wipro</td>\n",
       "    </tr>\n",
       "    <tr>\n",
       "      <th>3</th>\n",
       "      <td>Opportunity For Data Scientist - Female Candid...</td>\n",
       "      <td>Bangalore/Bengaluru, Gurgaon/Gurugram, Mumbai ...</td>\n",
       "      <td>PayU</td>\n",
       "    </tr>\n",
       "    <tr>\n",
       "      <th>4</th>\n",
       "      <td>Research and Development -AI/ML -(PhD )</td>\n",
       "      <td>Bangalore/Bengaluru, Noida, Hyderabad/Secunder...</td>\n",
       "      <td>EXL</td>\n",
       "    </tr>\n",
       "    <tr>\n",
       "      <th>5</th>\n",
       "      <td>Data Scientist- Assistant Manager/Manager</td>\n",
       "      <td>Bangalore/Bengaluru</td>\n",
       "      <td>Genpact</td>\n",
       "    </tr>\n",
       "    <tr>\n",
       "      <th>6</th>\n",
       "      <td>Data Scientist: Artificial Intelligence</td>\n",
       "      <td>Bangalore/Bengaluru</td>\n",
       "      <td>IBM</td>\n",
       "    </tr>\n",
       "    <tr>\n",
       "      <th>7</th>\n",
       "      <td>Data Scientist - IN3</td>\n",
       "      <td>Bangalore/Bengaluru</td>\n",
       "      <td>Walmart</td>\n",
       "    </tr>\n",
       "    <tr>\n",
       "      <th>8</th>\n",
       "      <td>Data Scientist - IN3</td>\n",
       "      <td>Bangalore/Bengaluru</td>\n",
       "      <td>Walmart</td>\n",
       "    </tr>\n",
       "    <tr>\n",
       "      <th>9</th>\n",
       "      <td>Senior Data Scientist, Personalization</td>\n",
       "      <td>Bangalore/Bengaluru</td>\n",
       "      <td>Walmart</td>\n",
       "    </tr>\n",
       "    <tr>\n",
       "      <th>10</th>\n",
       "      <td>Data Scientist</td>\n",
       "      <td>Bangalore/Bengaluru</td>\n",
       "      <td>Schneider Electric</td>\n",
       "    </tr>\n",
       "  </tbody>\n",
       "</table>\n",
       "</div>"
      ],
      "text/plain": [
       "                                            Job title  \\\n",
       "1   Urgent Job Opening For AI Practitioner - Data ...   \n",
       "2                                  Dataiku Consultant   \n",
       "3   Opportunity For Data Scientist - Female Candid...   \n",
       "4             Research and Development -AI/ML -(PhD )   \n",
       "5           Data Scientist- Assistant Manager/Manager   \n",
       "6             Data Scientist: Artificial Intelligence   \n",
       "7                                Data Scientist - IN3   \n",
       "8                                Data Scientist - IN3   \n",
       "9              Senior Data Scientist, Personalization   \n",
       "10                                     Data Scientist   \n",
       "\n",
       "                                         Job location        Company name  \n",
       "1   Bangalore/Bengaluru, Kochi/Cochin, New Delhi, ...               Wipro  \n",
       "2                  Bangalore/Bengaluru, Pune, Chennai               Wipro  \n",
       "3   Bangalore/Bengaluru, Gurgaon/Gurugram, Mumbai ...                PayU  \n",
       "4   Bangalore/Bengaluru, Noida, Hyderabad/Secunder...                 EXL  \n",
       "5                                 Bangalore/Bengaluru             Genpact  \n",
       "6                                 Bangalore/Bengaluru                 IBM  \n",
       "7                                 Bangalore/Bengaluru             Walmart  \n",
       "8                                 Bangalore/Bengaluru             Walmart  \n",
       "9                                 Bangalore/Bengaluru             Walmart  \n",
       "10                                Bangalore/Bengaluru  Schneider Electric  "
      ]
     },
     "execution_count": 33,
     "metadata": {},
     "output_type": "execute_result"
    }
   ],
   "source": [
    "df = pd.DataFrame(index = [1,2,3,4,5,6,7,8,9,10])\n",
    "df[\"Job title\"] = jobs\n",
    "df[\"Job location\"] = location\n",
    "df[\"Company name\"] = company\n",
    "df"
   ]
  },
  {
   "cell_type": "markdown",
   "id": "a018c014",
   "metadata": {},
   "source": [
    "# 3. First 10 Data Scientist job in Delhi/NCR using filter options"
   ]
  },
  {
   "cell_type": "code",
   "execution_count": 34,
   "id": "1859163e",
   "metadata": {},
   "outputs": [],
   "source": [
    "# running webdriver\n",
    "driver = webdriver.Chrome(r'C:\\Users\\HP\\chromedriver_win32\\chromedriver.exe')"
   ]
  },
  {
   "cell_type": "code",
   "execution_count": 35,
   "id": "a00574d1",
   "metadata": {},
   "outputs": [],
   "source": [
    "# getting the desired webpage\n",
    "url = \"https://www.naukri.com/\"\n",
    "driver.get(url)"
   ]
  },
  {
   "cell_type": "code",
   "execution_count": 36,
   "id": "d90cd9da",
   "metadata": {},
   "outputs": [],
   "source": [
    "job3 = driver.find_element(By.CLASS_NAME,\"suggestor-input\")"
   ]
  },
  {
   "cell_type": "code",
   "execution_count": 37,
   "id": "1333fb8a",
   "metadata": {},
   "outputs": [],
   "source": [
    "#typing in the search bar\n",
    "job3.send_keys(\"Data Scientist\")"
   ]
  },
  {
   "cell_type": "code",
   "execution_count": 38,
   "id": "1d8ff973",
   "metadata": {},
   "outputs": [],
   "source": [
    "# clicking search button\n",
    "search = driver.find_element(By.CLASS_NAME,'qsbSubmit')\n",
    "search.click()"
   ]
  },
  {
   "cell_type": "code",
   "execution_count": 39,
   "id": "0c273446",
   "metadata": {},
   "outputs": [],
   "source": [
    "# checking location filter box\n",
    "# You might need to run this line twice\n",
    "loc_filter = driver.find_element(By.XPATH,'/html/body/div[1]/div[3]/div[2]/section[1]/div[2]/div[5]/div[2]/div[3]/label/p')\n",
    "loc_filter.click()"
   ]
  },
  {
   "cell_type": "code",
   "execution_count": 41,
   "id": "b23f26dc",
   "metadata": {},
   "outputs": [],
   "source": [
    "# checking salary filter box\n",
    "sal_filter = driver.find_element(By.XPATH,'/html/body/div[1]/div[3]/div[2]/section[1]/div[2]/div[6]/div[2]/div[2]/label/p')\n",
    "sal_filter.click()"
   ]
  },
  {
   "cell_type": "markdown",
   "id": "bfc35878",
   "metadata": {},
   "source": [
    "#### Job title"
   ]
  },
  {
   "cell_type": "code",
   "execution_count": 42,
   "id": "394bce8c",
   "metadata": {},
   "outputs": [],
   "source": [
    "job = driver.find_elements(By.XPATH,'//a[@class=\"title fw500 ellipsis\"]')"
   ]
  },
  {
   "cell_type": "code",
   "execution_count": 43,
   "id": "883fed1e",
   "metadata": {},
   "outputs": [
    {
     "data": {
      "text/plain": [
       "10"
      ]
     },
     "execution_count": 43,
     "metadata": {},
     "output_type": "execute_result"
    }
   ],
   "source": [
    "jobs = []\n",
    "for i in job:\n",
    "    jobs.append(i.text)\n",
    "jobs = jobs[:10]\n",
    "len(jobs)"
   ]
  },
  {
   "cell_type": "markdown",
   "id": "de392b3d",
   "metadata": {},
   "source": [
    "#### Job location"
   ]
  },
  {
   "cell_type": "code",
   "execution_count": 44,
   "id": "1faa4c65",
   "metadata": {},
   "outputs": [],
   "source": [
    "loc = driver.find_elements(By.XPATH,'//li[@class=\"fleft grey-text br2 placeHolderLi location\"]')"
   ]
  },
  {
   "cell_type": "code",
   "execution_count": 45,
   "id": "6de01dbc",
   "metadata": {},
   "outputs": [
    {
     "data": {
      "text/plain": [
       "10"
      ]
     },
     "execution_count": 45,
     "metadata": {},
     "output_type": "execute_result"
    }
   ],
   "source": [
    "location = []\n",
    "for i in loc:\n",
    "    location.append(i.text)\n",
    "location = location[:10]\n",
    "len(location)"
   ]
  },
  {
   "cell_type": "markdown",
   "id": "67e6507e",
   "metadata": {},
   "source": [
    "#### Company name"
   ]
  },
  {
   "cell_type": "code",
   "execution_count": 46,
   "id": "7ba1021f",
   "metadata": {},
   "outputs": [],
   "source": [
    "comp = driver.find_elements(By.XPATH,'//a[@class=\"subTitle ellipsis fleft\"]')"
   ]
  },
  {
   "cell_type": "code",
   "execution_count": 47,
   "id": "dfaad327",
   "metadata": {},
   "outputs": [
    {
     "data": {
      "text/plain": [
       "10"
      ]
     },
     "execution_count": 47,
     "metadata": {},
     "output_type": "execute_result"
    }
   ],
   "source": [
    "company = []\n",
    "for i in comp:\n",
    "    company.append(i.text)\n",
    "company = company[:10]\n",
    "len(company)"
   ]
  },
  {
   "cell_type": "markdown",
   "id": "a05bdab0",
   "metadata": {},
   "source": [
    "#### Experience required"
   ]
  },
  {
   "cell_type": "code",
   "execution_count": 48,
   "id": "2c7ae8be",
   "metadata": {},
   "outputs": [],
   "source": [
    "exp = driver.find_elements(By.XPATH,'//li[@class=\"fleft grey-text br2 placeHolderLi experience\"]')"
   ]
  },
  {
   "cell_type": "code",
   "execution_count": 49,
   "id": "2966260a",
   "metadata": {},
   "outputs": [
    {
     "data": {
      "text/plain": [
       "10"
      ]
     },
     "execution_count": 49,
     "metadata": {},
     "output_type": "execute_result"
    }
   ],
   "source": [
    "experience = []\n",
    "for i in exp:\n",
    "    experience.append(i.text)\n",
    "experience = experience[:10]\n",
    "len(experience)"
   ]
  },
  {
   "cell_type": "markdown",
   "id": "b47ebe5c",
   "metadata": {},
   "source": [
    "#### Dataframe for first 10 Data Scientist job in Bangalore by checking the filter boxes"
   ]
  },
  {
   "cell_type": "code",
   "execution_count": 50,
   "id": "1cb46e48",
   "metadata": {},
   "outputs": [
    {
     "data": {
      "text/html": [
       "<div>\n",
       "<style scoped>\n",
       "    .dataframe tbody tr th:only-of-type {\n",
       "        vertical-align: middle;\n",
       "    }\n",
       "\n",
       "    .dataframe tbody tr th {\n",
       "        vertical-align: top;\n",
       "    }\n",
       "\n",
       "    .dataframe thead th {\n",
       "        text-align: right;\n",
       "    }\n",
       "</style>\n",
       "<table border=\"1\" class=\"dataframe\">\n",
       "  <thead>\n",
       "    <tr style=\"text-align: right;\">\n",
       "      <th></th>\n",
       "      <th>Job title</th>\n",
       "      <th>Job location</th>\n",
       "      <th>Company name</th>\n",
       "      <th>Experience required</th>\n",
       "    </tr>\n",
       "  </thead>\n",
       "  <tbody>\n",
       "    <tr>\n",
       "      <th>1</th>\n",
       "      <td>DigitalBCG GAMMA Data Scientist</td>\n",
       "      <td>New Delhi, Bangalore/Bengaluru</td>\n",
       "      <td>Boston Consulting Group</td>\n",
       "      <td>2-5 Yrs</td>\n",
       "    </tr>\n",
       "    <tr>\n",
       "      <th>2</th>\n",
       "      <td>Senior Associate - Data Science</td>\n",
       "      <td>Mumbai, Hyderabad/Secunderabad, Gurgaon/Gurugr...</td>\n",
       "      <td>Black Turtle India Pvt Ltd</td>\n",
       "      <td>4-7 Yrs</td>\n",
       "    </tr>\n",
       "    <tr>\n",
       "      <th>3</th>\n",
       "      <td>Data Scientist - Noida/Bangalore</td>\n",
       "      <td>Noida, Bangalore/Bengaluru</td>\n",
       "      <td>EXL</td>\n",
       "      <td>5-10 Yrs</td>\n",
       "    </tr>\n",
       "    <tr>\n",
       "      <th>4</th>\n",
       "      <td>Data Scientist - Machine learning AI</td>\n",
       "      <td>Delhi / NCR, Bangalore/Bengaluru, Mumbai (All ...</td>\n",
       "      <td>Teq Analytics</td>\n",
       "      <td>3-8 Yrs</td>\n",
       "    </tr>\n",
       "    <tr>\n",
       "      <th>5</th>\n",
       "      <td>Data Scientist</td>\n",
       "      <td>Pune, Gurgaon/Gurugram, Bangalore/Bengaluru</td>\n",
       "      <td>SS Supply Chain Solutions Pvt. Ltd. (3SC)</td>\n",
       "      <td>2-5 Yrs</td>\n",
       "    </tr>\n",
       "    <tr>\n",
       "      <th>6</th>\n",
       "      <td>Data Scientist - Engine Algorithm</td>\n",
       "      <td>Delhi / NCR, Kolkata, Mumbai, Hyderabad/Secund...</td>\n",
       "      <td>Primo Hiring</td>\n",
       "      <td>1-3 Yrs</td>\n",
       "    </tr>\n",
       "    <tr>\n",
       "      <th>7</th>\n",
       "      <td>Data Scientist - MIND Infotech</td>\n",
       "      <td>Noida</td>\n",
       "      <td>MOTHERSONSUMI INFOTECH &amp; DESIGNS LIMITED</td>\n",
       "      <td>4-8 Yrs</td>\n",
       "    </tr>\n",
       "    <tr>\n",
       "      <th>8</th>\n",
       "      <td>Data Scientist - Predictive Analytics</td>\n",
       "      <td>Noida, Mumbai, Chandigarh, Hyderabad/Secundera...</td>\n",
       "      <td>Confidential</td>\n",
       "      <td>1-6 Yrs</td>\n",
       "    </tr>\n",
       "    <tr>\n",
       "      <th>9</th>\n",
       "      <td>Data Scientist</td>\n",
       "      <td>Delhi / NCR, Bangalore/Bengaluru, Mumbai (All ...</td>\n",
       "      <td>Sydata Consulting India Pvt Ltd</td>\n",
       "      <td>3-8 Yrs</td>\n",
       "    </tr>\n",
       "    <tr>\n",
       "      <th>10</th>\n",
       "      <td>Data Scientist - Internet Jobs - II</td>\n",
       "      <td>Delhi / NCR, Bangalore/Bengaluru, Mumbai (All ...</td>\n",
       "      <td>Jobs Territory</td>\n",
       "      <td>3-6 Yrs</td>\n",
       "    </tr>\n",
       "  </tbody>\n",
       "</table>\n",
       "</div>"
      ],
      "text/plain": [
       "                                Job title  \\\n",
       "1         DigitalBCG GAMMA Data Scientist   \n",
       "2         Senior Associate - Data Science   \n",
       "3        Data Scientist - Noida/Bangalore   \n",
       "4    Data Scientist - Machine learning AI   \n",
       "5                          Data Scientist   \n",
       "6       Data Scientist - Engine Algorithm   \n",
       "7          Data Scientist - MIND Infotech   \n",
       "8   Data Scientist - Predictive Analytics   \n",
       "9                          Data Scientist   \n",
       "10    Data Scientist - Internet Jobs - II   \n",
       "\n",
       "                                         Job location  \\\n",
       "1                      New Delhi, Bangalore/Bengaluru   \n",
       "2   Mumbai, Hyderabad/Secunderabad, Gurgaon/Gurugr...   \n",
       "3                          Noida, Bangalore/Bengaluru   \n",
       "4   Delhi / NCR, Bangalore/Bengaluru, Mumbai (All ...   \n",
       "5         Pune, Gurgaon/Gurugram, Bangalore/Bengaluru   \n",
       "6   Delhi / NCR, Kolkata, Mumbai, Hyderabad/Secund...   \n",
       "7                                               Noida   \n",
       "8   Noida, Mumbai, Chandigarh, Hyderabad/Secundera...   \n",
       "9   Delhi / NCR, Bangalore/Bengaluru, Mumbai (All ...   \n",
       "10  Delhi / NCR, Bangalore/Bengaluru, Mumbai (All ...   \n",
       "\n",
       "                                 Company name Experience required  \n",
       "1                     Boston Consulting Group             2-5 Yrs  \n",
       "2                  Black Turtle India Pvt Ltd             4-7 Yrs  \n",
       "3                                         EXL            5-10 Yrs  \n",
       "4                               Teq Analytics             3-8 Yrs  \n",
       "5   SS Supply Chain Solutions Pvt. Ltd. (3SC)             2-5 Yrs  \n",
       "6                                Primo Hiring             1-3 Yrs  \n",
       "7    MOTHERSONSUMI INFOTECH & DESIGNS LIMITED             4-8 Yrs  \n",
       "8                                Confidential             1-6 Yrs  \n",
       "9             Sydata Consulting India Pvt Ltd             3-8 Yrs  \n",
       "10                             Jobs Territory             3-6 Yrs  "
      ]
     },
     "execution_count": 50,
     "metadata": {},
     "output_type": "execute_result"
    }
   ],
   "source": [
    "df = pd.DataFrame(index = [1,2,3,4,5,6,7,8,9,10])\n",
    "df['Job title'] = jobs\n",
    "df['Job location'] = location\n",
    "df['Company name'] = company\n",
    "df['Experience required'] = experience\n",
    "df"
   ]
  },
  {
   "cell_type": "markdown",
   "id": "9fc7c2b1",
   "metadata": {},
   "source": [
    "# 4. List of 100 sunglasses from flipkart"
   ]
  },
  {
   "cell_type": "code",
   "execution_count": 33,
   "id": "b4ca368d",
   "metadata": {},
   "outputs": [],
   "source": [
    "driver = webdriver.Chrome(r'C:\\Users\\HP\\chromedriver_win32\\chromedriver.exe')"
   ]
  },
  {
   "cell_type": "code",
   "execution_count": 34,
   "id": "5eb98733",
   "metadata": {},
   "outputs": [],
   "source": [
    "url = 'https://www.flipkart.com/'\n",
    "driver.get(url)"
   ]
  },
  {
   "cell_type": "code",
   "execution_count": 79,
   "id": "67b54a06",
   "metadata": {},
   "outputs": [],
   "source": [
    "search = driver.find_element(By.CLASS_NAME,\"_3704LK\")\n",
    "search.send_keys(\"sunglasses\")"
   ]
  },
  {
   "attachments": {
    "Screenshot%202022-07-07%20104155.png": {
     "image/png": "[encoded data removed]"
    }
   },
   "cell_type": "markdown",
   "id": "2c14ee41",
   "metadata": {},
   "source": [
    "### First i need to close the pop-up login credentials since i do not have flipkart account, system is asking me to fill up...if you have already logged in to flipkart, please skip the next line of the code\n",
    "\n",
    "![Screenshot%202022-07-07%20104155.png](attachment:Screenshot%202022-07-07%20104155.png)"
   ]
  },
  {
   "cell_type": "code",
   "execution_count": 80,
   "id": "813cba63",
   "metadata": {},
   "outputs": [],
   "source": [
    "close = driver.find_element(By.XPATH,'/html/body/div[2]/div/div/button')\n",
    "close.click()"
   ]
  },
  {
   "cell_type": "code",
   "execution_count": 81,
   "id": "9f343679",
   "metadata": {},
   "outputs": [],
   "source": [
    "#now, clicking the search icon\n",
    "s_icon = driver.find_element(By.XPATH,'/html/body/div[1]/div/div[1]/div[1]/div[2]/div[2]/form/div/button')\n",
    "s_icon.click()"
   ]
  },
  {
   "cell_type": "markdown",
   "id": "fe3e4144",
   "metadata": {},
   "source": [
    "#### Brand for sunglasses in the 1st page"
   ]
  },
  {
   "cell_type": "code",
   "execution_count": 83,
   "id": "9e21087d",
   "metadata": {},
   "outputs": [],
   "source": [
    "brand = driver.find_elements(By.XPATH,'//div[@class=\"_2WkVRV\"]')"
   ]
  },
  {
   "cell_type": "code",
   "execution_count": 84,
   "id": "a2e4a8ec",
   "metadata": {},
   "outputs": [
    {
     "data": {
      "text/plain": [
       "40"
      ]
     },
     "execution_count": 84,
     "metadata": {},
     "output_type": "execute_result"
    }
   ],
   "source": [
    "brands = []\n",
    "for i in brand:\n",
    "    brands.append(i.text)\n",
    "len(brands)"
   ]
  },
  {
   "cell_type": "markdown",
   "id": "f0120042",
   "metadata": {},
   "source": [
    "#### Product description for sunglasses in the 1st page"
   ]
  },
  {
   "cell_type": "code",
   "execution_count": 85,
   "id": "3bc4a394",
   "metadata": {},
   "outputs": [],
   "source": [
    "p_d = driver.find_elements(By.XPATH,'//a[@class=\"IRpwTa\"]') "
   ]
  },
  {
   "cell_type": "code",
   "execution_count": 86,
   "id": "7167e711",
   "metadata": {},
   "outputs": [
    {
     "data": {
      "text/plain": [
       "40"
      ]
     },
     "execution_count": 86,
     "metadata": {},
     "output_type": "execute_result"
    }
   ],
   "source": [
    "description = []\n",
    "for i in p_d:\n",
    "    description.append(i.text)\n",
    "len(description)"
   ]
  },
  {
   "cell_type": "markdown",
   "id": "bbe406b9",
   "metadata": {},
   "source": [
    "#### Price for sunglasses in the 1st page"
   ]
  },
  {
   "cell_type": "code",
   "execution_count": 87,
   "id": "afa79ff6",
   "metadata": {},
   "outputs": [],
   "source": [
    "p = driver.find_elements(By.XPATH,'//div[@class=\"_30jeq3\"]')"
   ]
  },
  {
   "cell_type": "code",
   "execution_count": 88,
   "id": "cbb347e1",
   "metadata": {},
   "outputs": [
    {
     "data": {
      "text/plain": [
       "40"
      ]
     },
     "execution_count": 88,
     "metadata": {},
     "output_type": "execute_result"
    }
   ],
   "source": [
    "price = []\n",
    "for i in p:\n",
    "    price.append(i.text)\n",
    "len(price)"
   ]
  },
  {
   "cell_type": "markdown",
   "id": "16525d8e",
   "metadata": {},
   "source": [
    "#### Discount for sunglasses in the 1st page"
   ]
  },
  {
   "cell_type": "code",
   "execution_count": 89,
   "id": "75278de0",
   "metadata": {},
   "outputs": [],
   "source": [
    "disc = driver.find_elements(By.XPATH,'//div[@class=\"_3Ay6Sb\"]')"
   ]
  },
  {
   "cell_type": "code",
   "execution_count": 90,
   "id": "cbf032b7",
   "metadata": {},
   "outputs": [
    {
     "data": {
      "text/plain": [
       "40"
      ]
     },
     "execution_count": 90,
     "metadata": {},
     "output_type": "execute_result"
    }
   ],
   "source": [
    "discount1 = []\n",
    "for i in disc:\n",
    "    discount1.append(i.text)\n",
    "len(discount1)"
   ]
  },
  {
   "cell_type": "markdown",
   "id": "8e8c006e",
   "metadata": {},
   "source": [
    "### Going for the 2nd page"
   ]
  },
  {
   "cell_type": "code",
   "execution_count": 91,
   "id": "b5a12fdc",
   "metadata": {},
   "outputs": [],
   "source": [
    "pg2 = driver.find_element(By.XPATH,'//a[@class=\"_1LKTO3\"]')\n",
    "pg2.click()"
   ]
  },
  {
   "cell_type": "markdown",
   "id": "8dde73a2",
   "metadata": {},
   "source": [
    "#### Brand for sunglasses in the 2nd page"
   ]
  },
  {
   "cell_type": "code",
   "execution_count": 92,
   "id": "d3980725",
   "metadata": {},
   "outputs": [],
   "source": [
    "brand2 = driver.find_elements(By.XPATH,'//div[@class=\"_2WkVRV\"]')"
   ]
  },
  {
   "cell_type": "code",
   "execution_count": 93,
   "id": "b08deb48",
   "metadata": {},
   "outputs": [
    {
     "data": {
      "text/plain": [
       "40"
      ]
     },
     "execution_count": 93,
     "metadata": {},
     "output_type": "execute_result"
    }
   ],
   "source": [
    "brand_2 = []\n",
    "for i in brand2:\n",
    "    brand_2.append(i.text)\n",
    "len(brand_2)"
   ]
  },
  {
   "cell_type": "markdown",
   "id": "9a0d12f0",
   "metadata": {},
   "source": [
    "#### Product description for sunglasses in the 2nd page"
   ]
  },
  {
   "cell_type": "code",
   "execution_count": 94,
   "id": "30613197",
   "metadata": {},
   "outputs": [],
   "source": [
    "des2 = driver.find_elements(By.XPATH,'//a[@class=\"IRpwTa\"]')"
   ]
  },
  {
   "cell_type": "code",
   "execution_count": 95,
   "id": "f088256e",
   "metadata": {},
   "outputs": [
    {
     "data": {
      "text/plain": [
       "40"
      ]
     },
     "execution_count": 95,
     "metadata": {},
     "output_type": "execute_result"
    }
   ],
   "source": [
    "description2 = []\n",
    "for i in des2:\n",
    "    description2.append(i.text)\n",
    "len(description2)"
   ]
  },
  {
   "cell_type": "markdown",
   "id": "5eb7c767",
   "metadata": {},
   "source": [
    "#### Price for sunglasses in the 2nd page"
   ]
  },
  {
   "cell_type": "code",
   "execution_count": 96,
   "id": "ba78a511",
   "metadata": {},
   "outputs": [],
   "source": [
    "p2 = driver.find_elements(By.XPATH,'//div[@class=\"_30jeq3\"]')"
   ]
  },
  {
   "cell_type": "code",
   "execution_count": 97,
   "id": "841a1641",
   "metadata": {},
   "outputs": [
    {
     "data": {
      "text/plain": [
       "40"
      ]
     },
     "execution_count": 97,
     "metadata": {},
     "output_type": "execute_result"
    }
   ],
   "source": [
    "price2 = []\n",
    "for i in p2:\n",
    "    price2.append(i.text)\n",
    "len(price2)"
   ]
  },
  {
   "cell_type": "markdown",
   "id": "9727b810",
   "metadata": {},
   "source": [
    "#### Discount for sunglasses in the 2nd page"
   ]
  },
  {
   "cell_type": "code",
   "execution_count": 98,
   "id": "0fd87b33",
   "metadata": {},
   "outputs": [],
   "source": [
    "disc2 = driver.find_elements(By.XPATH,'//div[@class=\"_3Ay6Sb\"]')"
   ]
  },
  {
   "cell_type": "code",
   "execution_count": 99,
   "id": "b06cafb3",
   "metadata": {},
   "outputs": [
    {
     "data": {
      "text/plain": [
       "40"
      ]
     },
     "execution_count": 99,
     "metadata": {},
     "output_type": "execute_result"
    }
   ],
   "source": [
    "discount2 = []\n",
    "for i in disc2:\n",
    "    discount2.append(i.text)\n",
    "len(discount2)"
   ]
  },
  {
   "cell_type": "markdown",
   "id": "43352b56",
   "metadata": {},
   "source": [
    "### Going for the 3rd page"
   ]
  },
  {
   "cell_type": "code",
   "execution_count": 100,
   "id": "846247e4",
   "metadata": {},
   "outputs": [],
   "source": [
    "pg3 = driver.find_element(By.XPATH,'/html/body/div[1]/div/div[3]/div[1]/div[2]/div[12]/div/div/nav/a[12]')\n",
    "pg3.click()"
   ]
  },
  {
   "cell_type": "markdown",
   "id": "2e4b1ff6",
   "metadata": {},
   "source": [
    "#### Brand for sunglasses in the 3rd page "
   ]
  },
  {
   "cell_type": "code",
   "execution_count": 101,
   "id": "11d9dabc",
   "metadata": {},
   "outputs": [],
   "source": [
    "brand_3 = driver.find_elements(By.XPATH,'//div[@class=\"_2WkVRV\"]')"
   ]
  },
  {
   "cell_type": "code",
   "execution_count": 102,
   "id": "5b131628",
   "metadata": {},
   "outputs": [
    {
     "data": {
      "text/plain": [
       "20"
      ]
     },
     "execution_count": 102,
     "metadata": {},
     "output_type": "execute_result"
    }
   ],
   "source": [
    "brand3 = []\n",
    "for i in brand_3:\n",
    "    brand3.append(i.text)\n",
    "brand3 = brand3[:20]\n",
    "len(brand3)"
   ]
  },
  {
   "cell_type": "markdown",
   "id": "13080911",
   "metadata": {},
   "source": [
    "Since we have scraped a total of 80 data in the 1st and 2nd page, we only need to scrape 20 more in the 3rd page."
   ]
  },
  {
   "cell_type": "markdown",
   "id": "d8752245",
   "metadata": {},
   "source": [
    "#### Product description for sunglasses in the 3rd page "
   ]
  },
  {
   "cell_type": "code",
   "execution_count": 103,
   "id": "7180a23c",
   "metadata": {},
   "outputs": [],
   "source": [
    "des3 = driver.find_elements(By.XPATH,'//a[@class=\"IRpwTa\"]')"
   ]
  },
  {
   "cell_type": "code",
   "execution_count": 104,
   "id": "02073cc4",
   "metadata": {},
   "outputs": [
    {
     "data": {
      "text/plain": [
       "20"
      ]
     },
     "execution_count": 104,
     "metadata": {},
     "output_type": "execute_result"
    }
   ],
   "source": [
    "description3 = []\n",
    "for i in des3:\n",
    "    description3.append(i.text)\n",
    "description3 = description[:20]\n",
    "len(description3)"
   ]
  },
  {
   "cell_type": "markdown",
   "id": "ca087e63",
   "metadata": {},
   "source": [
    "#### Price for sunglasses in the 3rd page "
   ]
  },
  {
   "cell_type": "code",
   "execution_count": 108,
   "id": "8f728070",
   "metadata": {},
   "outputs": [],
   "source": [
    "p3 = driver.find_elements(By.XPATH,'//div[@class=\"_30jeq3\"]')"
   ]
  },
  {
   "cell_type": "code",
   "execution_count": 109,
   "id": "4d594a48",
   "metadata": {},
   "outputs": [
    {
     "data": {
      "text/plain": [
       "20"
      ]
     },
     "execution_count": 109,
     "metadata": {},
     "output_type": "execute_result"
    }
   ],
   "source": [
    "price3 = []\n",
    "for i in p3:\n",
    "    price3.append(i.text)\n",
    "price3 = price3[:20]\n",
    "len(price3)"
   ]
  },
  {
   "cell_type": "markdown",
   "id": "0564e655",
   "metadata": {},
   "source": [
    "#### Discount for sunglasses in the 3rd page"
   ]
  },
  {
   "cell_type": "code",
   "execution_count": 110,
   "id": "f5c9f20d",
   "metadata": {},
   "outputs": [],
   "source": [
    "disc3 = driver.find_elements(By.XPATH,'//div[@class=\"_3Ay6Sb\"]')"
   ]
  },
  {
   "cell_type": "code",
   "execution_count": 111,
   "id": "e1dbe3fe",
   "metadata": {},
   "outputs": [
    {
     "data": {
      "text/plain": [
       "20"
      ]
     },
     "execution_count": 111,
     "metadata": {},
     "output_type": "execute_result"
    }
   ],
   "source": [
    "discount3 = []\n",
    "for i in disc3:\n",
    "    discount3.append(i.text)\n",
    "discount3 = discount3[:20]\n",
    "len(discount3)"
   ]
  },
  {
   "cell_type": "markdown",
   "id": "1638d992",
   "metadata": {},
   "source": [
    "### Now, adding each data from the three pages"
   ]
  },
  {
   "cell_type": "code",
   "execution_count": 112,
   "id": "39e7e389",
   "metadata": {},
   "outputs": [
    {
     "name": "stdout",
     "output_type": "stream",
     "text": [
      "100 100 100 100\n"
     ]
    }
   ],
   "source": [
    "Brands = brands + brand2 + brand3\n",
    "Description = description + description2 + description3\n",
    "Price = price + price2 + price3\n",
    "Discount = discount1 + discount2 + discount3\n",
    "print(len(Brands),len(Description),len(Price),len(Discount))"
   ]
  },
  {
   "cell_type": "markdown",
   "id": "8b9e33c6",
   "metadata": {},
   "source": [
    "#### Dataframe for list of 100 sunglasses from flipkart "
   ]
  },
  {
   "cell_type": "code",
   "execution_count": 113,
   "id": "7f332de3",
   "metadata": {
    "scrolled": true
   },
   "outputs": [
    {
     "data": {
      "text/html": [
       "<div>\n",
       "<style scoped>\n",
       "    .dataframe tbody tr th:only-of-type {\n",
       "        vertical-align: middle;\n",
       "    }\n",
       "\n",
       "    .dataframe tbody tr th {\n",
       "        vertical-align: top;\n",
       "    }\n",
       "\n",
       "    .dataframe thead th {\n",
       "        text-align: right;\n",
       "    }\n",
       "</style>\n",
       "<table border=\"1\" class=\"dataframe\">\n",
       "  <thead>\n",
       "    <tr style=\"text-align: right;\">\n",
       "      <th></th>\n",
       "      <th>Brand</th>\n",
       "      <th>Product Description</th>\n",
       "      <th>Price</th>\n",
       "      <th>Discount</th>\n",
       "    </tr>\n",
       "  </thead>\n",
       "  <tbody>\n",
       "    <tr>\n",
       "      <th>1</th>\n",
       "      <td>VINCENT CHASE</td>\n",
       "      <td>UV Protection Rectangular Sunglasses (52)</td>\n",
       "      <td>₹649</td>\n",
       "      <td>67% off</td>\n",
       "    </tr>\n",
       "    <tr>\n",
       "      <th>2</th>\n",
       "      <td>VINCENT CHASE</td>\n",
       "      <td>by Lenskart Polarized, UV Protection Rectangul...</td>\n",
       "      <td>₹749</td>\n",
       "      <td>62% off</td>\n",
       "    </tr>\n",
       "    <tr>\n",
       "      <th>3</th>\n",
       "      <td>Elligator</td>\n",
       "      <td>UV Protection Round Sunglasses (54)</td>\n",
       "      <td>₹315</td>\n",
       "      <td>87% off</td>\n",
       "    </tr>\n",
       "    <tr>\n",
       "      <th>4</th>\n",
       "      <td>Fastrack</td>\n",
       "      <td>UV Protection Rectangular Sunglasses (Free Size)</td>\n",
       "      <td>₹639</td>\n",
       "      <td>20% off</td>\n",
       "    </tr>\n",
       "    <tr>\n",
       "      <th>5</th>\n",
       "      <td>SRPM</td>\n",
       "      <td>UV Protection Wayfarer Sunglasses (50)</td>\n",
       "      <td>₹224</td>\n",
       "      <td>82% off</td>\n",
       "    </tr>\n",
       "    <tr>\n",
       "      <th>...</th>\n",
       "      <td>...</td>\n",
       "      <td>...</td>\n",
       "      <td>...</td>\n",
       "      <td>...</td>\n",
       "    </tr>\n",
       "    <tr>\n",
       "      <th>96</th>\n",
       "      <td>ROYAL SON</td>\n",
       "      <td>UV Protection, Polarized Round Sunglasses (54)</td>\n",
       "      <td>₹616</td>\n",
       "      <td>69% off</td>\n",
       "    </tr>\n",
       "    <tr>\n",
       "      <th>97</th>\n",
       "      <td>kingsunglasses</td>\n",
       "      <td>UV Protection, Polarized, Mirrored Retro Squar...</td>\n",
       "      <td>₹399</td>\n",
       "      <td>80% off</td>\n",
       "    </tr>\n",
       "    <tr>\n",
       "      <th>98</th>\n",
       "      <td>kingsunglasses</td>\n",
       "      <td>UV Protection Aviator Sunglasses (54)</td>\n",
       "      <td>₹949</td>\n",
       "      <td>52% off</td>\n",
       "    </tr>\n",
       "    <tr>\n",
       "      <th>99</th>\n",
       "      <td>PIRASO</td>\n",
       "      <td>UV Protection Aviator Sunglasses (54)</td>\n",
       "      <td>₹699</td>\n",
       "      <td>65% off</td>\n",
       "    </tr>\n",
       "    <tr>\n",
       "      <th>100</th>\n",
       "      <td>VINCENT CHASE</td>\n",
       "      <td>Polarized Retro Square Sunglasses (61)</td>\n",
       "      <td>₹569</td>\n",
       "      <td>71% off</td>\n",
       "    </tr>\n",
       "  </tbody>\n",
       "</table>\n",
       "<p>100 rows × 4 columns</p>\n",
       "</div>"
      ],
      "text/plain": [
       "              Brand                                Product Description Price  \\\n",
       "1     VINCENT CHASE          UV Protection Rectangular Sunglasses (52)  ₹649   \n",
       "2     VINCENT CHASE  by Lenskart Polarized, UV Protection Rectangul...  ₹749   \n",
       "3         Elligator                UV Protection Round Sunglasses (54)  ₹315   \n",
       "4          Fastrack   UV Protection Rectangular Sunglasses (Free Size)  ₹639   \n",
       "5              SRPM             UV Protection Wayfarer Sunglasses (50)  ₹224   \n",
       "..              ...                                                ...   ...   \n",
       "96        ROYAL SON     UV Protection, Polarized Round Sunglasses (54)  ₹616   \n",
       "97   kingsunglasses  UV Protection, Polarized, Mirrored Retro Squar...  ₹399   \n",
       "98   kingsunglasses              UV Protection Aviator Sunglasses (54)  ₹949   \n",
       "99           PIRASO              UV Protection Aviator Sunglasses (54)  ₹699   \n",
       "100   VINCENT CHASE             Polarized Retro Square Sunglasses (61)  ₹569   \n",
       "\n",
       "    Discount  \n",
       "1    67% off  \n",
       "2    62% off  \n",
       "3    87% off  \n",
       "4    20% off  \n",
       "5    82% off  \n",
       "..       ...  \n",
       "96   69% off  \n",
       "97   80% off  \n",
       "98   52% off  \n",
       "99   65% off  \n",
       "100  71% off  \n",
       "\n",
       "[100 rows x 4 columns]"
      ]
     },
     "execution_count": 113,
     "metadata": {},
     "output_type": "execute_result"
    }
   ],
   "source": [
    "df = pd.DataFrame(index=np.arange(1,101))\n",
    "df['Brand'] = Brands\n",
    "df['Product Description'] = Description\n",
    "df['Price'] = Price\n",
    "df['Discount'] = Discount\n",
    "df"
   ]
  },
  {
   "cell_type": "markdown",
   "id": "37fcfed1",
   "metadata": {},
   "source": [
    "# 5. Details for iphone 11 from flipkart"
   ]
  },
  {
   "cell_type": "code",
   "execution_count": 2,
   "id": "ef37dc17",
   "metadata": {},
   "outputs": [],
   "source": [
    "driver = webdriver.Chrome(r'C:\\Users\\HP\\chromedriver_win32\\chromedriver.exe')"
   ]
  },
  {
   "cell_type": "code",
   "execution_count": 3,
   "id": "68134247",
   "metadata": {},
   "outputs": [],
   "source": [
    "url = \"https://www.flipkart.com/\"\n",
    "driver.get(url)"
   ]
  },
  {
   "cell_type": "code",
   "execution_count": 4,
   "id": "e539aa63",
   "metadata": {},
   "outputs": [],
   "source": [
    "# Closing the pop up login credentials\n",
    "close = driver.find_element(By.XPATH,'/html/body/div[2]/div/div/button')\n",
    "close.click()"
   ]
  },
  {
   "cell_type": "code",
   "execution_count": 5,
   "id": "05abc883",
   "metadata": {},
   "outputs": [],
   "source": [
    "# entering input in the search bar\n",
    "search = driver.find_element(By.XPATH,'//input[@class=\"_3704LK\"]')\n",
    "search.send_keys('iphone 11')"
   ]
  },
  {
   "cell_type": "code",
   "execution_count": 6,
   "id": "32712823",
   "metadata": {},
   "outputs": [],
   "source": [
    "# clicking the search icon\n",
    "s_icon = driver.find_element(By.XPATH,'//button[@class=\"L0Z3Pu\"]')\n",
    "s_icon.click()"
   ]
  },
  {
   "cell_type": "code",
   "execution_count": 7,
   "id": "2770052a",
   "metadata": {},
   "outputs": [],
   "source": [
    "# selecting the first iphone 11 that appears on the page first\n",
    "phone = driver.find_element(By.XPATH,'//div[@class=\"_4rR01T\"]')\n",
    "phone.click()"
   ]
  },
  {
   "cell_type": "markdown",
   "id": "77d286f8",
   "metadata": {},
   "source": [
    "#### Ratings for 1st page"
   ]
  },
  {
   "cell_type": "code",
   "execution_count": 8,
   "id": "e8cff0da",
   "metadata": {},
   "outputs": [],
   "source": [
    "rat1 = driver.find_elements(By.XPATH,'//div[@class=\"_3LWZlK _1BLPMq\"]')"
   ]
  },
  {
   "cell_type": "code",
   "execution_count": 9,
   "id": "fd5c4df2",
   "metadata": {},
   "outputs": [
    {
     "data": {
      "text/plain": [
       "[]"
      ]
     },
     "execution_count": 9,
     "metadata": {},
     "output_type": "execute_result"
    }
   ],
   "source": [
    "ratings1 = []\n",
    "for i in rat1:\n",
    "    ratings1.append(i.text)\n",
    "ratings1"
   ]
  },
  {
   "cell_type": "markdown",
   "id": "2b99cd10",
   "metadata": {},
   "source": [
    "#### Review summary for 1st page"
   ]
  },
  {
   "cell_type": "code",
   "execution_count": 103,
   "id": "9f191d7d",
   "metadata": {},
   "outputs": [],
   "source": [
    "review1 = driver.find_elements(By.CLASS_NAME,\"_2-N8zT\")"
   ]
  },
  {
   "cell_type": "code",
   "execution_count": 104,
   "id": "f54495ab",
   "metadata": {},
   "outputs": [
    {
     "data": {
      "text/plain": [
       "[]"
      ]
     },
     "execution_count": 104,
     "metadata": {},
     "output_type": "execute_result"
    }
   ],
   "source": [
    "reviews1 = []\n",
    "for i in review1:\n",
    "    reviews1.append(i.text)\n",
    "reviews1"
   ]
  },
  {
   "cell_type": "code",
   "execution_count": null,
   "id": "99383a81",
   "metadata": {},
   "outputs": [],
   "source": []
  },
  {
   "cell_type": "code",
   "execution_count": null,
   "id": "dd86f1e2",
   "metadata": {},
   "outputs": [],
   "source": []
  },
  {
   "cell_type": "code",
   "execution_count": null,
   "id": "1e9d3fa7",
   "metadata": {},
   "outputs": [],
   "source": []
  },
  {
   "cell_type": "code",
   "execution_count": null,
   "id": "a03da261",
   "metadata": {},
   "outputs": [],
   "source": []
  },
  {
   "cell_type": "markdown",
   "id": "e4bfa2ea",
   "metadata": {},
   "source": [
    "# 6. First 100 sneakers from flipkart"
   ]
  },
  {
   "cell_type": "code",
   "execution_count": 20,
   "id": "4efba9f3",
   "metadata": {},
   "outputs": [],
   "source": [
    "driver = webdriver.Chrome(r'C:\\Users\\HP\\chromedriver_win32\\chromedriver.exe')"
   ]
  },
  {
   "cell_type": "code",
   "execution_count": 21,
   "id": "97425b30",
   "metadata": {},
   "outputs": [],
   "source": [
    "url = \"https://www.flipkart.com/\"\n",
    "driver.get(url)"
   ]
  },
  {
   "cell_type": "code",
   "execution_count": 22,
   "id": "24ab36ca",
   "metadata": {},
   "outputs": [],
   "source": [
    "# close the pop up login credentials\n",
    "close = driver.find_element(By.XPATH,'/html/body/div[2]/div/div/button')\n",
    "close.click()"
   ]
  },
  {
   "cell_type": "code",
   "execution_count": 23,
   "id": "df84200b",
   "metadata": {},
   "outputs": [],
   "source": [
    "# entering input in the search bar\n",
    "search = driver.find_element(By.XPATH,'//input[@class=\"_3704LK\"]')\n",
    "search.send_keys('sneakers')"
   ]
  },
  {
   "cell_type": "code",
   "execution_count": 24,
   "id": "e945bf90",
   "metadata": {},
   "outputs": [],
   "source": [
    "# clicking the search icon\n",
    "s_icon = driver.find_element(By.XPATH,'//button[@class=\"L0Z3Pu\"]')\n",
    "s_icon.click()"
   ]
  },
  {
   "cell_type": "markdown",
   "id": "555f864e",
   "metadata": {},
   "source": [
    "#### Brand of sneakers in the 1st page"
   ]
  },
  {
   "cell_type": "code",
   "execution_count": 25,
   "id": "955479d7",
   "metadata": {},
   "outputs": [],
   "source": [
    "brand1 = driver.find_elements(By.XPATH,'//div[@class=\"_2WkVRV\"]')"
   ]
  },
  {
   "cell_type": "code",
   "execution_count": 26,
   "id": "f56c3535",
   "metadata": {},
   "outputs": [
    {
     "data": {
      "text/plain": [
       "40"
      ]
     },
     "execution_count": 26,
     "metadata": {},
     "output_type": "execute_result"
    }
   ],
   "source": [
    "brands1 = []\n",
    "for i in brand1:\n",
    "    brands1.append(i.text)\n",
    "len(brands1)"
   ]
  },
  {
   "cell_type": "markdown",
   "id": "826e283c",
   "metadata": {},
   "source": [
    "#### Product description of sneakers in the 1st page"
   ]
  },
  {
   "cell_type": "code",
   "execution_count": 37,
   "id": "33548c87",
   "metadata": {},
   "outputs": [],
   "source": [
    "des1 = driver.find_elements(By.CLASS_NAME,'IRpwTa')"
   ]
  },
  {
   "cell_type": "code",
   "execution_count": 40,
   "id": "fb54a013",
   "metadata": {},
   "outputs": [
    {
     "data": {
      "text/plain": [
       "40"
      ]
     },
     "execution_count": 40,
     "metadata": {},
     "output_type": "execute_result"
    }
   ],
   "source": [
    "desc1 = []\n",
    "for i in des1:\n",
    "    desc1.append(i.text)\n",
    "len(desc1)"
   ]
  },
  {
   "cell_type": "markdown",
   "id": "a73ac6f7",
   "metadata": {},
   "source": [
    "#### Price of sneakers in the 1st page"
   ]
  },
  {
   "cell_type": "code",
   "execution_count": 42,
   "id": "0d9e2ee6",
   "metadata": {},
   "outputs": [],
   "source": [
    "p1 = driver.find_elements(By.XPATH,'//div[@class=\"_30jeq3\"]')"
   ]
  },
  {
   "cell_type": "code",
   "execution_count": 43,
   "id": "e627ee87",
   "metadata": {},
   "outputs": [
    {
     "data": {
      "text/plain": [
       "40"
      ]
     },
     "execution_count": 43,
     "metadata": {},
     "output_type": "execute_result"
    }
   ],
   "source": [
    "price1 = []\n",
    "for i in p1:\n",
    "    price1.append(i.text)\n",
    "len(price1)"
   ]
  },
  {
   "cell_type": "markdown",
   "id": "8b384b63",
   "metadata": {},
   "source": [
    "#### Discount on sneakers in the 1st page"
   ]
  },
  {
   "cell_type": "code",
   "execution_count": 44,
   "id": "7be3d564",
   "metadata": {},
   "outputs": [],
   "source": [
    "disc1 = driver.find_elements(By.XPATH,'//div[@class=\"_3Ay6Sb\"]')"
   ]
  },
  {
   "cell_type": "code",
   "execution_count": 46,
   "id": "2707b495",
   "metadata": {},
   "outputs": [
    {
     "data": {
      "text/plain": [
       "40"
      ]
     },
     "execution_count": 46,
     "metadata": {},
     "output_type": "execute_result"
    }
   ],
   "source": [
    "discount1 = []\n",
    "for i in disc1:\n",
    "    discount1.append(i.text)\n",
    "len(discount1)"
   ]
  },
  {
   "cell_type": "markdown",
   "id": "b902fa63",
   "metadata": {},
   "source": [
    "### Next page"
   ]
  },
  {
   "cell_type": "code",
   "execution_count": 51,
   "id": "6c553e84",
   "metadata": {},
   "outputs": [],
   "source": [
    "page_2 = driver.find_element(By.XPATH,'/html/body/div[1]/div/div[3]/div[1]/div[2]/div[12]/div/div/nav/a[11]')\n",
    "page_2.click()"
   ]
  },
  {
   "cell_type": "markdown",
   "id": "b55afafe",
   "metadata": {},
   "source": [
    "#### Brand of sneakers in the 2nd page"
   ]
  },
  {
   "cell_type": "code",
   "execution_count": 53,
   "id": "e0343b20",
   "metadata": {},
   "outputs": [],
   "source": [
    "brand2 = driver.find_elements(By.XPATH,'//div[@class=\"_2WkVRV\"]')"
   ]
  },
  {
   "cell_type": "code",
   "execution_count": 54,
   "id": "860d72ee",
   "metadata": {},
   "outputs": [
    {
     "data": {
      "text/plain": [
       "40"
      ]
     },
     "execution_count": 54,
     "metadata": {},
     "output_type": "execute_result"
    }
   ],
   "source": [
    "brands2 = []\n",
    "for i in brand2:\n",
    "    brands2.append(i.text)\n",
    "len(brands2)"
   ]
  },
  {
   "cell_type": "markdown",
   "id": "6060f96f",
   "metadata": {},
   "source": [
    "#### Product description of sneakers in the 2nd page"
   ]
  },
  {
   "cell_type": "code",
   "execution_count": 58,
   "id": "eb308311",
   "metadata": {},
   "outputs": [],
   "source": [
    "des2 = driver.find_elements(By.CLASS_NAME,\"IRpwTa\")"
   ]
  },
  {
   "cell_type": "code",
   "execution_count": 59,
   "id": "3b4f511b",
   "metadata": {},
   "outputs": [
    {
     "data": {
      "text/plain": [
       "40"
      ]
     },
     "execution_count": 59,
     "metadata": {},
     "output_type": "execute_result"
    }
   ],
   "source": [
    "desc2 = []\n",
    "for i in des2:\n",
    "    desc2.append(i.text)\n",
    "len(desc2)"
   ]
  },
  {
   "cell_type": "markdown",
   "id": "9d1833dd",
   "metadata": {},
   "source": [
    "#### Price of sneakers in the 2nd page"
   ]
  },
  {
   "cell_type": "code",
   "execution_count": 60,
   "id": "f28455ea",
   "metadata": {},
   "outputs": [],
   "source": [
    "p2 = driver.find_elements(By.XPATH,'//div[@class=\"_30jeq3\"]')"
   ]
  },
  {
   "cell_type": "code",
   "execution_count": 62,
   "id": "c4493656",
   "metadata": {},
   "outputs": [
    {
     "data": {
      "text/plain": [
       "40"
      ]
     },
     "execution_count": 62,
     "metadata": {},
     "output_type": "execute_result"
    }
   ],
   "source": [
    "price2 = []\n",
    "for i in p2:\n",
    "    price2.append(i.text)\n",
    "len(price2)"
   ]
  },
  {
   "cell_type": "markdown",
   "id": "3e90b963",
   "metadata": {},
   "source": [
    "#### Discount on sneakers in the 2nd page"
   ]
  },
  {
   "cell_type": "code",
   "execution_count": 63,
   "id": "3a9be5da",
   "metadata": {},
   "outputs": [],
   "source": [
    "disc2 = driver.find_elements(By.XPATH,'//div[@class=\"_3Ay6Sb\"]')"
   ]
  },
  {
   "cell_type": "code",
   "execution_count": 65,
   "id": "4e1a806e",
   "metadata": {},
   "outputs": [
    {
     "data": {
      "text/plain": [
       "40"
      ]
     },
     "execution_count": 65,
     "metadata": {},
     "output_type": "execute_result"
    }
   ],
   "source": [
    "discount2 = []\n",
    "for i in disc2:\n",
    "    discount2.append(i.text)\n",
    "len(discount2)"
   ]
  },
  {
   "cell_type": "markdown",
   "id": "464d7d37",
   "metadata": {},
   "source": [
    "### 3rd page"
   ]
  },
  {
   "cell_type": "code",
   "execution_count": 66,
   "id": "29629cdb",
   "metadata": {},
   "outputs": [],
   "source": [
    "page_3 = driver.find_element(By.XPATH,'/html/body/div[1]/div/div[3]/div[1]/div[2]/div[12]/div/div/nav/a[12]')\n",
    "page_3.click()"
   ]
  },
  {
   "cell_type": "markdown",
   "id": "59057b85",
   "metadata": {},
   "source": [
    "#### Brand of sneakers in the 3rd page"
   ]
  },
  {
   "cell_type": "code",
   "execution_count": 67,
   "id": "345b12f9",
   "metadata": {},
   "outputs": [],
   "source": [
    "brand3 = driver.find_elements(By.XPATH,'//div[@class=\"_2WkVRV\"]')"
   ]
  },
  {
   "cell_type": "code",
   "execution_count": 83,
   "id": "8ea922fd",
   "metadata": {},
   "outputs": [
    {
     "data": {
      "text/plain": [
       "20"
      ]
     },
     "execution_count": 83,
     "metadata": {},
     "output_type": "execute_result"
    }
   ],
   "source": [
    "brands3 = []\n",
    "for i in brand3:\n",
    "    brands3.append(i.text)\n",
    "brands3 = brands3[:20]\n",
    "len(brands3)"
   ]
  },
  {
   "cell_type": "markdown",
   "id": "7ce91abe",
   "metadata": {},
   "source": [
    "#### Product description of sneakers in the 3rd page"
   ]
  },
  {
   "cell_type": "code",
   "execution_count": 75,
   "id": "c11cff68",
   "metadata": {},
   "outputs": [],
   "source": [
    "des3 = driver.find_elements(By.CLASS_NAME,\"IRpwTa\")"
   ]
  },
  {
   "cell_type": "code",
   "execution_count": 80,
   "id": "5898140b",
   "metadata": {},
   "outputs": [
    {
     "data": {
      "text/plain": [
       "20"
      ]
     },
     "execution_count": 80,
     "metadata": {},
     "output_type": "execute_result"
    }
   ],
   "source": [
    "desc3 = []\n",
    "for i in des3:\n",
    "    desc3.append(i.text)\n",
    "desc3 = desc3[:20]\n",
    "len(desc3)"
   ]
  },
  {
   "cell_type": "markdown",
   "id": "e3250191",
   "metadata": {},
   "source": [
    "#### Price of sneakers in the 3rd page"
   ]
  },
  {
   "cell_type": "code",
   "execution_count": 70,
   "id": "09aeaaa2",
   "metadata": {},
   "outputs": [],
   "source": [
    "p3 = driver.find_elements(By.XPATH,'//div[@class=\"_30jeq3\"]')"
   ]
  },
  {
   "cell_type": "code",
   "execution_count": 81,
   "id": "a3ec6210",
   "metadata": {},
   "outputs": [
    {
     "data": {
      "text/plain": [
       "20"
      ]
     },
     "execution_count": 81,
     "metadata": {},
     "output_type": "execute_result"
    }
   ],
   "source": [
    "price3 = []\n",
    "for i in p3:\n",
    "    price3.append(i.text)\n",
    "price3 = price3[:20]\n",
    "len(price3)"
   ]
  },
  {
   "cell_type": "markdown",
   "id": "4982bbba",
   "metadata": {},
   "source": [
    "#### Discount on sneakers in the 3rd page"
   ]
  },
  {
   "cell_type": "code",
   "execution_count": 77,
   "id": "bb5a69b9",
   "metadata": {},
   "outputs": [],
   "source": [
    "disc3 = driver.find_elements(By.XPATH,'//div[@class=\"_3Ay6Sb\"]')"
   ]
  },
  {
   "cell_type": "code",
   "execution_count": 82,
   "id": "748c6b69",
   "metadata": {},
   "outputs": [
    {
     "data": {
      "text/plain": [
       "20"
      ]
     },
     "execution_count": 82,
     "metadata": {},
     "output_type": "execute_result"
    }
   ],
   "source": [
    "discount3 = []\n",
    "for i in disc3:\n",
    "    discount3.append(i.text)\n",
    "discount3 = discount3[:20]\n",
    "len(discount3)"
   ]
  },
  {
   "cell_type": "markdown",
   "id": "a62d18af",
   "metadata": {},
   "source": [
    "### First 100 sneakers"
   ]
  },
  {
   "cell_type": "code",
   "execution_count": 85,
   "id": "60c66355",
   "metadata": {},
   "outputs": [],
   "source": [
    "Brand = brands1 + brands2 + brands3\n",
    "Product_desc = desc1 + desc2 + desc3\n",
    "Price = price1 + price2 + price3\n",
    "Discount = discount1 + discount2 + discount3"
   ]
  },
  {
   "cell_type": "code",
   "execution_count": 86,
   "id": "34248626",
   "metadata": {},
   "outputs": [
    {
     "name": "stdout",
     "output_type": "stream",
     "text": [
      "100 100 100 100\n"
     ]
    }
   ],
   "source": [
    "print(len(Brand),len(Product_desc),len(Price),len(Discount))"
   ]
  },
  {
   "cell_type": "code",
   "execution_count": 87,
   "id": "8734360f",
   "metadata": {},
   "outputs": [
    {
     "data": {
      "text/html": [
       "<div>\n",
       "<style scoped>\n",
       "    .dataframe tbody tr th:only-of-type {\n",
       "        vertical-align: middle;\n",
       "    }\n",
       "\n",
       "    .dataframe tbody tr th {\n",
       "        vertical-align: top;\n",
       "    }\n",
       "\n",
       "    .dataframe thead th {\n",
       "        text-align: right;\n",
       "    }\n",
       "</style>\n",
       "<table border=\"1\" class=\"dataframe\">\n",
       "  <thead>\n",
       "    <tr style=\"text-align: right;\">\n",
       "      <th></th>\n",
       "      <th>Brand</th>\n",
       "      <th>Product Description</th>\n",
       "      <th>Price</th>\n",
       "      <th>Discount</th>\n",
       "    </tr>\n",
       "  </thead>\n",
       "  <tbody>\n",
       "    <tr>\n",
       "      <th>0</th>\n",
       "      <td>BIRDE</td>\n",
       "      <td>Stylish and Trendy New Design Lightweight, Bre...</td>\n",
       "      <td>₹378</td>\n",
       "      <td>62% off</td>\n",
       "    </tr>\n",
       "    <tr>\n",
       "      <th>1</th>\n",
       "      <td>LE GREEM</td>\n",
       "      <td>Sneakers For Men</td>\n",
       "      <td>₹499</td>\n",
       "      <td>50% off</td>\n",
       "    </tr>\n",
       "    <tr>\n",
       "      <th>2</th>\n",
       "      <td>WOODLAND</td>\n",
       "      <td>Sneakers For Men</td>\n",
       "      <td>₹2,096</td>\n",
       "      <td>30% off</td>\n",
       "    </tr>\n",
       "    <tr>\n",
       "      <th>3</th>\n",
       "      <td>BRUTON</td>\n",
       "      <td>Modern Trendy Sneakers Shoes Sneakers For Men</td>\n",
       "      <td>₹269</td>\n",
       "      <td>79% off</td>\n",
       "    </tr>\n",
       "    <tr>\n",
       "      <th>4</th>\n",
       "      <td>BRUTON</td>\n",
       "      <td>Modern Trendy Sneakers Shoes Sneakers For Men</td>\n",
       "      <td>₹299</td>\n",
       "      <td>76% off</td>\n",
       "    </tr>\n",
       "    <tr>\n",
       "      <th>...</th>\n",
       "      <td>...</td>\n",
       "      <td>...</td>\n",
       "      <td>...</td>\n",
       "      <td>...</td>\n",
       "    </tr>\n",
       "    <tr>\n",
       "      <th>95</th>\n",
       "      <td>Bacan</td>\n",
       "      <td>Sneakers For Men</td>\n",
       "      <td>₹526</td>\n",
       "      <td>47% off</td>\n",
       "    </tr>\n",
       "    <tr>\n",
       "      <th>96</th>\n",
       "      <td>corsac</td>\n",
       "      <td>STYLISH MENS BLACK TRENDY SNEAKER FOR MENS Sne...</td>\n",
       "      <td>₹499</td>\n",
       "      <td>66% off</td>\n",
       "    </tr>\n",
       "    <tr>\n",
       "      <th>97</th>\n",
       "      <td>Chevit</td>\n",
       "      <td>Unique &amp; Perfect Collection Combo Pack of 02 S...</td>\n",
       "      <td>₹424</td>\n",
       "      <td>71% off</td>\n",
       "    </tr>\n",
       "    <tr>\n",
       "      <th>98</th>\n",
       "      <td>Robbie jones</td>\n",
       "      <td>Sneakers For Men</td>\n",
       "      <td>₹499</td>\n",
       "      <td>50% off</td>\n",
       "    </tr>\n",
       "    <tr>\n",
       "      <th>99</th>\n",
       "      <td>LE GREEM</td>\n",
       "      <td>Sneakers For Men</td>\n",
       "      <td>₹499</td>\n",
       "      <td>50% off</td>\n",
       "    </tr>\n",
       "  </tbody>\n",
       "</table>\n",
       "<p>100 rows × 4 columns</p>\n",
       "</div>"
      ],
      "text/plain": [
       "           Brand                                Product Description   Price  \\\n",
       "0          BIRDE  Stylish and Trendy New Design Lightweight, Bre...    ₹378   \n",
       "1       LE GREEM                                   Sneakers For Men    ₹499   \n",
       "2       WOODLAND                                   Sneakers For Men  ₹2,096   \n",
       "3         BRUTON      Modern Trendy Sneakers Shoes Sneakers For Men    ₹269   \n",
       "4         BRUTON      Modern Trendy Sneakers Shoes Sneakers For Men    ₹299   \n",
       "..           ...                                                ...     ...   \n",
       "95         Bacan                                   Sneakers For Men    ₹526   \n",
       "96        corsac  STYLISH MENS BLACK TRENDY SNEAKER FOR MENS Sne...    ₹499   \n",
       "97        Chevit  Unique & Perfect Collection Combo Pack of 02 S...    ₹424   \n",
       "98  Robbie jones                                   Sneakers For Men    ₹499   \n",
       "99      LE GREEM                                   Sneakers For Men    ₹499   \n",
       "\n",
       "   Discount  \n",
       "0   62% off  \n",
       "1   50% off  \n",
       "2   30% off  \n",
       "3   79% off  \n",
       "4   76% off  \n",
       "..      ...  \n",
       "95  47% off  \n",
       "96  66% off  \n",
       "97  71% off  \n",
       "98  50% off  \n",
       "99  50% off  \n",
       "\n",
       "[100 rows x 4 columns]"
      ]
     },
     "execution_count": 87,
     "metadata": {},
     "output_type": "execute_result"
    }
   ],
   "source": [
    "df = pd.DataFrame()\n",
    "df['Brand'] = Brand\n",
    "df['Product Description'] = Product_desc\n",
    "df['Price'] = Price\n",
    "df['Discount'] = Discount\n",
    "df"
   ]
  },
  {
   "cell_type": "markdown",
   "id": "9b2d6302",
   "metadata": {},
   "source": [
    "# 7. First 100 shoes in Myntra with applying some filters"
   ]
  },
  {
   "cell_type": "code",
   "execution_count": 106,
   "id": "60a83776",
   "metadata": {},
   "outputs": [],
   "source": [
    "driver = webdriver.Chrome(r'C:\\Users\\HP\\chromedriver_win32\\chromedriver.exe')"
   ]
  },
  {
   "cell_type": "code",
   "execution_count": 107,
   "id": "404d8918",
   "metadata": {},
   "outputs": [],
   "source": [
    "url = \"https://www.myntra.com/shoes\"\n",
    "driver.get(url)"
   ]
  },
  {
   "cell_type": "markdown",
   "id": "b06f39c9",
   "metadata": {},
   "source": [
    "#### Check the price and colour filters\n",
    "\n",
    "#### I cannot inspect any data from myntra...when i tried using Beautiful Soup and check the response, it took too long to respond and i just close it...i don't know how to proceed."
   ]
  },
  {
   "cell_type": "code",
   "execution_count": null,
   "id": "e598a5ff",
   "metadata": {},
   "outputs": [],
   "source": []
  },
  {
   "cell_type": "code",
   "execution_count": null,
   "id": "28479b6e",
   "metadata": {},
   "outputs": [],
   "source": []
  },
  {
   "cell_type": "code",
   "execution_count": null,
   "id": "6c7328ac",
   "metadata": {},
   "outputs": [],
   "source": []
  },
  {
   "cell_type": "code",
   "execution_count": null,
   "id": "94f248f9",
   "metadata": {},
   "outputs": [],
   "source": []
  },
  {
   "cell_type": "markdown",
   "id": "48944e1c",
   "metadata": {},
   "source": [
    "# 8. First 10 laptops in amazon"
   ]
  },
  {
   "cell_type": "code",
   "execution_count": 105,
   "id": "b713a2e7",
   "metadata": {},
   "outputs": [],
   "source": [
    "driver = webdriver.Chrome(r'C:\\Users\\HP\\chromedriver_win32\\chromedriver.exe')"
   ]
  },
  {
   "cell_type": "code",
   "execution_count": 106,
   "id": "4bad6e7a",
   "metadata": {},
   "outputs": [],
   "source": [
    "url = \"http://www.amazon.in/\"\n",
    "driver.get(url)"
   ]
  },
  {
   "cell_type": "code",
   "execution_count": 107,
   "id": "aee583b6",
   "metadata": {},
   "outputs": [],
   "source": [
    "# Entering in the search field\n",
    "search = driver.find_element(By.XPATH,'//input[@type=\"text\"]')\n",
    "search.send_keys('Laptop')"
   ]
  },
  {
   "cell_type": "code",
   "execution_count": 108,
   "id": "31486b1a",
   "metadata": {},
   "outputs": [],
   "source": [
    "# clicking the search button\n",
    "s_button = driver.find_element(By.XPATH,'/html/body/div[1]/header/div/div[1]/div[2]/div/form/div[3]/div/span/input')\n",
    "s_button.click()"
   ]
  },
  {
   "cell_type": "code",
   "execution_count": 111,
   "id": "b2cfb31a",
   "metadata": {},
   "outputs": [],
   "source": [
    "# Check the filter for CPU\n",
    "cpu = driver.find_element(By.XPATH,'/html/body/div[1]/div[2]/div[1]/div[2]/div/div[3]/span/div[1]/div/div/div[5]/ul[2]/li[12]/span/a/div')\n",
    "cpu.click()"
   ]
  },
  {
   "cell_type": "markdown",
   "id": "dd413057",
   "metadata": {},
   "source": [
    "#### Title for first 10 laptops"
   ]
  },
  {
   "cell_type": "code",
   "execution_count": 112,
   "id": "e85edb20",
   "metadata": {},
   "outputs": [],
   "source": [
    "title = driver.find_elements(By.XPATH,'//span[@class=\"a-size-medium a-color-base a-text-normal\"]')"
   ]
  },
  {
   "cell_type": "code",
   "execution_count": 113,
   "id": "f1da9d68",
   "metadata": {},
   "outputs": [
    {
     "data": {
      "text/plain": [
       "10"
      ]
     },
     "execution_count": 113,
     "metadata": {},
     "output_type": "execute_result"
    }
   ],
   "source": [
    "titles = []\n",
    "for i in title:\n",
    "    titles.append(i.text)\n",
    "titles = titles[:10]\n",
    "len(titles)"
   ]
  },
  {
   "cell_type": "markdown",
   "id": "0b475231",
   "metadata": {},
   "source": [
    "#### Ratings for first 10 laptops"
   ]
  },
  {
   "cell_type": "code",
   "execution_count": 120,
   "id": "d795131a",
   "metadata": {},
   "outputs": [],
   "source": [
    "rating = driver.find_elements(By.XPATH,'//span[@class=\"a-size-medium a-color-base a-text-beside-button a-text-bold\"]')"
   ]
  },
  {
   "cell_type": "code",
   "execution_count": 119,
   "id": "108ace3e",
   "metadata": {},
   "outputs": [
    {
     "data": {
      "text/plain": [
       "['']"
      ]
     },
     "execution_count": 119,
     "metadata": {},
     "output_type": "execute_result"
    }
   ],
   "source": [
    "ratings = []\n",
    "for i in rating:\n",
    "    ratings.append(i.text)\n",
    "ratings"
   ]
  },
  {
   "cell_type": "markdown",
   "id": "c1eba961",
   "metadata": {},
   "source": [
    "#### Price for first 10 laptops "
   ]
  },
  {
   "cell_type": "code",
   "execution_count": 165,
   "id": "5ba482f5",
   "metadata": {},
   "outputs": [],
   "source": [
    "price = driver.find_elements(By.XPATH,'//span[@class=\"a-price-whole\"]')"
   ]
  },
  {
   "cell_type": "code",
   "execution_count": 166,
   "id": "ab4899f3",
   "metadata": {},
   "outputs": [
    {
     "data": {
      "text/plain": [
       "10"
      ]
     },
     "execution_count": 166,
     "metadata": {},
     "output_type": "execute_result"
    }
   ],
   "source": [
    "prices = []\n",
    "for i in price:\n",
    "    prices.append(i.text)\n",
    "prices = prices[:10]\n",
    "len(prices)"
   ]
  },
  {
   "cell_type": "code",
   "execution_count": 167,
   "id": "7df4089c",
   "metadata": {},
   "outputs": [
    {
     "name": "stdout",
     "output_type": "stream",
     "text": [
      "10 10\n"
     ]
    }
   ],
   "source": [
    "print(len(titles),len(prices))"
   ]
  },
  {
   "cell_type": "code",
   "execution_count": 168,
   "id": "662616eb",
   "metadata": {},
   "outputs": [
    {
     "data": {
      "text/html": [
       "<div>\n",
       "<style scoped>\n",
       "    .dataframe tbody tr th:only-of-type {\n",
       "        vertical-align: middle;\n",
       "    }\n",
       "\n",
       "    .dataframe tbody tr th {\n",
       "        vertical-align: top;\n",
       "    }\n",
       "\n",
       "    .dataframe thead th {\n",
       "        text-align: right;\n",
       "    }\n",
       "</style>\n",
       "<table border=\"1\" class=\"dataframe\">\n",
       "  <thead>\n",
       "    <tr style=\"text-align: right;\">\n",
       "      <th></th>\n",
       "      <th>Title</th>\n",
       "      <th>Price</th>\n",
       "    </tr>\n",
       "  </thead>\n",
       "  <tbody>\n",
       "    <tr>\n",
       "      <th>0</th>\n",
       "      <td>HP 15s 12thGen IntelCore i5 8GB RAM/512GB SSD ...</td>\n",
       "      <td>54,290</td>\n",
       "    </tr>\n",
       "    <tr>\n",
       "      <th>1</th>\n",
       "      <td>Lenovo IdeaPad Slim 5 Intel Core i5 11th Gen 1...</td>\n",
       "      <td>58,800</td>\n",
       "    </tr>\n",
       "    <tr>\n",
       "      <th>2</th>\n",
       "      <td>Lenovo IdeaPad 3 11th Gen Intel Core i3 15.6\" ...</td>\n",
       "      <td>36,990</td>\n",
       "    </tr>\n",
       "    <tr>\n",
       "      <th>3</th>\n",
       "      <td>Hp 15S 11Th Gen Intel Core I5 15.6 Inches Fhd ...</td>\n",
       "      <td>52,950</td>\n",
       "    </tr>\n",
       "    <tr>\n",
       "      <th>4</th>\n",
       "      <td>(Renewed) Dell Latitude E5470 Intel Core i5 6t...</td>\n",
       "      <td>23,786</td>\n",
       "    </tr>\n",
       "    <tr>\n",
       "      <th>5</th>\n",
       "      <td>Lenovo Ideapad Slim 3 10Th Gen Intel Core I5 1...</td>\n",
       "      <td>50,799</td>\n",
       "    </tr>\n",
       "    <tr>\n",
       "      <th>6</th>\n",
       "      <td>(Renewed) Lenovo ThinkPad T420 Intel 2nd Gen C...</td>\n",
       "      <td>17,970</td>\n",
       "    </tr>\n",
       "    <tr>\n",
       "      <th>7</th>\n",
       "      <td>Honor MagicBook X 14, Intel Core i5-10210U 14 ...</td>\n",
       "      <td>42,990</td>\n",
       "    </tr>\n",
       "    <tr>\n",
       "      <th>8</th>\n",
       "      <td>MSI Modern 14, Intel i5-10210U, 14\" FHD IPS-Le...</td>\n",
       "      <td>41,990</td>\n",
       "    </tr>\n",
       "    <tr>\n",
       "      <th>9</th>\n",
       "      <td>Lenovo IdeaPad Slim 3 10th Gen Intel Core i5 1...</td>\n",
       "      <td>46,990</td>\n",
       "    </tr>\n",
       "  </tbody>\n",
       "</table>\n",
       "</div>"
      ],
      "text/plain": [
       "                                               Title   Price\n",
       "0  HP 15s 12thGen IntelCore i5 8GB RAM/512GB SSD ...  54,290\n",
       "1  Lenovo IdeaPad Slim 5 Intel Core i5 11th Gen 1...  58,800\n",
       "2  Lenovo IdeaPad 3 11th Gen Intel Core i3 15.6\" ...  36,990\n",
       "3  Hp 15S 11Th Gen Intel Core I5 15.6 Inches Fhd ...  52,950\n",
       "4  (Renewed) Dell Latitude E5470 Intel Core i5 6t...  23,786\n",
       "5  Lenovo Ideapad Slim 3 10Th Gen Intel Core I5 1...  50,799\n",
       "6  (Renewed) Lenovo ThinkPad T420 Intel 2nd Gen C...  17,970\n",
       "7  Honor MagicBook X 14, Intel Core i5-10210U 14 ...  42,990\n",
       "8  MSI Modern 14, Intel i5-10210U, 14\" FHD IPS-Le...  41,990\n",
       "9  Lenovo IdeaPad Slim 3 10th Gen Intel Core i5 1...  46,990"
      ]
     },
     "execution_count": 168,
     "metadata": {},
     "output_type": "execute_result"
    }
   ],
   "source": [
    "df = pd.DataFrame()\n",
    "df['Title'] = titles\n",
    "df['Price'] = prices\n",
    "df"
   ]
  },
  {
   "cell_type": "markdown",
   "id": "cb1caf12",
   "metadata": {},
   "source": [
    "# 9. First 10 Data Scientist job in Noida"
   ]
  },
  {
   "cell_type": "code",
   "execution_count": 85,
   "id": "851b8c88",
   "metadata": {},
   "outputs": [],
   "source": [
    "driver = webdriver.Chrome(r'C:\\Users\\HP\\chromedriver_win32\\chromedriver.exe')"
   ]
  },
  {
   "cell_type": "code",
   "execution_count": 86,
   "id": "39a9184f",
   "metadata": {},
   "outputs": [],
   "source": [
    "url = \"http://www.ambitionbox.com/\"\n",
    "driver.get(url)"
   ]
  },
  {
   "cell_type": "code",
   "execution_count": 89,
   "id": "75d6e873",
   "metadata": {},
   "outputs": [],
   "source": [
    "# clicking the job option\n",
    "jobs = driver.find_element(By.XPATH,'/html/body/div[1]/nav/nav/a[6]')\n",
    "jobs.click()"
   ]
  },
  {
   "cell_type": "code",
   "execution_count": 90,
   "id": "0aea328b",
   "metadata": {},
   "outputs": [],
   "source": [
    "# Entering in the search field\n",
    "search = driver.find_element(By.XPATH,'/html/body/div/div/div/div[2]/div[1]/div[1]/div/div/div/div/span/input')\n",
    "search.send_keys('Data Scientist')"
   ]
  },
  {
   "cell_type": "code",
   "execution_count": 91,
   "id": "dbca6862",
   "metadata": {},
   "outputs": [],
   "source": [
    "# Clicking the search button\n",
    "s_button = driver.find_element(By.XPATH,'/html/body/div/div/div/div[2]/div[1]/div[1]/div/div/div/button/span')\n",
    "s_button.click()"
   ]
  },
  {
   "cell_type": "code",
   "execution_count": 92,
   "id": "24ef5511",
   "metadata": {},
   "outputs": [],
   "source": [
    "# Clicking location button\n",
    "loc = driver.find_element(By.XPATH,'/html/body/div/div/div/div[2]/div[1]/div[2]/div[1]/div/div/div/div[2]/div[1]/p')\n",
    "loc.click()"
   ]
  },
  {
   "cell_type": "code",
   "execution_count": 93,
   "id": "b8e70a8d",
   "metadata": {},
   "outputs": [],
   "source": [
    "# Entering in the search field\n",
    "loc_search = driver.find_element(By.XPATH,'/html/body/div/div/div/div[2]/div[1]/div[2]/div[1]/div/div/div/div[2]/div[2]/div/div[2]/input')\n",
    "loc_search.send_keys(\"Noida\")"
   ]
  },
  {
   "cell_type": "code",
   "execution_count": 94,
   "id": "42f8a161",
   "metadata": {},
   "outputs": [],
   "source": [
    "# Selecting Noida from suggestion\n",
    "noida_select = driver.find_element(By.XPATH,'/html/body/div/div/div/div[2]/div[1]/div[2]/div[1]/div/div/div/div[2]/div[2]/div/div[3]/div[1]/div[1]/div/label')\n",
    "noida_select.click()"
   ]
  },
  {
   "cell_type": "markdown",
   "id": "c4b54b7b",
   "metadata": {},
   "source": [
    "#### Company names"
   ]
  },
  {
   "cell_type": "code",
   "execution_count": 131,
   "id": "7297ef8f",
   "metadata": {},
   "outputs": [],
   "source": [
    "names = driver.find_elements(By.XPATH,'//p[@class=\"company body-medium\"]')"
   ]
  },
  {
   "cell_type": "code",
   "execution_count": 133,
   "id": "3af00fbd",
   "metadata": {},
   "outputs": [
    {
     "data": {
      "text/plain": [
       "10"
      ]
     },
     "execution_count": 133,
     "metadata": {},
     "output_type": "execute_result"
    }
   ],
   "source": [
    "comp_names = []\n",
    "for i in names:\n",
    "    comp_names.append(i.text)\n",
    "len(comp_names)"
   ]
  },
  {
   "cell_type": "markdown",
   "id": "49e39145",
   "metadata": {},
   "source": [
    "#### Posted date"
   ]
  },
  {
   "cell_type": "code",
   "execution_count": 115,
   "id": "f99b68cf",
   "metadata": {},
   "outputs": [],
   "source": [
    "date = driver.find_elements(By.XPATH,'//span[@class=\"body-small-l\"]')"
   ]
  },
  {
   "cell_type": "code",
   "execution_count": 119,
   "id": "f59f62f4",
   "metadata": {},
   "outputs": [
    {
     "data": {
      "text/plain": [
       "10"
      ]
     },
     "execution_count": 119,
     "metadata": {},
     "output_type": "execute_result"
    }
   ],
   "source": [
    "post_date = []\n",
    "for i in date:\n",
    "    post_date.append(i.text)\n",
    "post_date = post_date[::2]\n",
    "len(post_date)"
   ]
  },
  {
   "cell_type": "markdown",
   "id": "2541537b",
   "metadata": {},
   "source": [
    "#### Ratings"
   ]
  },
  {
   "cell_type": "code",
   "execution_count": 135,
   "id": "71d26f5e",
   "metadata": {},
   "outputs": [],
   "source": [
    "rat = driver.find_elements(By.XPATH,'//span[@class=\"body-small\"]')"
   ]
  },
  {
   "cell_type": "code",
   "execution_count": 137,
   "id": "f0a3a3ea",
   "metadata": {},
   "outputs": [
    {
     "data": {
      "text/plain": [
       "10"
      ]
     },
     "execution_count": 137,
     "metadata": {},
     "output_type": "execute_result"
    }
   ],
   "source": [
    "ratings = []\n",
    "for i in rat:\n",
    "    ratings.append(i.text)\n",
    "len(ratings)"
   ]
  },
  {
   "cell_type": "markdown",
   "id": "39637b7f",
   "metadata": {},
   "source": [
    "### First 10 Data Scientist job in Noida"
   ]
  },
  {
   "cell_type": "code",
   "execution_count": 138,
   "id": "ef921119",
   "metadata": {},
   "outputs": [
    {
     "data": {
      "text/html": [
       "<div>\n",
       "<style scoped>\n",
       "    .dataframe tbody tr th:only-of-type {\n",
       "        vertical-align: middle;\n",
       "    }\n",
       "\n",
       "    .dataframe tbody tr th {\n",
       "        vertical-align: top;\n",
       "    }\n",
       "\n",
       "    .dataframe thead th {\n",
       "        text-align: right;\n",
       "    }\n",
       "</style>\n",
       "<table border=\"1\" class=\"dataframe\">\n",
       "  <thead>\n",
       "    <tr style=\"text-align: right;\">\n",
       "      <th></th>\n",
       "      <th>Company name</th>\n",
       "      <th>Job posted time</th>\n",
       "      <th>Ratings</th>\n",
       "    </tr>\n",
       "  </thead>\n",
       "  <tbody>\n",
       "    <tr>\n",
       "      <th>0</th>\n",
       "      <td>Optum Global Solutions (India) Private Limited</td>\n",
       "      <td>7d ago</td>\n",
       "      <td>4.1</td>\n",
       "    </tr>\n",
       "    <tr>\n",
       "      <th>1</th>\n",
       "      <td>GENPACT India Private Limited</td>\n",
       "      <td>14d ago</td>\n",
       "      <td>4.0</td>\n",
       "    </tr>\n",
       "    <tr>\n",
       "      <th>2</th>\n",
       "      <td>GENPACT India Private Limited</td>\n",
       "      <td>1mon ago</td>\n",
       "      <td>4.0</td>\n",
       "    </tr>\n",
       "    <tr>\n",
       "      <th>3</th>\n",
       "      <td>InfoEdge India Ltd.</td>\n",
       "      <td>12d ago</td>\n",
       "      <td>3.9</td>\n",
       "    </tr>\n",
       "    <tr>\n",
       "      <th>4</th>\n",
       "      <td>Dew Solutions Pvt. Ltd.</td>\n",
       "      <td>5d ago</td>\n",
       "      <td>4.3</td>\n",
       "    </tr>\n",
       "    <tr>\n",
       "      <th>5</th>\n",
       "      <td>Info Edge India Limited</td>\n",
       "      <td>13d ago</td>\n",
       "      <td>3.9</td>\n",
       "    </tr>\n",
       "    <tr>\n",
       "      <th>6</th>\n",
       "      <td>Info Edge India Limited</td>\n",
       "      <td>13d ago</td>\n",
       "      <td>3.9</td>\n",
       "    </tr>\n",
       "    <tr>\n",
       "      <th>7</th>\n",
       "      <td>Latent bridge</td>\n",
       "      <td>13d ago</td>\n",
       "      <td>4.5</td>\n",
       "    </tr>\n",
       "    <tr>\n",
       "      <th>8</th>\n",
       "      <td>Careerera</td>\n",
       "      <td>10hr ago</td>\n",
       "      <td>3.8</td>\n",
       "    </tr>\n",
       "    <tr>\n",
       "      <th>9</th>\n",
       "      <td>Careernet Consulting</td>\n",
       "      <td>27d ago</td>\n",
       "      <td>3.9</td>\n",
       "    </tr>\n",
       "  </tbody>\n",
       "</table>\n",
       "</div>"
      ],
      "text/plain": [
       "                                     Company name Job posted time Ratings\n",
       "0  Optum Global Solutions (India) Private Limited          7d ago     4.1\n",
       "1                   GENPACT India Private Limited         14d ago     4.0\n",
       "2                   GENPACT India Private Limited        1mon ago     4.0\n",
       "3                             InfoEdge India Ltd.         12d ago     3.9\n",
       "4                         Dew Solutions Pvt. Ltd.          5d ago     4.3\n",
       "5                         Info Edge India Limited         13d ago     3.9\n",
       "6                         Info Edge India Limited         13d ago     3.9\n",
       "7                                   Latent bridge         13d ago     4.5\n",
       "8                                       Careerera        10hr ago     3.8\n",
       "9                            Careernet Consulting         27d ago     3.9"
      ]
     },
     "execution_count": 138,
     "metadata": {},
     "output_type": "execute_result"
    }
   ],
   "source": [
    "df = pd.DataFrame()\n",
    "df['Company name'] = comp_names\n",
    "df['Job posted time'] = post_date\n",
    "df['Ratings'] = ratings\n",
    "df"
   ]
  },
  {
   "cell_type": "markdown",
   "id": "e140ee50",
   "metadata": {},
   "source": [
    "# 10. Salary data for Data Scientist"
   ]
  },
  {
   "cell_type": "code",
   "execution_count": 3,
   "id": "10485fb5",
   "metadata": {},
   "outputs": [],
   "source": [
    "driver = webdriver.Chrome(r'C:\\Users\\HP\\chromedriver_win32\\chromedriver.exe')"
   ]
  },
  {
   "cell_type": "code",
   "execution_count": 4,
   "id": "21608bfe",
   "metadata": {},
   "outputs": [],
   "source": [
    "url = \"http://www.ambitionbox.com/\"\n",
    "driver.get(url)"
   ]
  },
  {
   "cell_type": "code",
   "execution_count": 5,
   "id": "e92ccfe7",
   "metadata": {},
   "outputs": [],
   "source": [
    "# Selecting salaries option\n",
    "salary = driver.find_element(By.XPATH,'/html/body/div[1]/nav/nav/a[4]')\n",
    "salary.click()"
   ]
  },
  {
   "cell_type": "code",
   "execution_count": 6,
   "id": "84e74d29",
   "metadata": {},
   "outputs": [],
   "source": [
    "# Entering in the search field\n",
    "search = driver.find_element(By.XPATH,'/html/body/div/div/div/main/section[1]/div[2]/div[1]/span/input')\n",
    "search.send_keys('Data Scientist')"
   ]
  },
  {
   "cell_type": "code",
   "execution_count": 7,
   "id": "8940ec13",
   "metadata": {},
   "outputs": [],
   "source": [
    "# Selecting data Scientist suggestion\n",
    "sel = driver.find_element(By.XPATH,'/html/body/div/div/div/main/section[1]/div[2]/div[1]/span/div/div/div[1]/div')\n",
    "sel.click()"
   ]
  },
  {
   "cell_type": "markdown",
   "id": "0148d414",
   "metadata": {},
   "source": [
    "#### Company names"
   ]
  },
  {
   "cell_type": "code",
   "execution_count": 59,
   "id": "a2d2a66d",
   "metadata": {},
   "outputs": [],
   "source": [
    "names = driver.find_elements(By.CLASS_NAME,'company-info')"
   ]
  },
  {
   "cell_type": "code",
   "execution_count": 74,
   "id": "9f2d09b8",
   "metadata": {},
   "outputs": [
    {
     "data": {
      "text/plain": [
       "10"
      ]
     },
     "execution_count": 74,
     "metadata": {},
     "output_type": "execute_result"
    }
   ],
   "source": [
    "comp_names = []\n",
    "for i in names:\n",
    "    comp_names.append(i.text.split('\\n'))\n",
    "comp_names = list(np.concatenate(comp_names))\n",
    "comp_names = comp_names[::3][:10]\n",
    "len(comp_names)"
   ]
  },
  {
   "cell_type": "markdown",
   "id": "7ec9012d",
   "metadata": {},
   "source": [
    "#### Total salaries recorded"
   ]
  },
  {
   "cell_type": "code",
   "execution_count": 71,
   "id": "87f3c992",
   "metadata": {},
   "outputs": [],
   "source": [
    "sal_rec = driver.find_elements(By.XPATH,'//span[@class=\"datapoints\"]')"
   ]
  },
  {
   "cell_type": "code",
   "execution_count": 73,
   "id": "ff3e8372",
   "metadata": {},
   "outputs": [
    {
     "data": {
      "text/plain": [
       "10"
      ]
     },
     "execution_count": 73,
     "metadata": {},
     "output_type": "execute_result"
    }
   ],
   "source": [
    "sal_records = []\n",
    "for i in sal_rec:\n",
    "    sal_records.append(i.text)\n",
    "len(sal_records)"
   ]
  },
  {
   "cell_type": "markdown",
   "id": "97f8a206",
   "metadata": {},
   "source": [
    "#### Average salary"
   ]
  },
  {
   "cell_type": "code",
   "execution_count": 75,
   "id": "330ae62a",
   "metadata": {},
   "outputs": [],
   "source": [
    "avg_sal = driver.find_elements(By.XPATH,'//p[@class=\"averageCtc\"]')"
   ]
  },
  {
   "cell_type": "code",
   "execution_count": 78,
   "id": "8946c841",
   "metadata": {},
   "outputs": [
    {
     "data": {
      "text/plain": [
       "10"
      ]
     },
     "execution_count": 78,
     "metadata": {},
     "output_type": "execute_result"
    }
   ],
   "source": [
    "avg_salary = []\n",
    "for i in avg_sal:\n",
    "    avg_salary.append(i.text)\n",
    "len(avg_salary)"
   ]
  },
  {
   "cell_type": "markdown",
   "id": "1d72d2f0",
   "metadata": {},
   "source": [
    "#### Minimum salary"
   ]
  },
  {
   "cell_type": "code",
   "execution_count": 88,
   "id": "01d0c80c",
   "metadata": {},
   "outputs": [],
   "source": [
    "min_sal = driver.find_elements(By.XPATH,'//div[@class=\"value body-medium\"]')"
   ]
  },
  {
   "cell_type": "code",
   "execution_count": 91,
   "id": "2d8c303e",
   "metadata": {},
   "outputs": [
    {
     "data": {
      "text/plain": [
       "10"
      ]
     },
     "execution_count": 91,
     "metadata": {},
     "output_type": "execute_result"
    }
   ],
   "source": [
    "min_salary = []\n",
    "for i in min_sal:\n",
    "    min_salary.append(i.text)\n",
    "min_salary = min_salary[::2]\n",
    "len(min_salary)"
   ]
  },
  {
   "cell_type": "markdown",
   "id": "3643d8e9",
   "metadata": {},
   "source": [
    "#### Maximum salary"
   ]
  },
  {
   "cell_type": "code",
   "execution_count": 92,
   "id": "1b301836",
   "metadata": {},
   "outputs": [],
   "source": [
    "max_sal = driver.find_elements(By.XPATH,'//div[@class=\"value body-medium\"]')"
   ]
  },
  {
   "cell_type": "code",
   "execution_count": 96,
   "id": "12888970",
   "metadata": {},
   "outputs": [
    {
     "data": {
      "text/plain": [
       "10"
      ]
     },
     "execution_count": 96,
     "metadata": {},
     "output_type": "execute_result"
    }
   ],
   "source": [
    "max_salary = []\n",
    "for i in max_sal:\n",
    "    max_salary.append(i.text)\n",
    "max_salary = max_salary[1::2]\n",
    "len(max_salary)"
   ]
  },
  {
   "cell_type": "markdown",
   "id": "8a9b475f",
   "metadata": {},
   "source": [
    "#### Experience required"
   ]
  },
  {
   "cell_type": "code",
   "execution_count": 97,
   "id": "8bde2882",
   "metadata": {},
   "outputs": [],
   "source": [
    "exp = driver.find_elements(By.XPATH,'//div[@class=\"sbold-list-header\"]')"
   ]
  },
  {
   "cell_type": "code",
   "execution_count": 104,
   "id": "1b8a41cb",
   "metadata": {},
   "outputs": [
    {
     "data": {
      "text/plain": [
       "10"
      ]
     },
     "execution_count": 104,
     "metadata": {},
     "output_type": "execute_result"
    }
   ],
   "source": [
    "exp_req = []\n",
    "for i in exp:\n",
    "    exp_req.append(i.text.split(' ex'))\n",
    "exp_req = list(np.concatenate(exp_req))\n",
    "exp_req = exp_req[::2]\n",
    "len(exp_req)"
   ]
  },
  {
   "cell_type": "markdown",
   "id": "8d035f9a",
   "metadata": {},
   "source": [
    "### Salary data for Data Scientist in 10 companies"
   ]
  },
  {
   "cell_type": "code",
   "execution_count": 105,
   "id": "535f8f75",
   "metadata": {},
   "outputs": [
    {
     "data": {
      "text/html": [
       "<div>\n",
       "<style scoped>\n",
       "    .dataframe tbody tr th:only-of-type {\n",
       "        vertical-align: middle;\n",
       "    }\n",
       "\n",
       "    .dataframe tbody tr th {\n",
       "        vertical-align: top;\n",
       "    }\n",
       "\n",
       "    .dataframe thead th {\n",
       "        text-align: right;\n",
       "    }\n",
       "</style>\n",
       "<table border=\"1\" class=\"dataframe\">\n",
       "  <thead>\n",
       "    <tr style=\"text-align: right;\">\n",
       "      <th></th>\n",
       "      <th>Company name</th>\n",
       "      <th>Total salaries recorded</th>\n",
       "      <th>Average salary</th>\n",
       "      <th>Minimum salary</th>\n",
       "      <th>Maximum salary</th>\n",
       "      <th>Experience required</th>\n",
       "    </tr>\n",
       "  </thead>\n",
       "  <tbody>\n",
       "    <tr>\n",
       "      <th>0</th>\n",
       "      <td>Walmart</td>\n",
       "      <td>(based on 12 salaries)</td>\n",
       "      <td>₹ 30.6L</td>\n",
       "      <td>₹ 25.0L</td>\n",
       "      <td>₹ 36.0L</td>\n",
       "      <td>3 yrs</td>\n",
       "    </tr>\n",
       "    <tr>\n",
       "      <th>1</th>\n",
       "      <td>Ab Inbev</td>\n",
       "      <td>(based on 33 salaries)</td>\n",
       "      <td>₹ 20.8L</td>\n",
       "      <td>₹ 15.0L</td>\n",
       "      <td>₹ 26.2L</td>\n",
       "      <td>3-4 yrs</td>\n",
       "    </tr>\n",
       "    <tr>\n",
       "      <th>2</th>\n",
       "      <td>ZS</td>\n",
       "      <td>(based on 15 salaries)</td>\n",
       "      <td>₹ 16.7L</td>\n",
       "      <td>₹ 11.0L</td>\n",
       "      <td>₹ 22.0L</td>\n",
       "      <td>2 yrs</td>\n",
       "    </tr>\n",
       "    <tr>\n",
       "      <th>3</th>\n",
       "      <td>Optum</td>\n",
       "      <td>(based on 32 salaries)</td>\n",
       "      <td>₹ 15.9L</td>\n",
       "      <td>₹ 11.0L</td>\n",
       "      <td>₹ 22.5L</td>\n",
       "      <td>3-4 yrs</td>\n",
       "    </tr>\n",
       "    <tr>\n",
       "      <th>4</th>\n",
       "      <td>Reliance Jio</td>\n",
       "      <td>(based on 21 salaries)</td>\n",
       "      <td>₹ 15.7L</td>\n",
       "      <td>₹ 5.6L</td>\n",
       "      <td>₹ 26.2L</td>\n",
       "      <td>3-4 yrs</td>\n",
       "    </tr>\n",
       "    <tr>\n",
       "      <th>5</th>\n",
       "      <td>Fractal Analytics</td>\n",
       "      <td>(based on 89 salaries)</td>\n",
       "      <td>₹ 15.5L</td>\n",
       "      <td>₹ 10.0L</td>\n",
       "      <td>₹ 23.0L</td>\n",
       "      <td>2-4 yrs</td>\n",
       "    </tr>\n",
       "    <tr>\n",
       "      <th>6</th>\n",
       "      <td>Tiger Analytics</td>\n",
       "      <td>(based on 51 salaries)</td>\n",
       "      <td>₹ 14.8L</td>\n",
       "      <td>₹ 9.0L</td>\n",
       "      <td>₹ 20.0L</td>\n",
       "      <td>2-4 yrs</td>\n",
       "    </tr>\n",
       "    <tr>\n",
       "      <th>7</th>\n",
       "      <td>UnitedHealth</td>\n",
       "      <td>(based on 57 salaries)</td>\n",
       "      <td>₹ 14.0L</td>\n",
       "      <td>₹ 8.3L</td>\n",
       "      <td>₹ 21.1L</td>\n",
       "      <td>2-4 yrs</td>\n",
       "    </tr>\n",
       "    <tr>\n",
       "      <th>8</th>\n",
       "      <td>EXL Service</td>\n",
       "      <td>(based on 21 salaries)</td>\n",
       "      <td>₹ 13.2L</td>\n",
       "      <td>₹ 7.6L</td>\n",
       "      <td>₹ 21.0L</td>\n",
       "      <td>3-4 yrs</td>\n",
       "    </tr>\n",
       "    <tr>\n",
       "      <th>9</th>\n",
       "      <td>Deloitte</td>\n",
       "      <td>(based on 69 salaries)</td>\n",
       "      <td>₹ 12.8L</td>\n",
       "      <td>₹ 7.0L</td>\n",
       "      <td>₹ 25.0L</td>\n",
       "      <td>2-4 yrs</td>\n",
       "    </tr>\n",
       "  </tbody>\n",
       "</table>\n",
       "</div>"
      ],
      "text/plain": [
       "        Company name Total salaries recorded Average salary Minimum salary  \\\n",
       "0            Walmart  (based on 12 salaries)        ₹ 30.6L        ₹ 25.0L   \n",
       "1           Ab Inbev  (based on 33 salaries)        ₹ 20.8L        ₹ 15.0L   \n",
       "2                 ZS  (based on 15 salaries)        ₹ 16.7L        ₹ 11.0L   \n",
       "3              Optum  (based on 32 salaries)        ₹ 15.9L        ₹ 11.0L   \n",
       "4       Reliance Jio  (based on 21 salaries)        ₹ 15.7L         ₹ 5.6L   \n",
       "5  Fractal Analytics  (based on 89 salaries)        ₹ 15.5L        ₹ 10.0L   \n",
       "6    Tiger Analytics  (based on 51 salaries)        ₹ 14.8L         ₹ 9.0L   \n",
       "7       UnitedHealth  (based on 57 salaries)        ₹ 14.0L         ₹ 8.3L   \n",
       "8        EXL Service  (based on 21 salaries)        ₹ 13.2L         ₹ 7.6L   \n",
       "9           Deloitte  (based on 69 salaries)        ₹ 12.8L         ₹ 7.0L   \n",
       "\n",
       "  Maximum salary Experience required  \n",
       "0        ₹ 36.0L               3 yrs  \n",
       "1        ₹ 26.2L             3-4 yrs  \n",
       "2        ₹ 22.0L               2 yrs  \n",
       "3        ₹ 22.5L             3-4 yrs  \n",
       "4        ₹ 26.2L             3-4 yrs  \n",
       "5        ₹ 23.0L             2-4 yrs  \n",
       "6        ₹ 20.0L             2-4 yrs  \n",
       "7        ₹ 21.1L             2-4 yrs  \n",
       "8        ₹ 21.0L             3-4 yrs  \n",
       "9        ₹ 25.0L             2-4 yrs  "
      ]
     },
     "execution_count": 105,
     "metadata": {},
     "output_type": "execute_result"
    }
   ],
   "source": [
    "df = pd.DataFrame()\n",
    "df['Company name'] = comp_names\n",
    "df['Total salaries recorded'] = sal_records\n",
    "df['Average salary'] = avg_salary\n",
    "df['Minimum salary'] = min_salary\n",
    "df['Maximum salary'] = max_salary\n",
    "df['Experience required'] = exp_req\n",
    "df"
   ]
  },
  {
   "cell_type": "code",
   "execution_count": null,
   "id": "22c3bd65",
   "metadata": {},
   "outputs": [],
   "source": []
  }
 ],
 "metadata": {
  "kernelspec": {
   "display_name": "Python 3 (ipykernel)",
   "language": "python",
   "name": "python3"
  },
  "language_info": {
   "codemirror_mode": {
    "name": "ipython",
    "version": 3
   },
   "file_extension": ".py",
   "mimetype": "text/x-python",
   "name": "python",
   "nbconvert_exporter": "python",
   "pygments_lexer": "ipython3",
   "version": "3.9.7"
  }
 },
 "nbformat": 4,
 "nbformat_minor": 5
}
