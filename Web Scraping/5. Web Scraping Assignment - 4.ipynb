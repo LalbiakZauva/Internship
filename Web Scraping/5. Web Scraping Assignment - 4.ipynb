{
 "cells": [
  {
   "cell_type": "code",
   "execution_count": 2,
   "id": "f78a1012",
   "metadata": {},
   "outputs": [],
   "source": [
    "# importing necessary libraries\n",
    "import selenium\n",
    "from selenium import webdriver\n",
    "from selenium.webdriver.common.by import By\n",
    "import pandas as pd\n",
    "import numpy as np\n",
    "import time\n",
    "import re\n",
    "import requests\n",
    "from selenium.common.exceptions import NoSuchElementException\n",
    "\n",
    "import warnings\n",
    "warnings.filterwarnings('ignore')"
   ]
  },
  {
   "cell_type": "markdown",
   "id": "ece766a8",
   "metadata": {},
   "source": [
    "# 1.  Most viewed videos on YouTube"
   ]
  },
  {
   "cell_type": "code",
   "execution_count": 2,
   "id": "deea17f8",
   "metadata": {},
   "outputs": [],
   "source": [
    "# running webdriver\n",
    "driver = webdriver.Chrome(r'C:\\Users\\HP\\chromedriver_win32\\chromedriver.exe')\n",
    "\n",
    "# getting the url\n",
    "url = 'https://en.wikipedia.org/wiki/List_of_most-viewed_YouTube_videos'\n",
    "driver.get(url)\n",
    "driver.maximize_window()"
   ]
  },
  {
   "cell_type": "markdown",
   "id": "8850597b",
   "metadata": {},
   "source": [
    "### a) Rank"
   ]
  },
  {
   "cell_type": "code",
   "execution_count": 11,
   "id": "d5f45a4e",
   "metadata": {},
   "outputs": [],
   "source": [
    "ranks = []\n",
    "rank = driver.find_elements(By.XPATH,'//table[@class=\"wikitable sortable jquery-tablesorter\"]/tbody/tr/td[1]')\n",
    "for i in rank:\n",
    "    ranks.append(i.text)"
   ]
  },
  {
   "cell_type": "code",
   "execution_count": 12,
   "id": "366b40f1",
   "metadata": {},
   "outputs": [
    {
     "data": {
      "text/plain": [
       "30"
      ]
     },
     "execution_count": 12,
     "metadata": {},
     "output_type": "execute_result"
    }
   ],
   "source": [
    "ranks = ranks[:30:]\n",
    "len(ranks)"
   ]
  },
  {
   "cell_type": "markdown",
   "id": "b6fc04cd",
   "metadata": {},
   "source": [
    "### b) Name"
   ]
  },
  {
   "cell_type": "code",
   "execution_count": 110,
   "id": "7cf2635b",
   "metadata": {},
   "outputs": [],
   "source": [
    "name = []\n",
    "try:\n",
    "    names = driver.find_elements(By.XPATH,'/html/body/div[3]/div[3]/div[5]/div[1]/table[2]/tbody/tr/td[2]')\n",
    "    for i in names:\n",
    "        name.append(i.text.split(\"[\"))\n",
    "except NoSuchElementException:\n",
    "    name.append(\"-\")\n",
    "    \n",
    "name_ = []\n",
    "for i in range(0,len(name)):\n",
    "    name_.append(name.pop(0)[0])\n",
    "    \n",
    "Name = []\n",
    "for i in range(0,len(name_)):\n",
    "    Name.append(name_[i].strip('\\\"'))"
   ]
  },
  {
   "cell_type": "code",
   "execution_count": 114,
   "id": "b134a9d4",
   "metadata": {},
   "outputs": [
    {
     "data": {
      "text/plain": [
       "30"
      ]
     },
     "execution_count": 114,
     "metadata": {},
     "output_type": "execute_result"
    }
   ],
   "source": [
    "len(Name)"
   ]
  },
  {
   "cell_type": "markdown",
   "id": "fe0c846c",
   "metadata": {},
   "source": [
    "### c) Artist"
   ]
  },
  {
   "cell_type": "code",
   "execution_count": 117,
   "id": "7ede7875",
   "metadata": {},
   "outputs": [],
   "source": [
    "artist = []\n",
    "try:\n",
    "    artists = driver.find_elements(By.XPATH,'/html/body/div[3]/div[3]/div[5]/div[1]/table[2]/tbody/tr/td[3]')\n",
    "    for i in artists:\n",
    "        artist.append(i.text)\n",
    "except NoSuchElementException:\n",
    "    artist.append(\"-\")"
   ]
  },
  {
   "cell_type": "code",
   "execution_count": 119,
   "id": "cb109dc6",
   "metadata": {},
   "outputs": [
    {
     "data": {
      "text/plain": [
       "30"
      ]
     },
     "execution_count": 119,
     "metadata": {},
     "output_type": "execute_result"
    }
   ],
   "source": [
    "len(artist)"
   ]
  },
  {
   "cell_type": "markdown",
   "id": "cf86a95d",
   "metadata": {},
   "source": [
    "### d) Upload date"
   ]
  },
  {
   "cell_type": "code",
   "execution_count": 120,
   "id": "644647f6",
   "metadata": {},
   "outputs": [],
   "source": [
    "date = []\n",
    "try:\n",
    "    dates = driver.find_elements(By.XPATH,'/html/body/div[3]/div[3]/div[5]/div[1]/table[2]/tbody/tr/td[5]')\n",
    "    for i in dates:\n",
    "        date.append(i.text)\n",
    "except NoSuchElementException:\n",
    "    date.append(\"-\")"
   ]
  },
  {
   "cell_type": "code",
   "execution_count": 122,
   "id": "f90d40c0",
   "metadata": {},
   "outputs": [
    {
     "data": {
      "text/plain": [
       "30"
      ]
     },
     "execution_count": 122,
     "metadata": {},
     "output_type": "execute_result"
    }
   ],
   "source": [
    "len(date)"
   ]
  },
  {
   "cell_type": "markdown",
   "id": "9a38edef",
   "metadata": {},
   "source": [
    "### e) Views"
   ]
  },
  {
   "cell_type": "code",
   "execution_count": 139,
   "id": "71570603",
   "metadata": {},
   "outputs": [],
   "source": [
    "view = []\n",
    "try:\n",
    "    views = driver.find_elements(By.XPATH,'/html/body/div[3]/div[3]/div[5]/div[1]/table[2]/tbody/tr/td[4]')\n",
    "    for i in views:\n",
    "        view.append(i.text)\n",
    "except NoSuchElementException:\n",
    "    view.append(\"-\")"
   ]
  },
  {
   "cell_type": "code",
   "execution_count": 140,
   "id": "10c8befd",
   "metadata": {},
   "outputs": [
    {
     "data": {
      "text/plain": [
       "30"
      ]
     },
     "execution_count": 140,
     "metadata": {},
     "output_type": "execute_result"
    }
   ],
   "source": [
    "len(view)"
   ]
  },
  {
   "cell_type": "markdown",
   "id": "e42d7e4b",
   "metadata": {},
   "source": [
    "### Dataframe for most viewed youtube videos"
   ]
  },
  {
   "cell_type": "code",
   "execution_count": 141,
   "id": "5759f253",
   "metadata": {},
   "outputs": [
    {
     "data": {
      "text/html": [
       "<div>\n",
       "<style scoped>\n",
       "    .dataframe tbody tr th:only-of-type {\n",
       "        vertical-align: middle;\n",
       "    }\n",
       "\n",
       "    .dataframe tbody tr th {\n",
       "        vertical-align: top;\n",
       "    }\n",
       "\n",
       "    .dataframe thead th {\n",
       "        text-align: right;\n",
       "    }\n",
       "</style>\n",
       "<table border=\"1\" class=\"dataframe\">\n",
       "  <thead>\n",
       "    <tr style=\"text-align: right;\">\n",
       "      <th></th>\n",
       "      <th>Rank</th>\n",
       "      <th>Name</th>\n",
       "      <th>Artist</th>\n",
       "      <th>Upload date</th>\n",
       "      <th>Views in billions</th>\n",
       "    </tr>\n",
       "  </thead>\n",
       "  <tbody>\n",
       "    <tr>\n",
       "      <th>0</th>\n",
       "      <td>1.</td>\n",
       "      <td>Baby Shark Dance</td>\n",
       "      <td>Pinkfong Baby Shark - Kids' Songs &amp; Stories</td>\n",
       "      <td>June 17, 2016</td>\n",
       "      <td>11.05</td>\n",
       "    </tr>\n",
       "    <tr>\n",
       "      <th>1</th>\n",
       "      <td>2.</td>\n",
       "      <td>Despacito</td>\n",
       "      <td>Luis Fonsi</td>\n",
       "      <td>January 12, 2017</td>\n",
       "      <td>7.93</td>\n",
       "    </tr>\n",
       "    <tr>\n",
       "      <th>2</th>\n",
       "      <td>3.</td>\n",
       "      <td>Johny Johny Yes Papa</td>\n",
       "      <td>LooLoo Kids</td>\n",
       "      <td>October 8, 2016</td>\n",
       "      <td>6.40</td>\n",
       "    </tr>\n",
       "    <tr>\n",
       "      <th>3</th>\n",
       "      <td>4.</td>\n",
       "      <td>Shape of You</td>\n",
       "      <td>Ed Sheeran</td>\n",
       "      <td>January 30, 2017</td>\n",
       "      <td>5.77</td>\n",
       "    </tr>\n",
       "    <tr>\n",
       "      <th>4</th>\n",
       "      <td>5.</td>\n",
       "      <td>See You Again</td>\n",
       "      <td>Wiz Khalifa</td>\n",
       "      <td>April 6, 2015</td>\n",
       "      <td>5.59</td>\n",
       "    </tr>\n",
       "    <tr>\n",
       "      <th>5</th>\n",
       "      <td>6.</td>\n",
       "      <td>Bath Song</td>\n",
       "      <td>Cocomelon – Nursery Rhymes</td>\n",
       "      <td>May 2, 2018</td>\n",
       "      <td>5.54</td>\n",
       "    </tr>\n",
       "    <tr>\n",
       "      <th>6</th>\n",
       "      <td>7.</td>\n",
       "      <td>Phonics Song with Two Words</td>\n",
       "      <td>ChuChu TV</td>\n",
       "      <td>March 6, 2014</td>\n",
       "      <td>4.77</td>\n",
       "    </tr>\n",
       "    <tr>\n",
       "      <th>7</th>\n",
       "      <td>8.</td>\n",
       "      <td>Uptown Funk</td>\n",
       "      <td>Mark Ronson</td>\n",
       "      <td>November 19, 2014</td>\n",
       "      <td>4.65</td>\n",
       "    </tr>\n",
       "    <tr>\n",
       "      <th>8</th>\n",
       "      <td>9.</td>\n",
       "      <td>Learning Colors – Colorful Eggs on a Farm</td>\n",
       "      <td>Miroshka TV</td>\n",
       "      <td>February 27, 2018</td>\n",
       "      <td>4.60</td>\n",
       "    </tr>\n",
       "    <tr>\n",
       "      <th>9</th>\n",
       "      <td>10.</td>\n",
       "      <td>Masha and the Bear – Recipe for Disaster</td>\n",
       "      <td>Get Movies</td>\n",
       "      <td>January 31, 2012</td>\n",
       "      <td>4.50</td>\n",
       "    </tr>\n",
       "    <tr>\n",
       "      <th>10</th>\n",
       "      <td>11.</td>\n",
       "      <td>Gangnam Style</td>\n",
       "      <td>Psy</td>\n",
       "      <td>July 15, 2012</td>\n",
       "      <td>4.50</td>\n",
       "    </tr>\n",
       "    <tr>\n",
       "      <th>11</th>\n",
       "      <td>12.</td>\n",
       "      <td>Wheels on the Bus</td>\n",
       "      <td>Cocomelon – Nursery Rhymes</td>\n",
       "      <td>May 24, 2018</td>\n",
       "      <td>4.24</td>\n",
       "    </tr>\n",
       "    <tr>\n",
       "      <th>12</th>\n",
       "      <td>13.</td>\n",
       "      <td>Dame Tu Cosita</td>\n",
       "      <td>El Chombo</td>\n",
       "      <td>April 5, 2018</td>\n",
       "      <td>4.00</td>\n",
       "    </tr>\n",
       "    <tr>\n",
       "      <th>13</th>\n",
       "      <td>14.</td>\n",
       "      <td>Sugar</td>\n",
       "      <td>Maroon 5</td>\n",
       "      <td>January 14, 2015</td>\n",
       "      <td>3.74</td>\n",
       "    </tr>\n",
       "    <tr>\n",
       "      <th>14</th>\n",
       "      <td>15.</td>\n",
       "      <td>Roar</td>\n",
       "      <td>Katy Perry</td>\n",
       "      <td>September 5, 2013</td>\n",
       "      <td>3.63</td>\n",
       "    </tr>\n",
       "    <tr>\n",
       "      <th>15</th>\n",
       "      <td>16.</td>\n",
       "      <td>Counting Stars</td>\n",
       "      <td>OneRepublic</td>\n",
       "      <td>May 31, 2013</td>\n",
       "      <td>3.62</td>\n",
       "    </tr>\n",
       "    <tr>\n",
       "      <th>16</th>\n",
       "      <td>17.</td>\n",
       "      <td>Sorry</td>\n",
       "      <td>Justin Bieber</td>\n",
       "      <td>October 22, 2015</td>\n",
       "      <td>3.57</td>\n",
       "    </tr>\n",
       "    <tr>\n",
       "      <th>17</th>\n",
       "      <td>18.</td>\n",
       "      <td>Thinking Out Loud</td>\n",
       "      <td>Ed Sheeran</td>\n",
       "      <td>October 7, 2014</td>\n",
       "      <td>3.48</td>\n",
       "    </tr>\n",
       "    <tr>\n",
       "      <th>18</th>\n",
       "      <td>19.</td>\n",
       "      <td>Axel F</td>\n",
       "      <td>Crazy Frog</td>\n",
       "      <td>June 16, 2009</td>\n",
       "      <td>3.45</td>\n",
       "    </tr>\n",
       "    <tr>\n",
       "      <th>19</th>\n",
       "      <td>20.</td>\n",
       "      <td>Dark Horse</td>\n",
       "      <td>Katy Perry</td>\n",
       "      <td>February 20, 2014</td>\n",
       "      <td>3.32</td>\n",
       "    </tr>\n",
       "    <tr>\n",
       "      <th>20</th>\n",
       "      <td>21.</td>\n",
       "      <td>Girls Like You</td>\n",
       "      <td>Maroon 5</td>\n",
       "      <td>May 31, 2018</td>\n",
       "      <td>3.32</td>\n",
       "    </tr>\n",
       "    <tr>\n",
       "      <th>21</th>\n",
       "      <td>22.</td>\n",
       "      <td>Faded</td>\n",
       "      <td>Alan Walker</td>\n",
       "      <td>December 3, 2015</td>\n",
       "      <td>3.32</td>\n",
       "    </tr>\n",
       "    <tr>\n",
       "      <th>22</th>\n",
       "      <td>23.</td>\n",
       "      <td>Baa Baa Black Sheep</td>\n",
       "      <td>Cocomelon – Nursery Rhymes</td>\n",
       "      <td>June 25, 2018</td>\n",
       "      <td>3.31</td>\n",
       "    </tr>\n",
       "    <tr>\n",
       "      <th>23</th>\n",
       "      <td>24.</td>\n",
       "      <td>Let Her Go</td>\n",
       "      <td>Passenger</td>\n",
       "      <td>July 25, 2012</td>\n",
       "      <td>3.27</td>\n",
       "    </tr>\n",
       "    <tr>\n",
       "      <th>24</th>\n",
       "      <td>25.</td>\n",
       "      <td>Bailando</td>\n",
       "      <td>Enrique Iglesias</td>\n",
       "      <td>April 11, 2014</td>\n",
       "      <td>3.25</td>\n",
       "    </tr>\n",
       "    <tr>\n",
       "      <th>25</th>\n",
       "      <td>26.</td>\n",
       "      <td>Lean On</td>\n",
       "      <td>Major Lazer</td>\n",
       "      <td>March 22, 2015</td>\n",
       "      <td>3.24</td>\n",
       "    </tr>\n",
       "    <tr>\n",
       "      <th>26</th>\n",
       "      <td>27.</td>\n",
       "      <td>Perfect</td>\n",
       "      <td>Ed Sheeran</td>\n",
       "      <td>November 9, 2017</td>\n",
       "      <td>3.22</td>\n",
       "    </tr>\n",
       "    <tr>\n",
       "      <th>27</th>\n",
       "      <td>28.</td>\n",
       "      <td>Waka Waka (This Time for Africa)</td>\n",
       "      <td>Shakira</td>\n",
       "      <td>June 4, 2010</td>\n",
       "      <td>3.21</td>\n",
       "    </tr>\n",
       "    <tr>\n",
       "      <th>28</th>\n",
       "      <td>29.</td>\n",
       "      <td>Shake It Off</td>\n",
       "      <td>Taylor Swift</td>\n",
       "      <td>August 18, 2014</td>\n",
       "      <td>3.19</td>\n",
       "    </tr>\n",
       "    <tr>\n",
       "      <th>29</th>\n",
       "      <td>30.</td>\n",
       "      <td>Mi Gente</td>\n",
       "      <td>J Balvin</td>\n",
       "      <td>June 29, 2017</td>\n",
       "      <td>3.11</td>\n",
       "    </tr>\n",
       "  </tbody>\n",
       "</table>\n",
       "</div>"
      ],
      "text/plain": [
       "   Rank                                       Name  \\\n",
       "0    1.                           Baby Shark Dance   \n",
       "1    2.                                  Despacito   \n",
       "2    3.                       Johny Johny Yes Papa   \n",
       "3    4.                               Shape of You   \n",
       "4    5.                              See You Again   \n",
       "5    6.                                  Bath Song   \n",
       "6    7.                Phonics Song with Two Words   \n",
       "7    8.                                Uptown Funk   \n",
       "8    9.  Learning Colors – Colorful Eggs on a Farm   \n",
       "9   10.   Masha and the Bear – Recipe for Disaster   \n",
       "10  11.                              Gangnam Style   \n",
       "11  12.                          Wheels on the Bus   \n",
       "12  13.                             Dame Tu Cosita   \n",
       "13  14.                                      Sugar   \n",
       "14  15.                                       Roar   \n",
       "15  16.                             Counting Stars   \n",
       "16  17.                                      Sorry   \n",
       "17  18.                          Thinking Out Loud   \n",
       "18  19.                                     Axel F   \n",
       "19  20.                                 Dark Horse   \n",
       "20  21.                             Girls Like You   \n",
       "21  22.                                      Faded   \n",
       "22  23.                        Baa Baa Black Sheep   \n",
       "23  24.                                 Let Her Go   \n",
       "24  25.                                   Bailando   \n",
       "25  26.                                    Lean On   \n",
       "26  27.                                    Perfect   \n",
       "27  28.           Waka Waka (This Time for Africa)   \n",
       "28  29.                               Shake It Off   \n",
       "29  30.                                   Mi Gente   \n",
       "\n",
       "                                         Artist        Upload date  \\\n",
       "0   Pinkfong Baby Shark - Kids' Songs & Stories      June 17, 2016   \n",
       "1                                    Luis Fonsi   January 12, 2017   \n",
       "2                                   LooLoo Kids    October 8, 2016   \n",
       "3                                    Ed Sheeran   January 30, 2017   \n",
       "4                                   Wiz Khalifa      April 6, 2015   \n",
       "5                    Cocomelon – Nursery Rhymes        May 2, 2018   \n",
       "6                                     ChuChu TV      March 6, 2014   \n",
       "7                                   Mark Ronson  November 19, 2014   \n",
       "8                                   Miroshka TV  February 27, 2018   \n",
       "9                                    Get Movies   January 31, 2012   \n",
       "10                                          Psy      July 15, 2012   \n",
       "11                   Cocomelon – Nursery Rhymes       May 24, 2018   \n",
       "12                                    El Chombo      April 5, 2018   \n",
       "13                                     Maroon 5   January 14, 2015   \n",
       "14                                   Katy Perry  September 5, 2013   \n",
       "15                                  OneRepublic       May 31, 2013   \n",
       "16                                Justin Bieber   October 22, 2015   \n",
       "17                                   Ed Sheeran    October 7, 2014   \n",
       "18                                   Crazy Frog      June 16, 2009   \n",
       "19                                   Katy Perry  February 20, 2014   \n",
       "20                                     Maroon 5       May 31, 2018   \n",
       "21                                  Alan Walker   December 3, 2015   \n",
       "22                   Cocomelon – Nursery Rhymes      June 25, 2018   \n",
       "23                                    Passenger      July 25, 2012   \n",
       "24                             Enrique Iglesias     April 11, 2014   \n",
       "25                                  Major Lazer     March 22, 2015   \n",
       "26                                   Ed Sheeran   November 9, 2017   \n",
       "27                                      Shakira       June 4, 2010   \n",
       "28                                 Taylor Swift    August 18, 2014   \n",
       "29                                     J Balvin      June 29, 2017   \n",
       "\n",
       "   Views in billions  \n",
       "0              11.05  \n",
       "1               7.93  \n",
       "2               6.40  \n",
       "3               5.77  \n",
       "4               5.59  \n",
       "5               5.54  \n",
       "6               4.77  \n",
       "7               4.65  \n",
       "8               4.60  \n",
       "9               4.50  \n",
       "10              4.50  \n",
       "11              4.24  \n",
       "12              4.00  \n",
       "13              3.74  \n",
       "14              3.63  \n",
       "15              3.62  \n",
       "16              3.57  \n",
       "17              3.48  \n",
       "18              3.45  \n",
       "19              3.32  \n",
       "20              3.32  \n",
       "21              3.32  \n",
       "22              3.31  \n",
       "23              3.27  \n",
       "24              3.25  \n",
       "25              3.24  \n",
       "26              3.22  \n",
       "27              3.21  \n",
       "28              3.19  \n",
       "29              3.11  "
      ]
     },
     "execution_count": 141,
     "metadata": {},
     "output_type": "execute_result"
    }
   ],
   "source": [
    "df = pd.DataFrame()\n",
    "df['Rank'] = ranks\n",
    "df['Name'] = Name\n",
    "df['Artist'] = artist\n",
    "df['Upload date'] = date\n",
    "df['Views in billions'] = view\n",
    "df"
   ]
  },
  {
   "cell_type": "markdown",
   "id": "e5f1448b",
   "metadata": {},
   "source": [
    "### Closing the web driver"
   ]
  },
  {
   "cell_type": "code",
   "execution_count": 143,
   "id": "c9b3cb83",
   "metadata": {},
   "outputs": [],
   "source": [
    "driver.close()"
   ]
  },
  {
   "cell_type": "markdown",
   "id": "1a8ff7a5",
   "metadata": {},
   "source": [
    "# 2.  India’s international fixtures"
   ]
  },
  {
   "cell_type": "code",
   "execution_count": 205,
   "id": "4950b7cf",
   "metadata": {},
   "outputs": [],
   "source": [
    "# running webdriver\n",
    "driver = webdriver.Chrome(r'C:\\Users\\HP\\chromedriver_win32\\chromedriver.exe')\n",
    "\n",
    "# getting the url\n",
    "url = 'https://www.bcci.tv/'\n",
    "driver.get(url)\n",
    "driver.maximize_window()"
   ]
  },
  {
   "cell_type": "markdown",
   "id": "5660358a",
   "metadata": {},
   "source": [
    "### a) Match title (1st ODI)"
   ]
  },
  {
   "cell_type": "code",
   "execution_count": 206,
   "id": "64064423",
   "metadata": {},
   "outputs": [],
   "source": [
    "search = driver.find_element(By.XPATH,'/html/body/nav/div[1]/div[2]/ul[1]/li[2]/a')\n",
    "search.click()"
   ]
  },
  {
   "cell_type": "code",
   "execution_count": 207,
   "id": "98c6ea2f",
   "metadata": {},
   "outputs": [],
   "source": [
    "icon = driver.find_element(By.XPATH,'/html/body/div[2]/div[2]/div/div/div/div[2]/div[3]/div/div[1]/div/div[4]/a')\n",
    "icon.click()"
   ]
  },
  {
   "cell_type": "code",
   "execution_count": 210,
   "id": "ca7b01b8",
   "metadata": {},
   "outputs": [
    {
     "data": {
      "text/plain": [
       "['Zimbabwe VS India']"
      ]
     },
     "execution_count": 210,
     "metadata": {},
     "output_type": "execute_result"
    }
   ],
   "source": [
    "title_ = []\n",
    "\n",
    "title = driver.find_elements(By.XPATH,'/html/body/div[2]/div/div[1]/div[3]/div[6]/div[4]/div[2]/div[2]/div/div/ul/li[2]/span[2]')\n",
    "try:\n",
    "    for i in title:\n",
    "        title_.append(i.text)\n",
    "except NoSuchElementException:\n",
    "    pass\n",
    "title_"
   ]
  },
  {
   "cell_type": "markdown",
   "id": "f9f1a430",
   "metadata": {},
   "source": [
    "### b) Series"
   ]
  },
  {
   "cell_type": "code",
   "execution_count": 211,
   "id": "8afd9020",
   "metadata": {},
   "outputs": [
    {
     "data": {
      "text/plain": [
       "['INDIA TOUR OF ZIMBABWE ODI SERIES 2022']"
      ]
     },
     "execution_count": 211,
     "metadata": {},
     "output_type": "execute_result"
    }
   ],
   "source": [
    "series_ = []\n",
    "\n",
    "series = driver.find_elements(By.XPATH,'html/body/div[2]/div/div[1]/div[3]/div[6]/div[4]/div[2]/div[2]/div/div/ul/li[1]/span[2]')\n",
    "try:\n",
    "    for i in series:\n",
    "        series_.append(i.text)\n",
    "except NoSuchElementException:\n",
    "    pass\n",
    "series_"
   ]
  },
  {
   "cell_type": "markdown",
   "id": "c05adf08",
   "metadata": {},
   "source": [
    "### c) Place"
   ]
  },
  {
   "cell_type": "code",
   "execution_count": 214,
   "id": "838f29c1",
   "metadata": {},
   "outputs": [
    {
     "data": {
      "text/plain": [
       "['HARARE SPORTS CLUB']"
      ]
     },
     "execution_count": 214,
     "metadata": {},
     "output_type": "execute_result"
    }
   ],
   "source": [
    "place_ = []\n",
    "\n",
    "place = driver.find_elements(By.XPATH,'/html/body/div[2]/div/div[1]/div[3]/div[6]/div[4]/div[2]/div[2]/div/div/ul/li[3]/span[2]')\n",
    "try:\n",
    "    for i in place:\n",
    "        place_.append(i.text)\n",
    "except NoSuchElementException:\n",
    "    pass\n",
    "place_"
   ]
  },
  {
   "cell_type": "markdown",
   "id": "12ba1674",
   "metadata": {},
   "source": [
    "### d) Date\n",
    "- Need to go back to original page to get date and time"
   ]
  },
  {
   "cell_type": "code",
   "execution_count": 219,
   "id": "79c820ae",
   "metadata": {},
   "outputs": [],
   "source": [
    "url = 'https://www.bcci.tv/'\n",
    "driver.get(url)"
   ]
  },
  {
   "cell_type": "code",
   "execution_count": 221,
   "id": "6b210990",
   "metadata": {},
   "outputs": [],
   "source": [
    "search = driver.find_element(By.XPATH,'/html/body/nav/div[1]/div[2]/ul[1]/li[2]/a')\n",
    "search.click()"
   ]
  },
  {
   "cell_type": "code",
   "execution_count": 222,
   "id": "a282b554",
   "metadata": {},
   "outputs": [
    {
     "data": {
      "text/plain": [
       "['18 AUG 2022']"
      ]
     },
     "execution_count": 222,
     "metadata": {},
     "output_type": "execute_result"
    }
   ],
   "source": [
    "date_ = []\n",
    "\n",
    "date = driver.find_elements(By.XPATH,'/html/body/div[2]/div[2]/div/div/div/div[2]/div[3]/div/div[1]/div/div[1]/div/div[1]/h5')\n",
    "try:\n",
    "    for i in date:\n",
    "        date_.append(i.text)\n",
    "except NoSuchElementException:\n",
    "    pass\n",
    "date_"
   ]
  },
  {
   "cell_type": "markdown",
   "id": "2c131528",
   "metadata": {},
   "source": [
    "### e) Time"
   ]
  },
  {
   "cell_type": "code",
   "execution_count": 225,
   "id": "0f7ce905",
   "metadata": {},
   "outputs": [
    {
     "data": {
      "text/plain": [
       "['12:45 PM IST']"
      ]
     },
     "execution_count": 225,
     "metadata": {},
     "output_type": "execute_result"
    }
   ],
   "source": [
    "time_ = []\n",
    "\n",
    "time = driver.find_elements(By.XPATH,'/html/body/div[2]/div[2]/div/div/div/div[2]/div[3]/div/div[1]/div/div[1]/div/div[2]/h5')\n",
    "try:\n",
    "    for i in time:\n",
    "        time_.append(i.text)\n",
    "except NoSuchElementException:\n",
    "    pass\n",
    "time_"
   ]
  },
  {
   "cell_type": "markdown",
   "id": "84cbec80",
   "metadata": {},
   "source": [
    "### Dataframe for team India's International fixture"
   ]
  },
  {
   "cell_type": "code",
   "execution_count": 230,
   "id": "f01e96f7",
   "metadata": {},
   "outputs": [
    {
     "data": {
      "text/html": [
       "<div>\n",
       "<style scoped>\n",
       "    .dataframe tbody tr th:only-of-type {\n",
       "        vertical-align: middle;\n",
       "    }\n",
       "\n",
       "    .dataframe tbody tr th {\n",
       "        vertical-align: top;\n",
       "    }\n",
       "\n",
       "    .dataframe thead th {\n",
       "        text-align: right;\n",
       "    }\n",
       "</style>\n",
       "<table border=\"1\" class=\"dataframe\">\n",
       "  <thead>\n",
       "    <tr style=\"text-align: right;\">\n",
       "      <th></th>\n",
       "      <th>Match title</th>\n",
       "      <th>Series</th>\n",
       "      <th>Place</th>\n",
       "      <th>Date</th>\n",
       "      <th>Time</th>\n",
       "    </tr>\n",
       "  </thead>\n",
       "  <tbody>\n",
       "    <tr>\n",
       "      <th>0</th>\n",
       "      <td>Zimbabwe VS India</td>\n",
       "      <td>INDIA TOUR OF ZIMBABWE ODI SERIES 2022</td>\n",
       "      <td>HARARE SPORTS CLUB</td>\n",
       "      <td>18 AUG 2022</td>\n",
       "      <td>12:45 PM IST</td>\n",
       "    </tr>\n",
       "  </tbody>\n",
       "</table>\n",
       "</div>"
      ],
      "text/plain": [
       "         Match title                                  Series  \\\n",
       "0  Zimbabwe VS India  INDIA TOUR OF ZIMBABWE ODI SERIES 2022   \n",
       "\n",
       "                Place         Date          Time  \n",
       "0  HARARE SPORTS CLUB  18 AUG 2022  12:45 PM IST  "
      ]
     },
     "execution_count": 230,
     "metadata": {},
     "output_type": "execute_result"
    }
   ],
   "source": [
    "df = pd.DataFrame()\n",
    "df['Match title'] = title_\n",
    "df['Series'] = series_\n",
    "df['Place'] = place_\n",
    "df['Date'] = date_\n",
    "df['Time'] = time_\n",
    "df"
   ]
  },
  {
   "cell_type": "code",
   "execution_count": 231,
   "id": "b14a258c",
   "metadata": {},
   "outputs": [],
   "source": [
    "driver.close()"
   ]
  },
  {
   "cell_type": "markdown",
   "id": "6b96a9ab",
   "metadata": {},
   "source": [
    "# 3. Selenium exception"
   ]
  },
  {
   "cell_type": "code",
   "execution_count": 466,
   "id": "0bf3eba7",
   "metadata": {},
   "outputs": [],
   "source": [
    "# running webdriver\n",
    "driver = webdriver.Chrome(r'C:\\Users\\HP\\chromedriver_win32\\chromedriver.exe')\n",
    "\n",
    "# getting the url\n",
    "url = 'http://www.guru99.com/'\n",
    "driver.get(url)\n",
    "driver.maximize_window()"
   ]
  },
  {
   "cell_type": "code",
   "execution_count": 467,
   "id": "0a55b01a",
   "metadata": {},
   "outputs": [],
   "source": [
    "selenium = driver.find_element(By.XPATH,'/html/body/div[1]/div/div/div/main/div/article/div/div[1]/div[2]/div[1]/div/ul[1]/li[3]/a')\n",
    "selenium.click()"
   ]
  },
  {
   "cell_type": "code",
   "execution_count": 468,
   "id": "4f09e60e",
   "metadata": {},
   "outputs": [],
   "source": [
    "tutorial = driver.find_element(By.XPATH,'/html/body/div[1]/div/div/div/main/div/article/div/div/table[5]/tbody/tr[34]/td[1]/a')\n",
    "tutorial.click()"
   ]
  },
  {
   "cell_type": "markdown",
   "id": "ec7997d3",
   "metadata": {},
   "source": [
    "### a) Name"
   ]
  },
  {
   "cell_type": "code",
   "execution_count": 469,
   "id": "e8e25e26",
   "metadata": {},
   "outputs": [],
   "source": [
    "name = []\n",
    "names = driver.find_elements(By.XPATH,'//table[@class=\"table table-striped\"]/tbody/tr/td[1]')\n",
    "for i in names:\n",
    "    try:\n",
    "        name.append(i.text.split(','))\n",
    "    except NoSuchElementException:\n",
    "        name.append('-')"
   ]
  },
  {
   "cell_type": "code",
   "execution_count": 474,
   "id": "bd85aa68",
   "metadata": {},
   "outputs": [],
   "source": [
    "name_ = []\n",
    "for i in range(len(name)):\n",
    "    name_.append(name[i])"
   ]
  },
  {
   "cell_type": "code",
   "execution_count": 475,
   "id": "447a1ac7",
   "metadata": {},
   "outputs": [],
   "source": [
    "# splitting the list since we want only the names of the exception\n",
    "Name = []\n",
    "for i in name:\n",
    "    for j in i:\n",
    "        Name.append(j.split(\"[\"))"
   ]
  },
  {
   "cell_type": "code",
   "execution_count": 478,
   "id": "dabceb38",
   "metadata": {},
   "outputs": [
    {
     "data": {
      "text/plain": [
       "41"
      ]
     },
     "execution_count": 478,
     "metadata": {},
     "output_type": "execute_result"
    }
   ],
   "source": [
    "# appending name of exceptions and filter out null values\n",
    "Names = []\n",
    "for i in range(len(Name)):\n",
    "    Names.append(Name[i][0])\n",
    "Names = list(filter(None, Names))\n",
    "len(Names)"
   ]
  },
  {
   "cell_type": "markdown",
   "id": "45fee102",
   "metadata": {},
   "source": [
    "### b) Description"
   ]
  },
  {
   "cell_type": "code",
   "execution_count": 479,
   "id": "11c7b1bc",
   "metadata": {},
   "outputs": [],
   "source": [
    "description = []\n",
    "desc = driver.find_elements(By.XPATH,'//table[@class=\"table table-striped\"]/tbody/tr/td[2]')\n",
    "for i in desc:\n",
    "    try:\n",
    "        description.append(i.text)\n",
    "    except NoSuchElementException:\n",
    "        pass"
   ]
  },
  {
   "cell_type": "code",
   "execution_count": 480,
   "id": "582bb8ce",
   "metadata": {},
   "outputs": [
    {
     "data": {
      "text/plain": [
       "41"
      ]
     },
     "execution_count": 480,
     "metadata": {},
     "output_type": "execute_result"
    }
   ],
   "source": [
    "len(description)"
   ]
  },
  {
   "cell_type": "markdown",
   "id": "0256a935",
   "metadata": {},
   "source": [
    "### Dataframe for Selenium exceptions"
   ]
  },
  {
   "cell_type": "code",
   "execution_count": 481,
   "id": "eec84cc3",
   "metadata": {},
   "outputs": [
    {
     "data": {
      "text/html": [
       "<div>\n",
       "<style scoped>\n",
       "    .dataframe tbody tr th:only-of-type {\n",
       "        vertical-align: middle;\n",
       "    }\n",
       "\n",
       "    .dataframe tbody tr th {\n",
       "        vertical-align: top;\n",
       "    }\n",
       "\n",
       "    .dataframe thead th {\n",
       "        text-align: right;\n",
       "    }\n",
       "</style>\n",
       "<table border=\"1\" class=\"dataframe\">\n",
       "  <thead>\n",
       "    <tr style=\"text-align: right;\">\n",
       "      <th></th>\n",
       "      <th>Name</th>\n",
       "      <th>Description</th>\n",
       "    </tr>\n",
       "  </thead>\n",
       "  <tbody>\n",
       "    <tr>\n",
       "      <th>0</th>\n",
       "      <td>ElementNotVisibleException</td>\n",
       "      <td>This type of Selenium exception occurs when an...</td>\n",
       "    </tr>\n",
       "    <tr>\n",
       "      <th>1</th>\n",
       "      <td>ElementNotSelectableException</td>\n",
       "      <td>This Selenium exception occurs when an element...</td>\n",
       "    </tr>\n",
       "    <tr>\n",
       "      <th>2</th>\n",
       "      <td>NoSuchElementException</td>\n",
       "      <td>This Exception occurs if an element could not ...</td>\n",
       "    </tr>\n",
       "    <tr>\n",
       "      <th>3</th>\n",
       "      <td>NoSuchFrameException</td>\n",
       "      <td>This Exception occurs if the frame target to b...</td>\n",
       "    </tr>\n",
       "    <tr>\n",
       "      <th>4</th>\n",
       "      <td>NoAlertPresentException</td>\n",
       "      <td>This Exception occurs when you switch to no pr...</td>\n",
       "    </tr>\n",
       "    <tr>\n",
       "      <th>5</th>\n",
       "      <td>NoSuchWindowException</td>\n",
       "      <td>This Exception occurs if the window target to ...</td>\n",
       "    </tr>\n",
       "    <tr>\n",
       "      <th>6</th>\n",
       "      <td>StaleElementReferenceException</td>\n",
       "      <td>This Selenium exception occurs happens when th...</td>\n",
       "    </tr>\n",
       "    <tr>\n",
       "      <th>7</th>\n",
       "      <td>SessionNotFoundException</td>\n",
       "      <td>The WebDriver is acting after you quit the bro...</td>\n",
       "    </tr>\n",
       "    <tr>\n",
       "      <th>8</th>\n",
       "      <td>TimeoutException</td>\n",
       "      <td>Thrown when there is not enough time for a com...</td>\n",
       "    </tr>\n",
       "    <tr>\n",
       "      <th>9</th>\n",
       "      <td>WebDriverException</td>\n",
       "      <td>This Exception takes place when the WebDriver ...</td>\n",
       "    </tr>\n",
       "    <tr>\n",
       "      <th>10</th>\n",
       "      <td>ConnectionClosedException</td>\n",
       "      <td>This type of Exception takes place when there ...</td>\n",
       "    </tr>\n",
       "    <tr>\n",
       "      <th>11</th>\n",
       "      <td>ElementClickInterceptedException</td>\n",
       "      <td>The command may not be completed as the elemen...</td>\n",
       "    </tr>\n",
       "    <tr>\n",
       "      <th>12</th>\n",
       "      <td>ElementNotInteractableException</td>\n",
       "      <td>This Selenium exception is thrown when any ele...</td>\n",
       "    </tr>\n",
       "    <tr>\n",
       "      <th>13</th>\n",
       "      <td>ErrorInResponseException</td>\n",
       "      <td>This happens while interacting with the Firefo...</td>\n",
       "    </tr>\n",
       "    <tr>\n",
       "      <th>14</th>\n",
       "      <td>ErrorHandler.UnknownServerException</td>\n",
       "      <td>Exception is used as a placeholder in case if ...</td>\n",
       "    </tr>\n",
       "    <tr>\n",
       "      <th>15</th>\n",
       "      <td>ImeActivationFailedException</td>\n",
       "      <td>This expectation will occur when IME engine ac...</td>\n",
       "    </tr>\n",
       "    <tr>\n",
       "      <th>16</th>\n",
       "      <td>ImeNotAvailableException</td>\n",
       "      <td>It takes place when IME support is unavailable.</td>\n",
       "    </tr>\n",
       "    <tr>\n",
       "      <th>17</th>\n",
       "      <td>InsecureCertificateException</td>\n",
       "      <td>Navigation made the user agent to hit a certif...</td>\n",
       "    </tr>\n",
       "    <tr>\n",
       "      <th>18</th>\n",
       "      <td>InvalidArgumentException</td>\n",
       "      <td>It occurs when an argument does not belong to ...</td>\n",
       "    </tr>\n",
       "    <tr>\n",
       "      <th>19</th>\n",
       "      <td>InvalidCookieDomainException</td>\n",
       "      <td>This happens when you try to add a cookie unde...</td>\n",
       "    </tr>\n",
       "    <tr>\n",
       "      <th>20</th>\n",
       "      <td>InvalidCoordinatesException</td>\n",
       "      <td>This type of Exception matches an interacting ...</td>\n",
       "    </tr>\n",
       "    <tr>\n",
       "      <th>21</th>\n",
       "      <td>InvalidElementStateExceptio</td>\n",
       "      <td>It occurs when command can’t be finished when ...</td>\n",
       "    </tr>\n",
       "    <tr>\n",
       "      <th>22</th>\n",
       "      <td>InvalidSessionIdException</td>\n",
       "      <td>This Exception took place when the given sessi...</td>\n",
       "    </tr>\n",
       "    <tr>\n",
       "      <th>23</th>\n",
       "      <td>InvalidSwitchToTargetException</td>\n",
       "      <td>This occurs when the frame or window target to...</td>\n",
       "    </tr>\n",
       "    <tr>\n",
       "      <th>24</th>\n",
       "      <td>JavascriptException</td>\n",
       "      <td>This issue occurs while executing JavaScript g...</td>\n",
       "    </tr>\n",
       "    <tr>\n",
       "      <th>25</th>\n",
       "      <td>JsonException</td>\n",
       "      <td>It occurs when you afford to get the session w...</td>\n",
       "    </tr>\n",
       "    <tr>\n",
       "      <th>26</th>\n",
       "      <td>NoSuchAttributeException</td>\n",
       "      <td>This kind of Exception occurs when the attribu...</td>\n",
       "    </tr>\n",
       "    <tr>\n",
       "      <th>27</th>\n",
       "      <td>MoveTargetOutOfBoundsException</td>\n",
       "      <td>It takes place if the target provided to the A...</td>\n",
       "    </tr>\n",
       "    <tr>\n",
       "      <th>28</th>\n",
       "      <td>NoSuchContextException</td>\n",
       "      <td>ContextAware does mobile device testing.</td>\n",
       "    </tr>\n",
       "    <tr>\n",
       "      <th>29</th>\n",
       "      <td>NoSuchCookieException</td>\n",
       "      <td>This Exception occurs when no cookie matching ...</td>\n",
       "    </tr>\n",
       "    <tr>\n",
       "      <th>30</th>\n",
       "      <td>NotFoundException</td>\n",
       "      <td>This Exception is a subclass of WebDriverExcep...</td>\n",
       "    </tr>\n",
       "    <tr>\n",
       "      <th>31</th>\n",
       "      <td>RemoteDriverServerException</td>\n",
       "      <td>This Selenium exception is thrown when the ser...</td>\n",
       "    </tr>\n",
       "    <tr>\n",
       "      <th>32</th>\n",
       "      <td>ScreenshotException</td>\n",
       "      <td>It is not possible to capture a screen.</td>\n",
       "    </tr>\n",
       "    <tr>\n",
       "      <th>33</th>\n",
       "      <td>SessionNotCreatedException</td>\n",
       "      <td>It happens when a new session could not be suc...</td>\n",
       "    </tr>\n",
       "    <tr>\n",
       "      <th>34</th>\n",
       "      <td>UnableToSetCookieException</td>\n",
       "      <td>This occurs if a driver is unable to set a coo...</td>\n",
       "    </tr>\n",
       "    <tr>\n",
       "      <th>35</th>\n",
       "      <td>UnexpectedTagNameException</td>\n",
       "      <td>Happens if a support class did not get a web e...</td>\n",
       "    </tr>\n",
       "    <tr>\n",
       "      <th>36</th>\n",
       "      <td>UnhandledAlertException</td>\n",
       "      <td>This expectation occurs when there is an alert...</td>\n",
       "    </tr>\n",
       "    <tr>\n",
       "      <th>37</th>\n",
       "      <td>UnexpectedAlertPresentException</td>\n",
       "      <td>It occurs when there is the appearance of an u...</td>\n",
       "    </tr>\n",
       "    <tr>\n",
       "      <th>38</th>\n",
       "      <td>UnknownMethodException</td>\n",
       "      <td>This Exception happens when the requested comm...</td>\n",
       "    </tr>\n",
       "    <tr>\n",
       "      <th>39</th>\n",
       "      <td>UnreachableBrowserException</td>\n",
       "      <td>This Exception occurs only when the browser is...</td>\n",
       "    </tr>\n",
       "    <tr>\n",
       "      <th>40</th>\n",
       "      <td>UnsupportedCommandException</td>\n",
       "      <td>This occurs when remote WebDriver does n’t sen...</td>\n",
       "    </tr>\n",
       "  </tbody>\n",
       "</table>\n",
       "</div>"
      ],
      "text/plain": [
       "                                   Name  \\\n",
       "0            ElementNotVisibleException   \n",
       "1         ElementNotSelectableException   \n",
       "2                NoSuchElementException   \n",
       "3                  NoSuchFrameException   \n",
       "4               NoAlertPresentException   \n",
       "5                 NoSuchWindowException   \n",
       "6        StaleElementReferenceException   \n",
       "7              SessionNotFoundException   \n",
       "8                      TimeoutException   \n",
       "9                    WebDriverException   \n",
       "10            ConnectionClosedException   \n",
       "11     ElementClickInterceptedException   \n",
       "12      ElementNotInteractableException   \n",
       "13             ErrorInResponseException   \n",
       "14  ErrorHandler.UnknownServerException   \n",
       "15         ImeActivationFailedException   \n",
       "16             ImeNotAvailableException   \n",
       "17         InsecureCertificateException   \n",
       "18             InvalidArgumentException   \n",
       "19         InvalidCookieDomainException   \n",
       "20          InvalidCoordinatesException   \n",
       "21          InvalidElementStateExceptio   \n",
       "22            InvalidSessionIdException   \n",
       "23       InvalidSwitchToTargetException   \n",
       "24                  JavascriptException   \n",
       "25                        JsonException   \n",
       "26             NoSuchAttributeException   \n",
       "27       MoveTargetOutOfBoundsException   \n",
       "28               NoSuchContextException   \n",
       "29                NoSuchCookieException   \n",
       "30                    NotFoundException   \n",
       "31          RemoteDriverServerException   \n",
       "32                  ScreenshotException   \n",
       "33           SessionNotCreatedException   \n",
       "34           UnableToSetCookieException   \n",
       "35           UnexpectedTagNameException   \n",
       "36              UnhandledAlertException   \n",
       "37      UnexpectedAlertPresentException   \n",
       "38               UnknownMethodException   \n",
       "39          UnreachableBrowserException   \n",
       "40          UnsupportedCommandException   \n",
       "\n",
       "                                          Description  \n",
       "0   This type of Selenium exception occurs when an...  \n",
       "1   This Selenium exception occurs when an element...  \n",
       "2   This Exception occurs if an element could not ...  \n",
       "3   This Exception occurs if the frame target to b...  \n",
       "4   This Exception occurs when you switch to no pr...  \n",
       "5   This Exception occurs if the window target to ...  \n",
       "6   This Selenium exception occurs happens when th...  \n",
       "7   The WebDriver is acting after you quit the bro...  \n",
       "8   Thrown when there is not enough time for a com...  \n",
       "9   This Exception takes place when the WebDriver ...  \n",
       "10  This type of Exception takes place when there ...  \n",
       "11  The command may not be completed as the elemen...  \n",
       "12  This Selenium exception is thrown when any ele...  \n",
       "13  This happens while interacting with the Firefo...  \n",
       "14  Exception is used as a placeholder in case if ...  \n",
       "15  This expectation will occur when IME engine ac...  \n",
       "16    It takes place when IME support is unavailable.  \n",
       "17  Navigation made the user agent to hit a certif...  \n",
       "18  It occurs when an argument does not belong to ...  \n",
       "19  This happens when you try to add a cookie unde...  \n",
       "20  This type of Exception matches an interacting ...  \n",
       "21  It occurs when command can’t be finished when ...  \n",
       "22  This Exception took place when the given sessi...  \n",
       "23  This occurs when the frame or window target to...  \n",
       "24  This issue occurs while executing JavaScript g...  \n",
       "25  It occurs when you afford to get the session w...  \n",
       "26  This kind of Exception occurs when the attribu...  \n",
       "27  It takes place if the target provided to the A...  \n",
       "28           ContextAware does mobile device testing.  \n",
       "29  This Exception occurs when no cookie matching ...  \n",
       "30  This Exception is a subclass of WebDriverExcep...  \n",
       "31  This Selenium exception is thrown when the ser...  \n",
       "32            It is not possible to capture a screen.  \n",
       "33  It happens when a new session could not be suc...  \n",
       "34  This occurs if a driver is unable to set a coo...  \n",
       "35  Happens if a support class did not get a web e...  \n",
       "36  This expectation occurs when there is an alert...  \n",
       "37  It occurs when there is the appearance of an u...  \n",
       "38  This Exception happens when the requested comm...  \n",
       "39  This Exception occurs only when the browser is...  \n",
       "40  This occurs when remote WebDriver does n’t sen...  "
      ]
     },
     "execution_count": 481,
     "metadata": {},
     "output_type": "execute_result"
    }
   ],
   "source": [
    "df = pd.DataFrame()\n",
    "df['Name'] = Names\n",
    "df['Description'] = description\n",
    "df"
   ]
  },
  {
   "cell_type": "code",
   "execution_count": 482,
   "id": "08e44ce8",
   "metadata": {},
   "outputs": [],
   "source": [
    "driver.close()"
   ]
  },
  {
   "cell_type": "markdown",
   "id": "793dc707",
   "metadata": {},
   "source": [
    "# 4.  State-wise GDP of India"
   ]
  },
  {
   "cell_type": "code",
   "execution_count": 17,
   "id": "2dbe531d",
   "metadata": {},
   "outputs": [],
   "source": [
    "# running webdriver\n",
    "driver = webdriver.Chrome(r'C:\\Users\\HP\\chromedriver_win32\\chromedriver.exe')\n",
    "\n",
    "# getting the url\n",
    "url = 'http://statisticstimes.com/'\n",
    "driver.get(url)\n",
    "driver.maximize_window()"
   ]
  },
  {
   "cell_type": "code",
   "execution_count": 18,
   "id": "4702f9b2",
   "metadata": {},
   "outputs": [],
   "source": [
    "economy = driver.find_element(By.XPATH,'/html/body/div[2]/div[1]/div[2]/div[2]/button')\n",
    "economy.click()"
   ]
  },
  {
   "cell_type": "code",
   "execution_count": 19,
   "id": "bd51ca5d",
   "metadata": {},
   "outputs": [],
   "source": [
    "india = driver.find_element(By.XPATH,'/html/body/div[2]/div[1]/div[2]/div[2]/div/a[3]')\n",
    "india.click()"
   ]
  },
  {
   "cell_type": "code",
   "execution_count": 20,
   "id": "663f9f19",
   "metadata": {},
   "outputs": [],
   "source": [
    "gdp = driver.find_element(By.XPATH,'/html/body/div[2]/div[2]/div[2]/ul/li[1]/a')\n",
    "gdp.click()"
   ]
  },
  {
   "cell_type": "markdown",
   "id": "c41ee71d",
   "metadata": {},
   "source": [
    "### a) Rank"
   ]
  },
  {
   "cell_type": "code",
   "execution_count": 22,
   "id": "6736f5c3",
   "metadata": {},
   "outputs": [],
   "source": [
    "rank = []\n",
    "ranks = driver.find_elements(By.XPATH,'//table[@id=\"table_id\"]/tbody//tr/td[1]')\n",
    "for i in ranks:\n",
    "    try:\n",
    "        rank.append(i.text)\n",
    "    except NoSuchElementException:\n",
    "        rank.append('-')"
   ]
  },
  {
   "cell_type": "code",
   "execution_count": 24,
   "id": "5db8ef05",
   "metadata": {},
   "outputs": [
    {
     "data": {
      "text/plain": [
       "33"
      ]
     },
     "execution_count": 24,
     "metadata": {},
     "output_type": "execute_result"
    }
   ],
   "source": [
    "len(rank)"
   ]
  },
  {
   "cell_type": "markdown",
   "id": "4b1df08c",
   "metadata": {},
   "source": [
    "### b) State"
   ]
  },
  {
   "cell_type": "code",
   "execution_count": 25,
   "id": "ce637ce3",
   "metadata": {},
   "outputs": [],
   "source": [
    "state = []\n",
    "states = driver.find_elements(By.XPATH,'//table[@id=\"table_id\"]/tbody//tr/td[2]')\n",
    "for i in states:\n",
    "    try:\n",
    "        state.append(i.text)\n",
    "    except NoSuchElementException:\n",
    "        state.append('-')"
   ]
  },
  {
   "cell_type": "code",
   "execution_count": 27,
   "id": "4a5bb9bb",
   "metadata": {},
   "outputs": [
    {
     "data": {
      "text/plain": [
       "33"
      ]
     },
     "execution_count": 27,
     "metadata": {},
     "output_type": "execute_result"
    }
   ],
   "source": [
    "len(state)"
   ]
  },
  {
   "cell_type": "markdown",
   "id": "f1f3b507",
   "metadata": {},
   "source": [
    "### c) GSDP (19-20)"
   ]
  },
  {
   "cell_type": "code",
   "execution_count": 28,
   "id": "06363c16",
   "metadata": {},
   "outputs": [],
   "source": [
    "gsdp_19_20 = []\n",
    "gsdP_19_20_ = driver.find_elements(By.XPATH,'//table[@id=\"table_id\"]/tbody//tr/td[3]')\n",
    "for i in gsdP_19_20_:\n",
    "    try:\n",
    "        gsdp_19_20.append(i.text)\n",
    "    except NoSuchElementException:\n",
    "        gsdp_19_20.append('-')"
   ]
  },
  {
   "cell_type": "code",
   "execution_count": 30,
   "id": "335744aa",
   "metadata": {},
   "outputs": [
    {
     "data": {
      "text/plain": [
       "33"
      ]
     },
     "execution_count": 30,
     "metadata": {},
     "output_type": "execute_result"
    }
   ],
   "source": [
    "len(gsdp_19_20)"
   ]
  },
  {
   "cell_type": "markdown",
   "id": "8e3aa6c7",
   "metadata": {},
   "source": [
    "### d) GSDP (18-19)"
   ]
  },
  {
   "cell_type": "code",
   "execution_count": 31,
   "id": "bc4b087e",
   "metadata": {},
   "outputs": [],
   "source": [
    "gsdp_18_19 = []\n",
    "gsdP_18_19_ = driver.find_elements(By.XPATH,'//table[@id=\"table_id\"]/tbody//tr/td[4]')\n",
    "for i in gsdP_18_19_:\n",
    "    try:\n",
    "        gsdp_18_19.append(i.text)\n",
    "    except NoSuchElementException:\n",
    "        gsdp_18_19.append('-')"
   ]
  },
  {
   "cell_type": "code",
   "execution_count": 33,
   "id": "4aecd5c4",
   "metadata": {},
   "outputs": [
    {
     "data": {
      "text/plain": [
       "33"
      ]
     },
     "execution_count": 33,
     "metadata": {},
     "output_type": "execute_result"
    }
   ],
   "source": [
    "len(gsdp_18_19)"
   ]
  },
  {
   "cell_type": "markdown",
   "id": "0fbd581d",
   "metadata": {},
   "source": [
    "### e) Share (18-19)"
   ]
  },
  {
   "cell_type": "code",
   "execution_count": 34,
   "id": "b6cd6583",
   "metadata": {},
   "outputs": [],
   "source": [
    "share = []\n",
    "share_ = driver.find_elements(By.XPATH,'//table[@id=\"table_id\"]/tbody//tr/td[5]')\n",
    "for i in share_:\n",
    "    try:\n",
    "        share.append(i.text)\n",
    "    except NoSuchElementException:\n",
    "        share.append('-')"
   ]
  },
  {
   "cell_type": "code",
   "execution_count": 36,
   "id": "4a955fec",
   "metadata": {},
   "outputs": [
    {
     "data": {
      "text/plain": [
       "33"
      ]
     },
     "execution_count": 36,
     "metadata": {},
     "output_type": "execute_result"
    }
   ],
   "source": [
    "len(share)"
   ]
  },
  {
   "cell_type": "markdown",
   "id": "4724521f",
   "metadata": {},
   "source": [
    "### f) GDP ($ Billion)"
   ]
  },
  {
   "cell_type": "code",
   "execution_count": 37,
   "id": "9484474e",
   "metadata": {},
   "outputs": [],
   "source": [
    "gdp = []\n",
    "gdp_ = driver.find_elements(By.XPATH,'//table[@id=\"table_id\"]/tbody//tr/td[6]')\n",
    "for i in gdp_:\n",
    "    try:\n",
    "        gdp.append(i.text)\n",
    "    except NoSuchElementException:\n",
    "        gdp.append('-')"
   ]
  },
  {
   "cell_type": "code",
   "execution_count": 39,
   "id": "095061a2",
   "metadata": {},
   "outputs": [
    {
     "data": {
      "text/plain": [
       "33"
      ]
     },
     "execution_count": 39,
     "metadata": {},
     "output_type": "execute_result"
    }
   ],
   "source": [
    "len(gdp)"
   ]
  },
  {
   "cell_type": "markdown",
   "id": "2c4148e6",
   "metadata": {},
   "source": [
    "### Dataframe for Statewise GDP of India"
   ]
  },
  {
   "cell_type": "code",
   "execution_count": 40,
   "id": "25f4338a",
   "metadata": {},
   "outputs": [
    {
     "data": {
      "text/html": [
       "<div>\n",
       "<style scoped>\n",
       "    .dataframe tbody tr th:only-of-type {\n",
       "        vertical-align: middle;\n",
       "    }\n",
       "\n",
       "    .dataframe tbody tr th {\n",
       "        vertical-align: top;\n",
       "    }\n",
       "\n",
       "    .dataframe thead th {\n",
       "        text-align: right;\n",
       "    }\n",
       "</style>\n",
       "<table border=\"1\" class=\"dataframe\">\n",
       "  <thead>\n",
       "    <tr style=\"text-align: right;\">\n",
       "      <th></th>\n",
       "      <th>Rank</th>\n",
       "      <th>State</th>\n",
       "      <th>GSDP(19-20)</th>\n",
       "      <th>GSDP(18-19)</th>\n",
       "      <th>Share(18-19)</th>\n",
       "      <th>GDP($ Billion)</th>\n",
       "    </tr>\n",
       "  </thead>\n",
       "  <tbody>\n",
       "    <tr>\n",
       "      <th>0</th>\n",
       "      <td>1</td>\n",
       "      <td>Maharashtra</td>\n",
       "      <td>-</td>\n",
       "      <td>2,632,792</td>\n",
       "      <td>13.94%</td>\n",
       "      <td>399.921</td>\n",
       "    </tr>\n",
       "    <tr>\n",
       "      <th>1</th>\n",
       "      <td>2</td>\n",
       "      <td>Tamil Nadu</td>\n",
       "      <td>1,845,853</td>\n",
       "      <td>1,630,208</td>\n",
       "      <td>8.63%</td>\n",
       "      <td>247.629</td>\n",
       "    </tr>\n",
       "    <tr>\n",
       "      <th>2</th>\n",
       "      <td>3</td>\n",
       "      <td>Uttar Pradesh</td>\n",
       "      <td>1,687,818</td>\n",
       "      <td>1,584,764</td>\n",
       "      <td>8.39%</td>\n",
       "      <td>240.726</td>\n",
       "    </tr>\n",
       "    <tr>\n",
       "      <th>3</th>\n",
       "      <td>4</td>\n",
       "      <td>Gujarat</td>\n",
       "      <td>-</td>\n",
       "      <td>1,502,899</td>\n",
       "      <td>7.96%</td>\n",
       "      <td>228.290</td>\n",
       "    </tr>\n",
       "    <tr>\n",
       "      <th>4</th>\n",
       "      <td>5</td>\n",
       "      <td>Karnataka</td>\n",
       "      <td>1,631,977</td>\n",
       "      <td>1,493,127</td>\n",
       "      <td>7.91%</td>\n",
       "      <td>226.806</td>\n",
       "    </tr>\n",
       "    <tr>\n",
       "      <th>5</th>\n",
       "      <td>6</td>\n",
       "      <td>West Bengal</td>\n",
       "      <td>1,253,832</td>\n",
       "      <td>1,089,898</td>\n",
       "      <td>5.77%</td>\n",
       "      <td>165.556</td>\n",
       "    </tr>\n",
       "    <tr>\n",
       "      <th>6</th>\n",
       "      <td>7</td>\n",
       "      <td>Rajasthan</td>\n",
       "      <td>1,020,989</td>\n",
       "      <td>942,586</td>\n",
       "      <td>4.99%</td>\n",
       "      <td>143.179</td>\n",
       "    </tr>\n",
       "    <tr>\n",
       "      <th>7</th>\n",
       "      <td>8</td>\n",
       "      <td>Andhra Pradesh</td>\n",
       "      <td>972,782</td>\n",
       "      <td>862,957</td>\n",
       "      <td>4.57%</td>\n",
       "      <td>131.083</td>\n",
       "    </tr>\n",
       "    <tr>\n",
       "      <th>8</th>\n",
       "      <td>9</td>\n",
       "      <td>Telangana</td>\n",
       "      <td>969,604</td>\n",
       "      <td>861,031</td>\n",
       "      <td>4.56%</td>\n",
       "      <td>130.791</td>\n",
       "    </tr>\n",
       "    <tr>\n",
       "      <th>9</th>\n",
       "      <td>10</td>\n",
       "      <td>Madhya Pradesh</td>\n",
       "      <td>906,672</td>\n",
       "      <td>809,592</td>\n",
       "      <td>4.29%</td>\n",
       "      <td>122.977</td>\n",
       "    </tr>\n",
       "    <tr>\n",
       "      <th>10</th>\n",
       "      <td>11</td>\n",
       "      <td>Kerala</td>\n",
       "      <td>-</td>\n",
       "      <td>781,653</td>\n",
       "      <td>4.14%</td>\n",
       "      <td>118.733</td>\n",
       "    </tr>\n",
       "    <tr>\n",
       "      <th>11</th>\n",
       "      <td>12</td>\n",
       "      <td>Delhi</td>\n",
       "      <td>856,112</td>\n",
       "      <td>774,870</td>\n",
       "      <td>4.10%</td>\n",
       "      <td>117.703</td>\n",
       "    </tr>\n",
       "    <tr>\n",
       "      <th>12</th>\n",
       "      <td>13</td>\n",
       "      <td>Haryana</td>\n",
       "      <td>831,610</td>\n",
       "      <td>734,163</td>\n",
       "      <td>3.89%</td>\n",
       "      <td>111.519</td>\n",
       "    </tr>\n",
       "    <tr>\n",
       "      <th>13</th>\n",
       "      <td>14</td>\n",
       "      <td>Bihar</td>\n",
       "      <td>611,804</td>\n",
       "      <td>530,363</td>\n",
       "      <td>2.81%</td>\n",
       "      <td>80.562</td>\n",
       "    </tr>\n",
       "    <tr>\n",
       "      <th>14</th>\n",
       "      <td>15</td>\n",
       "      <td>Punjab</td>\n",
       "      <td>574,760</td>\n",
       "      <td>526,376</td>\n",
       "      <td>2.79%</td>\n",
       "      <td>79.957</td>\n",
       "    </tr>\n",
       "    <tr>\n",
       "      <th>15</th>\n",
       "      <td>16</td>\n",
       "      <td>Odisha</td>\n",
       "      <td>521,275</td>\n",
       "      <td>487,805</td>\n",
       "      <td>2.58%</td>\n",
       "      <td>74.098</td>\n",
       "    </tr>\n",
       "    <tr>\n",
       "      <th>16</th>\n",
       "      <td>17</td>\n",
       "      <td>Assam</td>\n",
       "      <td>-</td>\n",
       "      <td>315,881</td>\n",
       "      <td>1.67%</td>\n",
       "      <td>47.982</td>\n",
       "    </tr>\n",
       "    <tr>\n",
       "      <th>17</th>\n",
       "      <td>18</td>\n",
       "      <td>Chhattisgarh</td>\n",
       "      <td>329,180</td>\n",
       "      <td>304,063</td>\n",
       "      <td>1.61%</td>\n",
       "      <td>46.187</td>\n",
       "    </tr>\n",
       "    <tr>\n",
       "      <th>18</th>\n",
       "      <td>19</td>\n",
       "      <td>Jharkhand</td>\n",
       "      <td>328,598</td>\n",
       "      <td>297,204</td>\n",
       "      <td>1.57%</td>\n",
       "      <td>45.145</td>\n",
       "    </tr>\n",
       "    <tr>\n",
       "      <th>19</th>\n",
       "      <td>20</td>\n",
       "      <td>Uttarakhand</td>\n",
       "      <td>-</td>\n",
       "      <td>245,895</td>\n",
       "      <td>1.30%</td>\n",
       "      <td>37.351</td>\n",
       "    </tr>\n",
       "    <tr>\n",
       "      <th>20</th>\n",
       "      <td>21</td>\n",
       "      <td>Jammu &amp; Kashmir</td>\n",
       "      <td>-</td>\n",
       "      <td>155,956</td>\n",
       "      <td>0.83%</td>\n",
       "      <td>23.690</td>\n",
       "    </tr>\n",
       "    <tr>\n",
       "      <th>21</th>\n",
       "      <td>22</td>\n",
       "      <td>Himachal Pradesh</td>\n",
       "      <td>165,472</td>\n",
       "      <td>153,845</td>\n",
       "      <td>0.81%</td>\n",
       "      <td>23.369</td>\n",
       "    </tr>\n",
       "    <tr>\n",
       "      <th>22</th>\n",
       "      <td>23</td>\n",
       "      <td>Goa</td>\n",
       "      <td>80,449</td>\n",
       "      <td>73,170</td>\n",
       "      <td>0.39%</td>\n",
       "      <td>11.115</td>\n",
       "    </tr>\n",
       "    <tr>\n",
       "      <th>23</th>\n",
       "      <td>24</td>\n",
       "      <td>Tripura</td>\n",
       "      <td>55,984</td>\n",
       "      <td>49,845</td>\n",
       "      <td>0.26%</td>\n",
       "      <td>7.571</td>\n",
       "    </tr>\n",
       "    <tr>\n",
       "      <th>24</th>\n",
       "      <td>25</td>\n",
       "      <td>Chandigarh</td>\n",
       "      <td>-</td>\n",
       "      <td>42,114</td>\n",
       "      <td>0.22%</td>\n",
       "      <td>6.397</td>\n",
       "    </tr>\n",
       "    <tr>\n",
       "      <th>25</th>\n",
       "      <td>26</td>\n",
       "      <td>Puducherry</td>\n",
       "      <td>38,253</td>\n",
       "      <td>34,433</td>\n",
       "      <td>0.18%</td>\n",
       "      <td>5.230</td>\n",
       "    </tr>\n",
       "    <tr>\n",
       "      <th>26</th>\n",
       "      <td>27</td>\n",
       "      <td>Meghalaya</td>\n",
       "      <td>36,572</td>\n",
       "      <td>33,481</td>\n",
       "      <td>0.18%</td>\n",
       "      <td>5.086</td>\n",
       "    </tr>\n",
       "    <tr>\n",
       "      <th>27</th>\n",
       "      <td>28</td>\n",
       "      <td>Sikkim</td>\n",
       "      <td>32,496</td>\n",
       "      <td>28,723</td>\n",
       "      <td>0.15%</td>\n",
       "      <td>4.363</td>\n",
       "    </tr>\n",
       "    <tr>\n",
       "      <th>28</th>\n",
       "      <td>29</td>\n",
       "      <td>Manipur</td>\n",
       "      <td>31,790</td>\n",
       "      <td>27,870</td>\n",
       "      <td>0.15%</td>\n",
       "      <td>4.233</td>\n",
       "    </tr>\n",
       "    <tr>\n",
       "      <th>29</th>\n",
       "      <td>30</td>\n",
       "      <td>Nagaland</td>\n",
       "      <td>-</td>\n",
       "      <td>27,283</td>\n",
       "      <td>0.14%</td>\n",
       "      <td>4.144</td>\n",
       "    </tr>\n",
       "    <tr>\n",
       "      <th>30</th>\n",
       "      <td>31</td>\n",
       "      <td>Arunachal Pradesh</td>\n",
       "      <td>-</td>\n",
       "      <td>24,603</td>\n",
       "      <td>0.13%</td>\n",
       "      <td>3.737</td>\n",
       "    </tr>\n",
       "    <tr>\n",
       "      <th>31</th>\n",
       "      <td>32</td>\n",
       "      <td>Mizoram</td>\n",
       "      <td>26,503</td>\n",
       "      <td>22,287</td>\n",
       "      <td>0.12%</td>\n",
       "      <td>3.385</td>\n",
       "    </tr>\n",
       "    <tr>\n",
       "      <th>32</th>\n",
       "      <td>33</td>\n",
       "      <td>Andaman &amp; Nicobar Islands</td>\n",
       "      <td>-</td>\n",
       "      <td>-</td>\n",
       "      <td>-</td>\n",
       "      <td>-</td>\n",
       "    </tr>\n",
       "  </tbody>\n",
       "</table>\n",
       "</div>"
      ],
      "text/plain": [
       "   Rank                      State GSDP(19-20) GSDP(18-19) Share(18-19)  \\\n",
       "0     1                Maharashtra           -   2,632,792       13.94%   \n",
       "1     2                 Tamil Nadu   1,845,853   1,630,208        8.63%   \n",
       "2     3              Uttar Pradesh   1,687,818   1,584,764        8.39%   \n",
       "3     4                    Gujarat           -   1,502,899        7.96%   \n",
       "4     5                  Karnataka   1,631,977   1,493,127        7.91%   \n",
       "5     6                West Bengal   1,253,832   1,089,898        5.77%   \n",
       "6     7                  Rajasthan   1,020,989     942,586        4.99%   \n",
       "7     8             Andhra Pradesh     972,782     862,957        4.57%   \n",
       "8     9                  Telangana     969,604     861,031        4.56%   \n",
       "9    10             Madhya Pradesh     906,672     809,592        4.29%   \n",
       "10   11                     Kerala           -     781,653        4.14%   \n",
       "11   12                      Delhi     856,112     774,870        4.10%   \n",
       "12   13                    Haryana     831,610     734,163        3.89%   \n",
       "13   14                      Bihar     611,804     530,363        2.81%   \n",
       "14   15                     Punjab     574,760     526,376        2.79%   \n",
       "15   16                     Odisha     521,275     487,805        2.58%   \n",
       "16   17                      Assam           -     315,881        1.67%   \n",
       "17   18               Chhattisgarh     329,180     304,063        1.61%   \n",
       "18   19                  Jharkhand     328,598     297,204        1.57%   \n",
       "19   20                Uttarakhand           -     245,895        1.30%   \n",
       "20   21            Jammu & Kashmir           -     155,956        0.83%   \n",
       "21   22           Himachal Pradesh     165,472     153,845        0.81%   \n",
       "22   23                        Goa      80,449      73,170        0.39%   \n",
       "23   24                    Tripura      55,984      49,845        0.26%   \n",
       "24   25                 Chandigarh           -      42,114        0.22%   \n",
       "25   26                 Puducherry      38,253      34,433        0.18%   \n",
       "26   27                  Meghalaya      36,572      33,481        0.18%   \n",
       "27   28                     Sikkim      32,496      28,723        0.15%   \n",
       "28   29                    Manipur      31,790      27,870        0.15%   \n",
       "29   30                   Nagaland           -      27,283        0.14%   \n",
       "30   31          Arunachal Pradesh           -      24,603        0.13%   \n",
       "31   32                    Mizoram      26,503      22,287        0.12%   \n",
       "32   33  Andaman & Nicobar Islands           -           -            -   \n",
       "\n",
       "   GDP($ Billion)  \n",
       "0         399.921  \n",
       "1         247.629  \n",
       "2         240.726  \n",
       "3         228.290  \n",
       "4         226.806  \n",
       "5         165.556  \n",
       "6         143.179  \n",
       "7         131.083  \n",
       "8         130.791  \n",
       "9         122.977  \n",
       "10        118.733  \n",
       "11        117.703  \n",
       "12        111.519  \n",
       "13         80.562  \n",
       "14         79.957  \n",
       "15         74.098  \n",
       "16         47.982  \n",
       "17         46.187  \n",
       "18         45.145  \n",
       "19         37.351  \n",
       "20         23.690  \n",
       "21         23.369  \n",
       "22         11.115  \n",
       "23          7.571  \n",
       "24          6.397  \n",
       "25          5.230  \n",
       "26          5.086  \n",
       "27          4.363  \n",
       "28          4.233  \n",
       "29          4.144  \n",
       "30          3.737  \n",
       "31          3.385  \n",
       "32              -  "
      ]
     },
     "execution_count": 40,
     "metadata": {},
     "output_type": "execute_result"
    }
   ],
   "source": [
    "df = pd.DataFrame()\n",
    "df['Rank'] = rank\n",
    "df['State'] = state\n",
    "df['GSDP(19-20)'] = gsdp_19_20\n",
    "df['GSDP(18-19)'] = gsdp_18_19\n",
    "df['Share(18-19)'] = share\n",
    "df['GDP($ Billion)'] = gdp\n",
    "df"
   ]
  },
  {
   "cell_type": "code",
   "execution_count": 41,
   "id": "140065b4",
   "metadata": {},
   "outputs": [],
   "source": [
    "driver.close()"
   ]
  },
  {
   "cell_type": "markdown",
   "id": "32e6a673",
   "metadata": {},
   "source": [
    "# 5. Trending repositories on Github"
   ]
  },
  {
   "cell_type": "code",
   "execution_count": 340,
   "id": "987a338c",
   "metadata": {},
   "outputs": [],
   "source": [
    "driver = webdriver.Chrome(r'C:\\Users\\HP\\chromedriver_win32\\chromedriver.exe')\n",
    "\n",
    "# getting the url\n",
    "url = 'https://github.com/'\n",
    "driver.get(url)\n",
    "driver.maximize_window()"
   ]
  },
  {
   "cell_type": "code",
   "execution_count": 343,
   "id": "8ce31ff5",
   "metadata": {},
   "outputs": [],
   "source": [
    "explore = driver.find_element(By.XPATH,'/html/body/div[1]/header/div/div[2]/nav/ul/li[4]/details/summary')\n",
    "explore.click()"
   ]
  },
  {
   "cell_type": "code",
   "execution_count": 344,
   "id": "cd10e989",
   "metadata": {},
   "outputs": [],
   "source": [
    "trending = driver.find_element(By.XPATH,'/html/body/div[1]/header/div/div[2]/nav/ul/li[4]/details/div/ul/li[5]/a')\n",
    "trending.click()"
   ]
  },
  {
   "cell_type": "markdown",
   "id": "05c971da",
   "metadata": {},
   "source": [
    "### a) Repository title"
   ]
  },
  {
   "cell_type": "code",
   "execution_count": 345,
   "id": "9d98b44f",
   "metadata": {},
   "outputs": [],
   "source": [
    "title = []\n",
    "titles = driver.find_elements(By.XPATH,'//h1[@class=\"h3 lh-condensed\"]')\n",
    "for i in titles:\n",
    "    try:\n",
    "        title.append(i.text)\n",
    "    except NoSuchElementException:\n",
    "        pass"
   ]
  },
  {
   "cell_type": "code",
   "execution_count": 375,
   "id": "0a5c158e",
   "metadata": {},
   "outputs": [
    {
     "data": {
      "text/plain": [
       "25"
      ]
     },
     "execution_count": 375,
     "metadata": {},
     "output_type": "execute_result"
    }
   ],
   "source": [
    "len(title)"
   ]
  },
  {
   "cell_type": "markdown",
   "id": "3a684208",
   "metadata": {},
   "source": [
    "### b) Repository description"
   ]
  },
  {
   "cell_type": "code",
   "execution_count": 361,
   "id": "313641be",
   "metadata": {},
   "outputs": [],
   "source": [
    "urls = []\n",
    "urls_ = driver.find_elements(By.XPATH,'//h1[@class=\"h3 lh-condensed\"]/a')\n",
    "for i in urls_:\n",
    "    urls.append(i.get_attribute('href'))"
   ]
  },
  {
   "cell_type": "code",
   "execution_count": 363,
   "id": "8d0ac7a1",
   "metadata": {},
   "outputs": [
    {
     "data": {
      "text/plain": [
       "25"
      ]
     },
     "execution_count": 363,
     "metadata": {},
     "output_type": "execute_result"
    }
   ],
   "source": [
    "len(urls)"
   ]
  },
  {
   "cell_type": "code",
   "execution_count": 454,
   "id": "b9dd14f1",
   "metadata": {},
   "outputs": [],
   "source": [
    "description = []\n",
    "for i in urls:\n",
    "    driver.get(i)\n",
    "    time.sleep(3)\n",
    "    try:\n",
    "        desc = driver.find_element(By.XPATH,'//div[@class=\"BorderGrid-row hide-sm hide-md\"]/div/p')\n",
    "        description.append(desc.text)\n",
    "    except NoSuchElementException:\n",
    "        description.append('-')"
   ]
  },
  {
   "cell_type": "code",
   "execution_count": 455,
   "id": "b3d445df",
   "metadata": {},
   "outputs": [
    {
     "data": {
      "text/plain": [
       "25"
      ]
     },
     "execution_count": 455,
     "metadata": {},
     "output_type": "execute_result"
    }
   ],
   "source": [
    "len(description)"
   ]
  },
  {
   "cell_type": "markdown",
   "id": "583f60e3",
   "metadata": {},
   "source": [
    "### c) Contributors count"
   ]
  },
  {
   "cell_type": "code",
   "execution_count": 390,
   "id": "84c82dba",
   "metadata": {},
   "outputs": [],
   "source": [
    "count = []\n",
    "for i in urls:\n",
    "    driver.get(i)\n",
    "    time.sleep(3)\n",
    "    try:\n",
    "        counts = driver.find_element(By.CLASS_NAME,'Counter')\n",
    "        count.append(counts.text)\n",
    "    except NoSuchElementException:\n",
    "        description.append('-')"
   ]
  },
  {
   "cell_type": "code",
   "execution_count": 392,
   "id": "eb4ff9b0",
   "metadata": {},
   "outputs": [
    {
     "data": {
      "text/plain": [
       "25"
      ]
     },
     "execution_count": 392,
     "metadata": {},
     "output_type": "execute_result"
    }
   ],
   "source": [
    "len(count)"
   ]
  },
  {
   "cell_type": "markdown",
   "id": "f1d4da5a",
   "metadata": {},
   "source": [
    "### d) Language used"
   ]
  },
  {
   "cell_type": "code",
   "execution_count": 448,
   "id": "b080f17d",
   "metadata": {},
   "outputs": [],
   "source": [
    "language = []\n",
    "for i in urls:\n",
    "    driver.get(i)\n",
    "    time.sleep(2)\n",
    "    try:\n",
    "        lg = driver.find_element(By.XPATH,'//li[@class=\"d-inline\"]')\n",
    "        language.append(lg.text.split('\\n'))\n",
    "    except NoSuchElementException:\n",
    "        language.append('-')"
   ]
  },
  {
   "cell_type": "code",
   "execution_count": 451,
   "id": "fceb1221",
   "metadata": {},
   "outputs": [
    {
     "data": {
      "text/plain": [
       "25"
      ]
     },
     "execution_count": 451,
     "metadata": {},
     "output_type": "execute_result"
    }
   ],
   "source": [
    "languages = []\n",
    "for i in range(len(language)):\n",
    "    languages.append(language[i][0])\n",
    "len(languages)"
   ]
  },
  {
   "cell_type": "markdown",
   "id": "0f86348a",
   "metadata": {},
   "source": [
    "### Dataframe for Trending repositories on Github"
   ]
  },
  {
   "cell_type": "code",
   "execution_count": 456,
   "id": "d89fc094",
   "metadata": {},
   "outputs": [
    {
     "data": {
      "text/html": [
       "<div>\n",
       "<style scoped>\n",
       "    .dataframe tbody tr th:only-of-type {\n",
       "        vertical-align: middle;\n",
       "    }\n",
       "\n",
       "    .dataframe tbody tr th {\n",
       "        vertical-align: top;\n",
       "    }\n",
       "\n",
       "    .dataframe thead th {\n",
       "        text-align: right;\n",
       "    }\n",
       "</style>\n",
       "<table border=\"1\" class=\"dataframe\">\n",
       "  <thead>\n",
       "    <tr style=\"text-align: right;\">\n",
       "      <th></th>\n",
       "      <th>Repository title</th>\n",
       "      <th>Repository description</th>\n",
       "      <th>Contributors count</th>\n",
       "      <th>Languages used</th>\n",
       "    </tr>\n",
       "  </thead>\n",
       "  <tbody>\n",
       "    <tr>\n",
       "      <th>0</th>\n",
       "      <td>toeverything / AFFiNE</td>\n",
       "      <td>There can be more than Notion and Miro. Affine...</td>\n",
       "      <td>127</td>\n",
       "      <td>TypeScript</td>\n",
       "    </tr>\n",
       "    <tr>\n",
       "      <th>1</th>\n",
       "      <td>utmapp / UTM</td>\n",
       "      <td>Virtual machines for iOS and macOS</td>\n",
       "      <td>879</td>\n",
       "      <td>Swift</td>\n",
       "    </tr>\n",
       "    <tr>\n",
       "      <th>2</th>\n",
       "      <td>NVIDIAGameWorks / kaolin-wisp</td>\n",
       "      <td>NVIDIA Kaolin Wisp is a PyTorch library powere...</td>\n",
       "      <td>43</td>\n",
       "      <td>Python</td>\n",
       "    </tr>\n",
       "    <tr>\n",
       "      <th>3</th>\n",
       "      <td>microsoft / terminal</td>\n",
       "      <td>The new Windows Terminal and the original Wind...</td>\n",
       "      <td>7.5k</td>\n",
       "      <td>C++</td>\n",
       "    </tr>\n",
       "    <tr>\n",
       "      <th>4</th>\n",
       "      <td>jina-ai / discoart</td>\n",
       "      <td>Create Disco Diffusion artworks in one line</td>\n",
       "      <td>102</td>\n",
       "      <td>Python</td>\n",
       "    </tr>\n",
       "    <tr>\n",
       "      <th>5</th>\n",
       "      <td>martinshkreli / models</td>\n",
       "      <td>stock market models - have fun</td>\n",
       "      <td>33</td>\n",
       "      <td>-</td>\n",
       "    </tr>\n",
       "    <tr>\n",
       "      <th>6</th>\n",
       "      <td>facebookresearch / ParlAI</td>\n",
       "      <td>A framework for training and evaluating AI mod...</td>\n",
       "      <td>1.9k</td>\n",
       "      <td>Python</td>\n",
       "    </tr>\n",
       "    <tr>\n",
       "      <th>7</th>\n",
       "      <td>KalleHallden / exer_log</td>\n",
       "      <td>-</td>\n",
       "      <td>28</td>\n",
       "      <td>Dart</td>\n",
       "    </tr>\n",
       "    <tr>\n",
       "      <th>8</th>\n",
       "      <td>juliocesarfort / public-pentesting-reports</td>\n",
       "      <td>Curated list of public penetration test report...</td>\n",
       "      <td>1.5k</td>\n",
       "      <td>CSS</td>\n",
       "    </tr>\n",
       "    <tr>\n",
       "      <th>9</th>\n",
       "      <td>EbookFoundation / free-programming-books</td>\n",
       "      <td>📚 Freely available programming books</td>\n",
       "      <td>50.2k</td>\n",
       "      <td>-</td>\n",
       "    </tr>\n",
       "    <tr>\n",
       "      <th>10</th>\n",
       "      <td>moyix / fauxpilot</td>\n",
       "      <td>FauxPilot - an open-source GitHub Copilot server</td>\n",
       "      <td>98</td>\n",
       "      <td>Python</td>\n",
       "    </tr>\n",
       "    <tr>\n",
       "      <th>11</th>\n",
       "      <td>josejesusguzman / acordeon-az500-innoovaccion</td>\n",
       "      <td>-</td>\n",
       "      <td>11</td>\n",
       "      <td>-</td>\n",
       "    </tr>\n",
       "    <tr>\n",
       "      <th>12</th>\n",
       "      <td>adiwajshing / Baileys</td>\n",
       "      <td>Lightweight full-featured WhatsApp Web + Multi...</td>\n",
       "      <td>1.1k</td>\n",
       "      <td>JavaScript</td>\n",
       "    </tr>\n",
       "    <tr>\n",
       "      <th>13</th>\n",
       "      <td>qmk / qmk_firmware</td>\n",
       "      <td>Open-source keyboard firmware for Atmel AVR an...</td>\n",
       "      <td>27.6k</td>\n",
       "      <td>C</td>\n",
       "    </tr>\n",
       "    <tr>\n",
       "      <th>14</th>\n",
       "      <td>valinet / ExplorerPatcher</td>\n",
       "      <td>This project aims to enhance the working envir...</td>\n",
       "      <td>403</td>\n",
       "      <td>C</td>\n",
       "    </tr>\n",
       "    <tr>\n",
       "      <th>15</th>\n",
       "      <td>PKUFlyingPig / cs-self-learning</td>\n",
       "      <td>计算机自学指南</td>\n",
       "      <td>1.6k</td>\n",
       "      <td>HTML</td>\n",
       "    </tr>\n",
       "    <tr>\n",
       "      <th>16</th>\n",
       "      <td>lucidrains / imagen-pytorch</td>\n",
       "      <td>Implementation of Imagen, Google's Text-to-Ima...</td>\n",
       "      <td>324</td>\n",
       "      <td>Python</td>\n",
       "    </tr>\n",
       "    <tr>\n",
       "      <th>17</th>\n",
       "      <td>Womsxd / AutoMihoyoBBS</td>\n",
       "      <td>米游社自动签到，支持：崩坏二、崩坏三、原神、未定事件簿，米游币自动获取</td>\n",
       "      <td>246</td>\n",
       "      <td>Python</td>\n",
       "    </tr>\n",
       "    <tr>\n",
       "      <th>18</th>\n",
       "      <td>getify / You-Dont-Know-JS</td>\n",
       "      <td>A book series on JavaScript. @YDKJS on twitter.</td>\n",
       "      <td>30.9k</td>\n",
       "      <td>-</td>\n",
       "    </tr>\n",
       "    <tr>\n",
       "      <th>19</th>\n",
       "      <td>coolsnowwolf / lede</td>\n",
       "      <td>Lean's OpenWrt source</td>\n",
       "      <td>17.8k</td>\n",
       "      <td>C</td>\n",
       "    </tr>\n",
       "    <tr>\n",
       "      <th>20</th>\n",
       "      <td>google-research / multinerf</td>\n",
       "      <td>A Code Release for Mip-NeRF 360, Ref-NeRF, and...</td>\n",
       "      <td>32</td>\n",
       "      <td>Python</td>\n",
       "    </tr>\n",
       "    <tr>\n",
       "      <th>21</th>\n",
       "      <td>termux / termux-app</td>\n",
       "      <td>Termux - a terminal emulator application for A...</td>\n",
       "      <td>1.9k</td>\n",
       "      <td>Java</td>\n",
       "    </tr>\n",
       "    <tr>\n",
       "      <th>22</th>\n",
       "      <td>godotengine / godot</td>\n",
       "      <td>Godot Engine – Multi-platform 2D and 3D game e...</td>\n",
       "      <td>9.1k</td>\n",
       "      <td>C++</td>\n",
       "    </tr>\n",
       "    <tr>\n",
       "      <th>23</th>\n",
       "      <td>rust-lang / rust-analyzer</td>\n",
       "      <td>A Rust compiler front-end for IDEs</td>\n",
       "      <td>1k</td>\n",
       "      <td>Rust</td>\n",
       "    </tr>\n",
       "    <tr>\n",
       "      <th>24</th>\n",
       "      <td>ventoy / Ventoy</td>\n",
       "      <td>A new bootable USB solution.</td>\n",
       "      <td>2.8k</td>\n",
       "      <td>C</td>\n",
       "    </tr>\n",
       "  </tbody>\n",
       "</table>\n",
       "</div>"
      ],
      "text/plain": [
       "                                 Repository title  \\\n",
       "0                           toeverything / AFFiNE   \n",
       "1                                    utmapp / UTM   \n",
       "2                   NVIDIAGameWorks / kaolin-wisp   \n",
       "3                            microsoft / terminal   \n",
       "4                              jina-ai / discoart   \n",
       "5                          martinshkreli / models   \n",
       "6                       facebookresearch / ParlAI   \n",
       "7                         KalleHallden / exer_log   \n",
       "8      juliocesarfort / public-pentesting-reports   \n",
       "9        EbookFoundation / free-programming-books   \n",
       "10                              moyix / fauxpilot   \n",
       "11  josejesusguzman / acordeon-az500-innoovaccion   \n",
       "12                          adiwajshing / Baileys   \n",
       "13                             qmk / qmk_firmware   \n",
       "14                      valinet / ExplorerPatcher   \n",
       "15                PKUFlyingPig / cs-self-learning   \n",
       "16                    lucidrains / imagen-pytorch   \n",
       "17                         Womsxd / AutoMihoyoBBS   \n",
       "18                      getify / You-Dont-Know-JS   \n",
       "19                            coolsnowwolf / lede   \n",
       "20                    google-research / multinerf   \n",
       "21                            termux / termux-app   \n",
       "22                            godotengine / godot   \n",
       "23                      rust-lang / rust-analyzer   \n",
       "24                                ventoy / Ventoy   \n",
       "\n",
       "                               Repository description Contributors count  \\\n",
       "0   There can be more than Notion and Miro. Affine...                127   \n",
       "1                  Virtual machines for iOS and macOS                879   \n",
       "2   NVIDIA Kaolin Wisp is a PyTorch library powere...                 43   \n",
       "3   The new Windows Terminal and the original Wind...               7.5k   \n",
       "4         Create Disco Diffusion artworks in one line                102   \n",
       "5                      stock market models - have fun                 33   \n",
       "6   A framework for training and evaluating AI mod...               1.9k   \n",
       "7                                                   -                 28   \n",
       "8   Curated list of public penetration test report...               1.5k   \n",
       "9                📚 Freely available programming books              50.2k   \n",
       "10   FauxPilot - an open-source GitHub Copilot server                 98   \n",
       "11                                                  -                 11   \n",
       "12  Lightweight full-featured WhatsApp Web + Multi...               1.1k   \n",
       "13  Open-source keyboard firmware for Atmel AVR an...              27.6k   \n",
       "14  This project aims to enhance the working envir...                403   \n",
       "15                                            计算机自学指南               1.6k   \n",
       "16  Implementation of Imagen, Google's Text-to-Ima...                324   \n",
       "17                米游社自动签到，支持：崩坏二、崩坏三、原神、未定事件簿，米游币自动获取                246   \n",
       "18    A book series on JavaScript. @YDKJS on twitter.              30.9k   \n",
       "19                              Lean's OpenWrt source              17.8k   \n",
       "20  A Code Release for Mip-NeRF 360, Ref-NeRF, and...                 32   \n",
       "21  Termux - a terminal emulator application for A...               1.9k   \n",
       "22  Godot Engine – Multi-platform 2D and 3D game e...               9.1k   \n",
       "23                 A Rust compiler front-end for IDEs                 1k   \n",
       "24                       A new bootable USB solution.               2.8k   \n",
       "\n",
       "   Languages used  \n",
       "0      TypeScript  \n",
       "1           Swift  \n",
       "2          Python  \n",
       "3             C++  \n",
       "4          Python  \n",
       "5               -  \n",
       "6          Python  \n",
       "7            Dart  \n",
       "8             CSS  \n",
       "9               -  \n",
       "10         Python  \n",
       "11              -  \n",
       "12     JavaScript  \n",
       "13              C  \n",
       "14              C  \n",
       "15           HTML  \n",
       "16         Python  \n",
       "17         Python  \n",
       "18              -  \n",
       "19              C  \n",
       "20         Python  \n",
       "21           Java  \n",
       "22            C++  \n",
       "23           Rust  \n",
       "24              C  "
      ]
     },
     "execution_count": 456,
     "metadata": {},
     "output_type": "execute_result"
    }
   ],
   "source": [
    "df = pd.DataFrame()\n",
    "df['Repository title'] = title\n",
    "df['Repository description'] = description\n",
    "df['Contributors count'] = count\n",
    "df['Languages used'] = languages\n",
    "df"
   ]
  },
  {
   "cell_type": "code",
   "execution_count": 457,
   "id": "1299ac29",
   "metadata": {},
   "outputs": [],
   "source": [
    "driver.close()"
   ]
  },
  {
   "cell_type": "markdown",
   "id": "5c07ec8c",
   "metadata": {},
   "source": [
    "# 6.  Top 100 songs on Billboard"
   ]
  },
  {
   "cell_type": "code",
   "execution_count": 49,
   "id": "29841b42",
   "metadata": {},
   "outputs": [],
   "source": [
    "driver = webdriver.Chrome(r'C:\\Users\\HP\\chromedriver_win32\\chromedriver.exe')\n",
    "\n",
    "# getting the url\n",
    "url = 'https://www.billboard.com/'\n",
    "driver.get(url)\n",
    "driver.maximize_window()"
   ]
  },
  {
   "cell_type": "code",
   "execution_count": 51,
   "id": "bea86cbd",
   "metadata": {},
   "outputs": [],
   "source": [
    "charts = driver.find_element(By.XPATH,'/html/body/div[3]/header/div[1]/div/div/div[2]/div/nav/ul/li[1]/a')\n",
    "charts.click()"
   ]
  },
  {
   "cell_type": "code",
   "execution_count": 52,
   "id": "a071a747",
   "metadata": {},
   "outputs": [],
   "source": [
    "hot = driver.find_element(By.XPATH,'/html/body/div[3]/main/div[2]/div[1]/div[1]/div/div/div[1]/div[1]/div[2]/span/a')\n",
    "hot.click()"
   ]
  },
  {
   "cell_type": "markdown",
   "id": "26fc4ec0",
   "metadata": {},
   "source": [
    "### a) Song name"
   ]
  },
  {
   "cell_type": "code",
   "execution_count": 58,
   "id": "55ba1c24",
   "metadata": {},
   "outputs": [],
   "source": [
    "song = []\n",
    "sg = driver.find_elements(By.ID,'title-of-a-story')\n",
    "for i in sg:\n",
    "    try:\n",
    "        song.append(i.text)\n",
    "    except NoSuchElementException:\n",
    "        song.append('-')"
   ]
  },
  {
   "cell_type": "code",
   "execution_count": 64,
   "id": "6de785f4",
   "metadata": {},
   "outputs": [
    {
     "data": {
      "text/plain": [
       "100"
      ]
     },
     "execution_count": 64,
     "metadata": {},
     "output_type": "execute_result"
    }
   ],
   "source": [
    "song = list(filter(None,song))\n",
    "song = song[:100]\n",
    "len(song)"
   ]
  },
  {
   "cell_type": "markdown",
   "id": "43283823",
   "metadata": {},
   "source": [
    "### b) Artist name"
   ]
  },
  {
   "cell_type": "code",
   "execution_count": 70,
   "id": "b0e8cd3b",
   "metadata": {},
   "outputs": [],
   "source": [
    "name = []\n",
    "nm = driver.find_elements(By.XPATH,'//li[@class=\"lrv-u-width-100p\"]/ul/li[1]/span')\n",
    "for i in nm:\n",
    "    try:\n",
    "        name.append(i.text)\n",
    "    except NoSuchElementException:\n",
    "        name.append('-')"
   ]
  },
  {
   "cell_type": "code",
   "execution_count": 72,
   "id": "37970dec",
   "metadata": {},
   "outputs": [
    {
     "data": {
      "text/plain": [
       "100"
      ]
     },
     "execution_count": 72,
     "metadata": {},
     "output_type": "execute_result"
    }
   ],
   "source": [
    "len(name)"
   ]
  },
  {
   "cell_type": "markdown",
   "id": "ca4a216d",
   "metadata": {},
   "source": [
    "### c) Last week rank"
   ]
  },
  {
   "cell_type": "code",
   "execution_count": 73,
   "id": "478505b7",
   "metadata": {},
   "outputs": [],
   "source": [
    "week = []\n",
    "wrank = driver.find_elements(By.XPATH,'//li[@class=\"lrv-u-width-100p u-hidden@tablet\"]/ul/li[3]/span')\n",
    "for i in wrank:\n",
    "    try:\n",
    "        week.append(i.text)\n",
    "    except NoSuchElementException:\n",
    "        week.append('-')"
   ]
  },
  {
   "cell_type": "code",
   "execution_count": 75,
   "id": "5bf86486",
   "metadata": {},
   "outputs": [
    {
     "data": {
      "text/plain": [
       "100"
      ]
     },
     "execution_count": 75,
     "metadata": {},
     "output_type": "execute_result"
    }
   ],
   "source": [
    "len(week)"
   ]
  },
  {
   "cell_type": "markdown",
   "id": "0a7ed9e3",
   "metadata": {},
   "source": [
    "### d) Peak rank"
   ]
  },
  {
   "cell_type": "code",
   "execution_count": 76,
   "id": "5aa6a6b4",
   "metadata": {},
   "outputs": [],
   "source": [
    "peak = []\n",
    "prank = driver.find_elements(By.XPATH,'//li[@class=\"lrv-u-width-100p u-hidden@tablet\"]/ul/li[4]/span')\n",
    "for i in prank:\n",
    "    try:\n",
    "        peak.append(i.text)\n",
    "    except NoSuchElementException:\n",
    "        peak.append('-')"
   ]
  },
  {
   "cell_type": "code",
   "execution_count": 78,
   "id": "3ea2e05d",
   "metadata": {},
   "outputs": [
    {
     "data": {
      "text/plain": [
       "100"
      ]
     },
     "execution_count": 78,
     "metadata": {},
     "output_type": "execute_result"
    }
   ],
   "source": [
    "len(peak)"
   ]
  },
  {
   "cell_type": "markdown",
   "id": "6f532f6e",
   "metadata": {},
   "source": [
    "### e) Weeks on board"
   ]
  },
  {
   "cell_type": "code",
   "execution_count": 80,
   "id": "f3274fab",
   "metadata": {},
   "outputs": [],
   "source": [
    "board = []\n",
    "wboard = driver.find_elements(By.XPATH,'//li[@class=\"lrv-u-width-100p u-hidden@tablet\"]/ul/li[5]/span')\n",
    "for i in wboard:\n",
    "    try:\n",
    "        board.append(i.text)\n",
    "    except NoSuchElementException:\n",
    "        board.append('-')"
   ]
  },
  {
   "cell_type": "code",
   "execution_count": 82,
   "id": "7e794ae7",
   "metadata": {},
   "outputs": [
    {
     "data": {
      "text/plain": [
       "100"
      ]
     },
     "execution_count": 82,
     "metadata": {},
     "output_type": "execute_result"
    }
   ],
   "source": [
    "len(board)"
   ]
  },
  {
   "cell_type": "markdown",
   "id": "36dcc20e",
   "metadata": {},
   "source": [
    "### Dataframe for top 100 songs on Billboard"
   ]
  },
  {
   "cell_type": "code",
   "execution_count": 83,
   "id": "255602d2",
   "metadata": {},
   "outputs": [
    {
     "data": {
      "text/html": [
       "<div>\n",
       "<style scoped>\n",
       "    .dataframe tbody tr th:only-of-type {\n",
       "        vertical-align: middle;\n",
       "    }\n",
       "\n",
       "    .dataframe tbody tr th {\n",
       "        vertical-align: top;\n",
       "    }\n",
       "\n",
       "    .dataframe thead th {\n",
       "        text-align: right;\n",
       "    }\n",
       "</style>\n",
       "<table border=\"1\" class=\"dataframe\">\n",
       "  <thead>\n",
       "    <tr style=\"text-align: right;\">\n",
       "      <th></th>\n",
       "      <th>Song name</th>\n",
       "      <th>Artist name</th>\n",
       "      <th>Last week rank</th>\n",
       "      <th>Peak rank</th>\n",
       "      <th>Weeks on board</th>\n",
       "    </tr>\n",
       "  </thead>\n",
       "  <tbody>\n",
       "    <tr>\n",
       "      <th>0</th>\n",
       "      <td>Break My Soul</td>\n",
       "      <td>Beyonce</td>\n",
       "      <td>6</td>\n",
       "      <td>1</td>\n",
       "      <td>7</td>\n",
       "    </tr>\n",
       "    <tr>\n",
       "      <th>1</th>\n",
       "      <td>About Damn Time</td>\n",
       "      <td>Lizzo</td>\n",
       "      <td>1</td>\n",
       "      <td>1</td>\n",
       "      <td>16</td>\n",
       "    </tr>\n",
       "    <tr>\n",
       "      <th>2</th>\n",
       "      <td>As It Was</td>\n",
       "      <td>Harry Styles</td>\n",
       "      <td>2</td>\n",
       "      <td>1</td>\n",
       "      <td>18</td>\n",
       "    </tr>\n",
       "    <tr>\n",
       "      <th>3</th>\n",
       "      <td>Running Up That Hill (A Deal With God)</td>\n",
       "      <td>Kate Bush</td>\n",
       "      <td>3</td>\n",
       "      <td>3</td>\n",
       "      <td>30</td>\n",
       "    </tr>\n",
       "    <tr>\n",
       "      <th>4</th>\n",
       "      <td>Wait For U</td>\n",
       "      <td>Future Featuring Drake &amp; Tems</td>\n",
       "      <td>5</td>\n",
       "      <td>1</td>\n",
       "      <td>14</td>\n",
       "    </tr>\n",
       "    <tr>\n",
       "      <th>...</th>\n",
       "      <td>...</td>\n",
       "      <td>...</td>\n",
       "      <td>...</td>\n",
       "      <td>...</td>\n",
       "      <td>...</td>\n",
       "    </tr>\n",
       "    <tr>\n",
       "      <th>95</th>\n",
       "      <td>Until I Found You</td>\n",
       "      <td>Stephen Sanchez</td>\n",
       "      <td>88</td>\n",
       "      <td>88</td>\n",
       "      <td>5</td>\n",
       "    </tr>\n",
       "    <tr>\n",
       "      <th>96</th>\n",
       "      <td>Un Ratito</td>\n",
       "      <td>Bad Bunny</td>\n",
       "      <td>93</td>\n",
       "      <td>16</td>\n",
       "      <td>13</td>\n",
       "    </tr>\n",
       "    <tr>\n",
       "      <th>97</th>\n",
       "      <td>Best Thing Since Backroads</td>\n",
       "      <td>Jake Owen</td>\n",
       "      <td>72</td>\n",
       "      <td>72</td>\n",
       "      <td>4</td>\n",
       "    </tr>\n",
       "    <tr>\n",
       "      <th>98</th>\n",
       "      <td>La Corriente</td>\n",
       "      <td>Bad Bunny &amp; Tony Dize</td>\n",
       "      <td>100</td>\n",
       "      <td>32</td>\n",
       "      <td>10</td>\n",
       "    </tr>\n",
       "    <tr>\n",
       "      <th>99</th>\n",
       "      <td>Bzrp Music Sessions, Vol. 52</td>\n",
       "      <td>Bizarrap &amp; Quevedo</td>\n",
       "      <td>98</td>\n",
       "      <td>98</td>\n",
       "      <td>2</td>\n",
       "    </tr>\n",
       "  </tbody>\n",
       "</table>\n",
       "<p>100 rows × 5 columns</p>\n",
       "</div>"
      ],
      "text/plain": [
       "                                 Song name                    Artist name  \\\n",
       "0                            Break My Soul                        Beyonce   \n",
       "1                          About Damn Time                          Lizzo   \n",
       "2                                As It Was                   Harry Styles   \n",
       "3   Running Up That Hill (A Deal With God)                      Kate Bush   \n",
       "4                               Wait For U  Future Featuring Drake & Tems   \n",
       "..                                     ...                            ...   \n",
       "95                       Until I Found You                Stephen Sanchez   \n",
       "96                               Un Ratito                      Bad Bunny   \n",
       "97              Best Thing Since Backroads                      Jake Owen   \n",
       "98                            La Corriente          Bad Bunny & Tony Dize   \n",
       "99            Bzrp Music Sessions, Vol. 52             Bizarrap & Quevedo   \n",
       "\n",
       "   Last week rank Peak rank Weeks on board  \n",
       "0               6         1              7  \n",
       "1               1         1             16  \n",
       "2               2         1             18  \n",
       "3               3         3             30  \n",
       "4               5         1             14  \n",
       "..            ...       ...            ...  \n",
       "95             88        88              5  \n",
       "96             93        16             13  \n",
       "97             72        72              4  \n",
       "98            100        32             10  \n",
       "99             98        98              2  \n",
       "\n",
       "[100 rows x 5 columns]"
      ]
     },
     "execution_count": 83,
     "metadata": {},
     "output_type": "execute_result"
    }
   ],
   "source": [
    "df = pd.DataFrame()\n",
    "df['Song name'] = song\n",
    "df['Artist name'] = name\n",
    "df['Last week rank'] = week\n",
    "df['Peak rank'] = peak\n",
    "df['Weeks on board'] = board\n",
    "df"
   ]
  },
  {
   "cell_type": "code",
   "execution_count": 84,
   "id": "1758c6ca",
   "metadata": {},
   "outputs": [],
   "source": [
    "driver.close()"
   ]
  },
  {
   "cell_type": "markdown",
   "id": "71e615cd",
   "metadata": {},
   "source": [
    "# 7. Data science recruiters"
   ]
  },
  {
   "cell_type": "code",
   "execution_count": 64,
   "id": "438dacf9",
   "metadata": {},
   "outputs": [],
   "source": [
    "driver = webdriver.Chrome(r'C:\\Users\\HP\\chromedriver_win32\\chromedriver.exe')\n",
    "\n",
    "# getting the url\n",
    "url = 'https://www.naukri.com/hr-recruiters-consultants'\n",
    "driver.get(url)\n",
    "driver.maximize_window()"
   ]
  },
  {
   "cell_type": "code",
   "execution_count": 65,
   "id": "7015df59",
   "metadata": {},
   "outputs": [],
   "source": [
    "rec = driver.find_element(By.XPATH,'/html/body/div[1]/div/ul/li[2]/a/div')\n",
    "rec.click()"
   ]
  },
  {
   "cell_type": "code",
   "execution_count": 66,
   "id": "64fb12b4",
   "metadata": {},
   "outputs": [],
   "source": [
    "from selenium.webdriver.common.keys import Keys"
   ]
  },
  {
   "cell_type": "code",
   "execution_count": 67,
   "id": "0fa092ad",
   "metadata": {},
   "outputs": [],
   "source": [
    "search = driver.find_element(By.XPATH,'/html/body/div[2]/div[2]/div[1]/div[1]/form/div[1]/div/div[1]/div[1]/div[2]/input')\n",
    "search.send_keys('Data science')\n",
    "time.sleep(3)\n",
    "search.send_keys(Keys.ENTER)"
   ]
  },
  {
   "cell_type": "code",
   "execution_count": 70,
   "id": "03bcb2d0",
   "metadata": {},
   "outputs": [],
   "source": [
    "page2 = driver.find_element(By.XPATH,'/html/body/div[3]/div/div[2]/div/div[3]/button')\n",
    "page2.click()"
   ]
  },
  {
   "cell_type": "markdown",
   "id": "9e48af78",
   "metadata": {},
   "source": [
    "- The first page has no **previous** button.\n",
    "- When i tried to go for next page each time, the driver gets back to previous page since from second page onwards, there is **previous** and **next** button and they both have exactly same xpath.\n",
    "- Due to this, the driver gets me back to the previous page and then next and then previous and this goes on untill the loop finishes.\n",
    "- So, i just decided to scrape from the 2nd page onwards so that i could locate exactly the path for the **next button** by index.\n",
    "- We can also scrape the url of the 1st page first, and then make one list with urls from 2nd page onwards.\n",
    "\n",
    "**Since it took a long time to scrape all 6000+ names, i'll just scrape for 150 names from the first 3 pages (from 2nd page onwards, i.e., page 2,3,4)**\n",
    "- This will contain 150 entries (50 from each page)"
   ]
  },
  {
   "cell_type": "code",
   "execution_count": 71,
   "id": "07b97fbc",
   "metadata": {},
   "outputs": [],
   "source": [
    "urls2 = []\n",
    "for page in range(0,3):\n",
    "    time.sleep(2)\n",
    "    url2 = driver.find_elements(By.XPATH,'//div[@id=\"tabP-1\"]/div/div/div[1]/div[1]/p/a[1]')\n",
    "    for i in url2:\n",
    "        urls2.append(i.get_attribute('href'))\n",
    "    next_button = driver.find_element(By.XPATH,'//div[@class=\"pagination\"]/button[2]')\n",
    "    next_button.click()"
   ]
  },
  {
   "cell_type": "markdown",
   "id": "40400f3b",
   "metadata": {},
   "source": [
    "### a) Name"
   ]
  },
  {
   "cell_type": "code",
   "execution_count": 78,
   "id": "8ebddec3",
   "metadata": {},
   "outputs": [],
   "source": [
    "name = []\n",
    "for i in urls2:\n",
    "    driver.get(i)\n",
    "    time.sleep(3)\n",
    "    try:\n",
    "        nm = driver.find_element(By.XPATH,'//h1[@class=\"fl ellipsis wLimit hd\"]')\n",
    "        name.append(nm.text)\n",
    "    except NoSuchElementException:\n",
    "        name.append(\"-\")"
   ]
  },
  {
   "cell_type": "code",
   "execution_count": 80,
   "id": "475a6824",
   "metadata": {},
   "outputs": [
    {
     "data": {
      "text/plain": [
       "150"
      ]
     },
     "execution_count": 80,
     "metadata": {},
     "output_type": "execute_result"
    }
   ],
   "source": [
    "len(name)"
   ]
  },
  {
   "cell_type": "markdown",
   "id": "25a6c65f",
   "metadata": {},
   "source": [
    "### b) Designation"
   ]
  },
  {
   "cell_type": "code",
   "execution_count": 84,
   "id": "9adf0eed",
   "metadata": {},
   "outputs": [],
   "source": [
    "designation = []\n",
    "for i in urls2:\n",
    "    driver.get(i)\n",
    "    time.sleep(2)\n",
    "    try:\n",
    "        dg = driver.find_element(By.XPATH,'/html/body/div[2]/div[1]/div[1]/div[2]/div[3]')\n",
    "        designation.append(dg.text)\n",
    "    except NoSuchElementException:\n",
    "        designation.append(\"-\")"
   ]
  },
  {
   "cell_type": "code",
   "execution_count": 86,
   "id": "b7c82e0e",
   "metadata": {},
   "outputs": [
    {
     "data": {
      "text/plain": [
       "150"
      ]
     },
     "execution_count": 86,
     "metadata": {},
     "output_type": "execute_result"
    }
   ],
   "source": [
    "len(designation)"
   ]
  },
  {
   "cell_type": "markdown",
   "id": "9eedb361",
   "metadata": {},
   "source": [
    "### c) Company"
   ]
  },
  {
   "cell_type": "code",
   "execution_count": 89,
   "id": "914a843a",
   "metadata": {},
   "outputs": [],
   "source": [
    "company = []\n",
    "for i in urls2:\n",
    "    driver.get(i)\n",
    "    time.sleep(2)\n",
    "    try:\n",
    "        comp = driver.find_element(By.XPATH,'/html/body/div[2]/div[1]/div[1]/div[2]/div[4]/a')\n",
    "        company.append(comp.text)\n",
    "    except NoSuchElementException:\n",
    "        company.append(\"-\")"
   ]
  },
  {
   "cell_type": "code",
   "execution_count": 91,
   "id": "e2969d28",
   "metadata": {},
   "outputs": [
    {
     "data": {
      "text/plain": [
       "150"
      ]
     },
     "execution_count": 91,
     "metadata": {},
     "output_type": "execute_result"
    }
   ],
   "source": [
    "len(company)"
   ]
  },
  {
   "cell_type": "markdown",
   "id": "3656a4ae",
   "metadata": {},
   "source": [
    "### d) Skills hiring"
   ]
  },
  {
   "cell_type": "code",
   "execution_count": 92,
   "id": "cf1b484f",
   "metadata": {},
   "outputs": [],
   "source": [
    "skills = []\n",
    "for i in urls2:\n",
    "    driver.get(i)\n",
    "    time.sleep(2)\n",
    "    try:\n",
    "        sk = driver.find_element(By.XPATH,'//div[@class=\"fl lPortn\"]/p[1]')\n",
    "        skills.append(sk.text)\n",
    "    except NoSuchElementException:\n",
    "        skills.append(\"-\")"
   ]
  },
  {
   "cell_type": "code",
   "execution_count": 96,
   "id": "6b6716f2",
   "metadata": {},
   "outputs": [
    {
     "data": {
      "text/plain": [
       "150"
      ]
     },
     "execution_count": 96,
     "metadata": {},
     "output_type": "execute_result"
    }
   ],
   "source": [
    "len(skills)"
   ]
  },
  {
   "cell_type": "markdown",
   "id": "2b505b53",
   "metadata": {},
   "source": [
    "### e) Location"
   ]
  },
  {
   "cell_type": "code",
   "execution_count": 97,
   "id": "82f6982e",
   "metadata": {},
   "outputs": [],
   "source": [
    "location = []\n",
    "for i in urls2:\n",
    "    driver.get(i)\n",
    "    time.sleep(2)\n",
    "    try:\n",
    "        loc = driver.find_element(By.XPATH,'//div[@class=\"rFrame fl infoWrapper\"]/div[5]/a')\n",
    "        location.append(loc.text)\n",
    "    except NoSuchElementException:\n",
    "        location.append(\"-\")"
   ]
  },
  {
   "cell_type": "code",
   "execution_count": 100,
   "id": "f5f26e25",
   "metadata": {},
   "outputs": [
    {
     "data": {
      "text/plain": [
       "150"
      ]
     },
     "execution_count": 100,
     "metadata": {},
     "output_type": "execute_result"
    }
   ],
   "source": [
    "len(location)"
   ]
  },
  {
   "cell_type": "markdown",
   "id": "c8a4c019",
   "metadata": {},
   "source": [
    "### Dataframe for Data science recruiters"
   ]
  },
  {
   "cell_type": "code",
   "execution_count": 99,
   "id": "1ec6bfe1",
   "metadata": {},
   "outputs": [
    {
     "data": {
      "text/html": [
       "<div>\n",
       "<style scoped>\n",
       "    .dataframe tbody tr th:only-of-type {\n",
       "        vertical-align: middle;\n",
       "    }\n",
       "\n",
       "    .dataframe tbody tr th {\n",
       "        vertical-align: top;\n",
       "    }\n",
       "\n",
       "    .dataframe thead th {\n",
       "        text-align: right;\n",
       "    }\n",
       "</style>\n",
       "<table border=\"1\" class=\"dataframe\">\n",
       "  <thead>\n",
       "    <tr style=\"text-align: right;\">\n",
       "      <th></th>\n",
       "      <th>Name</th>\n",
       "      <th>Designation</th>\n",
       "      <th>Company</th>\n",
       "      <th>Skills hiring</th>\n",
       "      <th>Location</th>\n",
       "    </tr>\n",
       "  </thead>\n",
       "  <tbody>\n",
       "    <tr>\n",
       "      <th>0</th>\n",
       "      <td>Ravi Dubey</td>\n",
       "      <td>Recruitment Manager</td>\n",
       "      <td>HyrEzy Talent Solutions LLP</td>\n",
       "      <td>Mid Level, Top Mangement Level</td>\n",
       "      <td>Ghaziabad</td>\n",
       "    </tr>\n",
       "    <tr>\n",
       "      <th>1</th>\n",
       "      <td>Shailaja.N</td>\n",
       "      <td>Company Recruiter</td>\n",
       "      <td>Kigyan School of Data Science Pvt.Ltd.</td>\n",
       "      <td>-</td>\n",
       "      <td>Bengaluru / Bangalore</td>\n",
       "    </tr>\n",
       "    <tr>\n",
       "      <th>2</th>\n",
       "      <td>Sunny Sharma</td>\n",
       "      <td>Managing Director - HR</td>\n",
       "      <td>Western Service Providers</td>\n",
       "      <td>Software Professionals , Engineering , Technic...</td>\n",
       "      <td>Mumbai</td>\n",
       "    </tr>\n",
       "    <tr>\n",
       "      <th>3</th>\n",
       "      <td>vidya bhushan singh</td>\n",
       "      <td>jaipur</td>\n",
       "      <td>Next Data Science</td>\n",
       "      <td>Business Analysis</td>\n",
       "      <td>Jaipur</td>\n",
       "    </tr>\n",
       "    <tr>\n",
       "      <th>4</th>\n",
       "      <td>Sagar Lama</td>\n",
       "      <td>Company HR Manager</td>\n",
       "      <td>AdView</td>\n",
       "      <td>Full Stack Developers , Product Manager , Data...</td>\n",
       "      <td>Bengaluru / Bangalore</td>\n",
       "    </tr>\n",
       "    <tr>\n",
       "      <th>...</th>\n",
       "      <td>...</td>\n",
       "      <td>...</td>\n",
       "      <td>...</td>\n",
       "      <td>...</td>\n",
       "      <td>...</td>\n",
       "    </tr>\n",
       "    <tr>\n",
       "      <th>145</th>\n",
       "      <td>Adhilakshmi</td>\n",
       "      <td>Senior IT Recruiter</td>\n",
       "      <td>Avyayh</td>\n",
       "      <td>Web Designer , Web Developer , PHP Developer ,...</td>\n",
       "      <td>Chennai</td>\n",
       "    </tr>\n",
       "    <tr>\n",
       "      <th>146</th>\n",
       "      <td>Rose Mary</td>\n",
       "      <td>Talent Acquisition Specialist</td>\n",
       "      <td>Flex i Partners</td>\n",
       "      <td>Mid Level, Junior Level</td>\n",
       "      <td>Bengaluru / Bangalore</td>\n",
       "    </tr>\n",
       "    <tr>\n",
       "      <th>147</th>\n",
       "      <td>Azim Hajiyani</td>\n",
       "      <td>Sr. Associate - Recruitment</td>\n",
       "      <td>Synechron Technologies Private Limited</td>\n",
       "      <td>Core Java , Java , C++ , Business Analyst , An...</td>\n",
       "      <td>Pune</td>\n",
       "    </tr>\n",
       "    <tr>\n",
       "      <th>148</th>\n",
       "      <td>Nasim khan</td>\n",
       "      <td>Company HR</td>\n",
       "      <td>Angel Broking Limited</td>\n",
       "      <td>-</td>\n",
       "      <td>Mumbai</td>\n",
       "    </tr>\n",
       "    <tr>\n",
       "      <th>149</th>\n",
       "      <td>AMIT CHAUDHARY</td>\n",
       "      <td>Human Resources Specialist</td>\n",
       "      <td>AlfaTech ,</td>\n",
       "      <td>Mid Level, High Level</td>\n",
       "      <td>Mumbai</td>\n",
       "    </tr>\n",
       "  </tbody>\n",
       "</table>\n",
       "<p>150 rows × 5 columns</p>\n",
       "</div>"
      ],
      "text/plain": [
       "                    Name                    Designation  \\\n",
       "0             Ravi Dubey            Recruitment Manager   \n",
       "1             Shailaja.N              Company Recruiter   \n",
       "2           Sunny Sharma         Managing Director - HR   \n",
       "3    vidya bhushan singh                         jaipur   \n",
       "4             Sagar Lama             Company HR Manager   \n",
       "..                   ...                            ...   \n",
       "145          Adhilakshmi            Senior IT Recruiter   \n",
       "146            Rose Mary  Talent Acquisition Specialist   \n",
       "147        Azim Hajiyani    Sr. Associate - Recruitment   \n",
       "148           Nasim khan                     Company HR   \n",
       "149       AMIT CHAUDHARY     Human Resources Specialist   \n",
       "\n",
       "                                    Company  \\\n",
       "0               HyrEzy Talent Solutions LLP   \n",
       "1    Kigyan School of Data Science Pvt.Ltd.   \n",
       "2                 Western Service Providers   \n",
       "3                         Next Data Science   \n",
       "4                                    AdView   \n",
       "..                                      ...   \n",
       "145                                  Avyayh   \n",
       "146                         Flex i Partners   \n",
       "147  Synechron Technologies Private Limited   \n",
       "148                   Angel Broking Limited   \n",
       "149                              AlfaTech ,   \n",
       "\n",
       "                                         Skills hiring               Location  \n",
       "0                       Mid Level, Top Mangement Level              Ghaziabad  \n",
       "1                                                    -  Bengaluru / Bangalore  \n",
       "2    Software Professionals , Engineering , Technic...                 Mumbai  \n",
       "3                                    Business Analysis                 Jaipur  \n",
       "4    Full Stack Developers , Product Manager , Data...  Bengaluru / Bangalore  \n",
       "..                                                 ...                    ...  \n",
       "145  Web Designer , Web Developer , PHP Developer ,...                Chennai  \n",
       "146                            Mid Level, Junior Level  Bengaluru / Bangalore  \n",
       "147  Core Java , Java , C++ , Business Analyst , An...                   Pune  \n",
       "148                                                  -                 Mumbai  \n",
       "149                              Mid Level, High Level                 Mumbai  \n",
       "\n",
       "[150 rows x 5 columns]"
      ]
     },
     "execution_count": 99,
     "metadata": {},
     "output_type": "execute_result"
    }
   ],
   "source": [
    "df = pd.DataFrame()\n",
    "df['Name'] = name\n",
    "df['Designation'] = designation\n",
    "df['Company'] = company\n",
    "df['Skills hiring'] = skills\n",
    "df['Location'] = location\n",
    "df"
   ]
  },
  {
   "cell_type": "code",
   "execution_count": 101,
   "id": "824dc8c0",
   "metadata": {},
   "outputs": [],
   "source": [
    "driver.close()"
   ]
  },
  {
   "cell_type": "markdown",
   "id": "38df3ce7",
   "metadata": {},
   "source": [
    "# 8. Highest selling novels"
   ]
  },
  {
   "cell_type": "code",
   "execution_count": 22,
   "id": "bf1b74bb",
   "metadata": {},
   "outputs": [],
   "source": [
    "driver = webdriver.Chrome(r'C:\\Users\\HP\\chromedriver_win32\\chromedriver.exe')\n",
    "\n",
    "# getting the url\n",
    "url = 'https://www.theguardian.com/news/datablog/2012/aug/09/best-selling-books-all-time-fifty-shades-grey-compare'\n",
    "driver.get(url)\n",
    "driver.maximize_window()"
   ]
  },
  {
   "cell_type": "markdown",
   "id": "bdeb40c7",
   "metadata": {},
   "source": [
    "### a) Book name"
   ]
  },
  {
   "cell_type": "code",
   "execution_count": 25,
   "id": "708f9adb",
   "metadata": {},
   "outputs": [],
   "source": [
    "book = []\n",
    "books = driver.find_elements(By.XPATH,'//div[@class=\"embed block\"]/table/tbody/tr/td[2]')\n",
    "for i in books:\n",
    "    try:\n",
    "        book.append(i.text)\n",
    "    except NoSuchElementException:\n",
    "        book.append('-')"
   ]
  },
  {
   "cell_type": "code",
   "execution_count": 27,
   "id": "2993fd64",
   "metadata": {},
   "outputs": [
    {
     "data": {
      "text/plain": [
       "100"
      ]
     },
     "execution_count": 27,
     "metadata": {},
     "output_type": "execute_result"
    }
   ],
   "source": [
    "len(book)"
   ]
  },
  {
   "cell_type": "markdown",
   "id": "92d79a72",
   "metadata": {},
   "source": [
    "### b) Author name"
   ]
  },
  {
   "cell_type": "code",
   "execution_count": 29,
   "id": "56873a2b",
   "metadata": {},
   "outputs": [],
   "source": [
    "author = []\n",
    "authors = driver.find_elements(By.XPATH,'//div[@class=\"embed block\"]/table/tbody/tr/td[3]')\n",
    "for i in authors:\n",
    "    try:\n",
    "        author.append(i.text)\n",
    "    except NoSuchElementException:\n",
    "        author.append('-')"
   ]
  },
  {
   "cell_type": "code",
   "execution_count": 31,
   "id": "a6c2d717",
   "metadata": {},
   "outputs": [
    {
     "data": {
      "text/plain": [
       "100"
      ]
     },
     "execution_count": 31,
     "metadata": {},
     "output_type": "execute_result"
    }
   ],
   "source": [
    "len(author)"
   ]
  },
  {
   "cell_type": "markdown",
   "id": "e41ccb96",
   "metadata": {},
   "source": [
    "### c) Volumes sold"
   ]
  },
  {
   "cell_type": "code",
   "execution_count": 33,
   "id": "b58d5b86",
   "metadata": {},
   "outputs": [],
   "source": [
    "sold = []\n",
    "vol_sold = driver.find_elements(By.XPATH,'//div[@class=\"embed block\"]/table/tbody/tr/td[4]')\n",
    "for i in vol_sold:\n",
    "    try:\n",
    "        sold.append(i.text)\n",
    "    except NoSuchElementException:\n",
    "        sold.append('-')"
   ]
  },
  {
   "cell_type": "code",
   "execution_count": 35,
   "id": "badc94bc",
   "metadata": {},
   "outputs": [
    {
     "data": {
      "text/plain": [
       "100"
      ]
     },
     "execution_count": 35,
     "metadata": {},
     "output_type": "execute_result"
    }
   ],
   "source": [
    "len(sold)"
   ]
  },
  {
   "cell_type": "markdown",
   "id": "31dafed8",
   "metadata": {},
   "source": [
    "### d) Publisher"
   ]
  },
  {
   "cell_type": "code",
   "execution_count": 36,
   "id": "bfdd60f7",
   "metadata": {},
   "outputs": [],
   "source": [
    "publisher = []\n",
    "pub = driver.find_elements(By.XPATH,'//div[@class=\"embed block\"]/table/tbody/tr/td[5]')\n",
    "for i in pub:\n",
    "    try:\n",
    "        publisher.append(i.text)\n",
    "    except NoSuchElementException:\n",
    "        publisher.append('-')"
   ]
  },
  {
   "cell_type": "code",
   "execution_count": 38,
   "id": "08e89333",
   "metadata": {},
   "outputs": [
    {
     "data": {
      "text/plain": [
       "100"
      ]
     },
     "execution_count": 38,
     "metadata": {},
     "output_type": "execute_result"
    }
   ],
   "source": [
    "len(publisher)"
   ]
  },
  {
   "cell_type": "markdown",
   "id": "4b11c947",
   "metadata": {},
   "source": [
    "### e) Genre"
   ]
  },
  {
   "cell_type": "code",
   "execution_count": 39,
   "id": "3a9ec819",
   "metadata": {},
   "outputs": [],
   "source": [
    "genre = []\n",
    "gr = driver.find_elements(By.XPATH,'//div[@class=\"embed block\"]/table/tbody/tr/td[6]')\n",
    "for i in gr:\n",
    "    try:\n",
    "        genre.append(i.text)\n",
    "    except NoSuchElementException:\n",
    "        genre.append('-')"
   ]
  },
  {
   "cell_type": "code",
   "execution_count": 41,
   "id": "be149361",
   "metadata": {},
   "outputs": [
    {
     "data": {
      "text/plain": [
       "100"
      ]
     },
     "execution_count": 41,
     "metadata": {},
     "output_type": "execute_result"
    }
   ],
   "source": [
    "len(genre)"
   ]
  },
  {
   "cell_type": "markdown",
   "id": "0e993a5b",
   "metadata": {},
   "source": [
    "### Dataframe for highest selling novels"
   ]
  },
  {
   "cell_type": "code",
   "execution_count": 42,
   "id": "083e01b1",
   "metadata": {},
   "outputs": [
    {
     "data": {
      "text/html": [
       "<div>\n",
       "<style scoped>\n",
       "    .dataframe tbody tr th:only-of-type {\n",
       "        vertical-align: middle;\n",
       "    }\n",
       "\n",
       "    .dataframe tbody tr th {\n",
       "        vertical-align: top;\n",
       "    }\n",
       "\n",
       "    .dataframe thead th {\n",
       "        text-align: right;\n",
       "    }\n",
       "</style>\n",
       "<table border=\"1\" class=\"dataframe\">\n",
       "  <thead>\n",
       "    <tr style=\"text-align: right;\">\n",
       "      <th></th>\n",
       "      <th>Book name</th>\n",
       "      <th>Author name</th>\n",
       "      <th>Volumes sold</th>\n",
       "      <th>Publisher</th>\n",
       "      <th>Genre</th>\n",
       "    </tr>\n",
       "  </thead>\n",
       "  <tbody>\n",
       "    <tr>\n",
       "      <th>0</th>\n",
       "      <td>Da Vinci Code,The</td>\n",
       "      <td>Brown, Dan</td>\n",
       "      <td>5,094,805</td>\n",
       "      <td>Transworld</td>\n",
       "      <td>Crime, Thriller &amp; Adventure</td>\n",
       "    </tr>\n",
       "    <tr>\n",
       "      <th>1</th>\n",
       "      <td>Harry Potter and the Deathly Hallows</td>\n",
       "      <td>Rowling, J.K.</td>\n",
       "      <td>4,475,152</td>\n",
       "      <td>Bloomsbury</td>\n",
       "      <td>Children's Fiction</td>\n",
       "    </tr>\n",
       "    <tr>\n",
       "      <th>2</th>\n",
       "      <td>Harry Potter and the Philosopher's Stone</td>\n",
       "      <td>Rowling, J.K.</td>\n",
       "      <td>4,200,654</td>\n",
       "      <td>Bloomsbury</td>\n",
       "      <td>Children's Fiction</td>\n",
       "    </tr>\n",
       "    <tr>\n",
       "      <th>3</th>\n",
       "      <td>Harry Potter and the Order of the Phoenix</td>\n",
       "      <td>Rowling, J.K.</td>\n",
       "      <td>4,179,479</td>\n",
       "      <td>Bloomsbury</td>\n",
       "      <td>Children's Fiction</td>\n",
       "    </tr>\n",
       "    <tr>\n",
       "      <th>4</th>\n",
       "      <td>Fifty Shades of Grey</td>\n",
       "      <td>James, E. L.</td>\n",
       "      <td>3,758,936</td>\n",
       "      <td>Random House</td>\n",
       "      <td>Romance &amp; Sagas</td>\n",
       "    </tr>\n",
       "    <tr>\n",
       "      <th>...</th>\n",
       "      <td>...</td>\n",
       "      <td>...</td>\n",
       "      <td>...</td>\n",
       "      <td>...</td>\n",
       "      <td>...</td>\n",
       "    </tr>\n",
       "    <tr>\n",
       "      <th>95</th>\n",
       "      <td>Ghost,The</td>\n",
       "      <td>Harris, Robert</td>\n",
       "      <td>807,311</td>\n",
       "      <td>Random House</td>\n",
       "      <td>General &amp; Literary Fiction</td>\n",
       "    </tr>\n",
       "    <tr>\n",
       "      <th>96</th>\n",
       "      <td>Happy Days with the Naked Chef</td>\n",
       "      <td>Oliver, Jamie</td>\n",
       "      <td>794,201</td>\n",
       "      <td>Penguin</td>\n",
       "      <td>Food &amp; Drink: General</td>\n",
       "    </tr>\n",
       "    <tr>\n",
       "      <th>97</th>\n",
       "      <td>Hunger Games,The:Hunger Games Trilogy</td>\n",
       "      <td>Collins, Suzanne</td>\n",
       "      <td>792,187</td>\n",
       "      <td>Scholastic Ltd.</td>\n",
       "      <td>Young Adult Fiction</td>\n",
       "    </tr>\n",
       "    <tr>\n",
       "      <th>98</th>\n",
       "      <td>Lost Boy,The:A Foster Child's Search for the L...</td>\n",
       "      <td>Pelzer, Dave</td>\n",
       "      <td>791,507</td>\n",
       "      <td>Orion</td>\n",
       "      <td>Biography: General</td>\n",
       "    </tr>\n",
       "    <tr>\n",
       "      <th>99</th>\n",
       "      <td>Jamie's Ministry of Food:Anyone Can Learn to C...</td>\n",
       "      <td>Oliver, Jamie</td>\n",
       "      <td>791,095</td>\n",
       "      <td>Penguin</td>\n",
       "      <td>Food &amp; Drink: General</td>\n",
       "    </tr>\n",
       "  </tbody>\n",
       "</table>\n",
       "<p>100 rows × 5 columns</p>\n",
       "</div>"
      ],
      "text/plain": [
       "                                            Book name       Author name  \\\n",
       "0                                   Da Vinci Code,The        Brown, Dan   \n",
       "1                Harry Potter and the Deathly Hallows     Rowling, J.K.   \n",
       "2            Harry Potter and the Philosopher's Stone     Rowling, J.K.   \n",
       "3           Harry Potter and the Order of the Phoenix     Rowling, J.K.   \n",
       "4                                Fifty Shades of Grey      James, E. L.   \n",
       "..                                                ...               ...   \n",
       "95                                          Ghost,The    Harris, Robert   \n",
       "96                     Happy Days with the Naked Chef     Oliver, Jamie   \n",
       "97              Hunger Games,The:Hunger Games Trilogy  Collins, Suzanne   \n",
       "98  Lost Boy,The:A Foster Child's Search for the L...      Pelzer, Dave   \n",
       "99  Jamie's Ministry of Food:Anyone Can Learn to C...     Oliver, Jamie   \n",
       "\n",
       "   Volumes sold        Publisher                        Genre  \n",
       "0     5,094,805       Transworld  Crime, Thriller & Adventure  \n",
       "1     4,475,152       Bloomsbury           Children's Fiction  \n",
       "2     4,200,654       Bloomsbury           Children's Fiction  \n",
       "3     4,179,479       Bloomsbury           Children's Fiction  \n",
       "4     3,758,936     Random House              Romance & Sagas  \n",
       "..          ...              ...                          ...  \n",
       "95      807,311     Random House   General & Literary Fiction  \n",
       "96      794,201          Penguin        Food & Drink: General  \n",
       "97      792,187  Scholastic Ltd.          Young Adult Fiction  \n",
       "98      791,507            Orion           Biography: General  \n",
       "99      791,095          Penguin        Food & Drink: General  \n",
       "\n",
       "[100 rows x 5 columns]"
      ]
     },
     "execution_count": 42,
     "metadata": {},
     "output_type": "execute_result"
    }
   ],
   "source": [
    "df = pd.DataFrame()\n",
    "df['Book name'] = book\n",
    "df['Author name'] = author\n",
    "df['Volumes sold'] = sold\n",
    "df['Publisher'] = publisher\n",
    "df['Genre'] = genre\n",
    "df"
   ]
  },
  {
   "cell_type": "code",
   "execution_count": 43,
   "id": "475a9d26",
   "metadata": {},
   "outputs": [],
   "source": [
    "driver.close()"
   ]
  },
  {
   "cell_type": "markdown",
   "id": "1259649b",
   "metadata": {},
   "source": [
    "# 9. Most watched TV series of all time"
   ]
  },
  {
   "cell_type": "code",
   "execution_count": 44,
   "id": "7bc8e29b",
   "metadata": {},
   "outputs": [],
   "source": [
    "driver = webdriver.Chrome(r'C:\\Users\\HP\\chromedriver_win32\\chromedriver.exe')\n",
    "\n",
    "# getting the url\n",
    "url = 'http://www.imdb.com/list/ls095964455/'\n",
    "driver.get(url)\n",
    "driver.maximize_window()"
   ]
  },
  {
   "cell_type": "markdown",
   "id": "873f09c6",
   "metadata": {},
   "source": [
    "### a) Name"
   ]
  },
  {
   "cell_type": "code",
   "execution_count": 45,
   "id": "20a64b10",
   "metadata": {},
   "outputs": [],
   "source": [
    "name = []\n",
    "nm = driver.find_elements(By.XPATH,'//h3[@class=\"lister-item-header\"]/a')\n",
    "for i in nm:\n",
    "    try:\n",
    "        name.append(i.text)\n",
    "    except NoSuchElementException:\n",
    "        name.append('-')"
   ]
  },
  {
   "cell_type": "code",
   "execution_count": 47,
   "id": "d055fa3a",
   "metadata": {},
   "outputs": [
    {
     "data": {
      "text/plain": [
       "100"
      ]
     },
     "execution_count": 47,
     "metadata": {},
     "output_type": "execute_result"
    }
   ],
   "source": [
    "len(name)"
   ]
  },
  {
   "cell_type": "markdown",
   "id": "e4eea294",
   "metadata": {},
   "source": [
    "### b) Year span"
   ]
  },
  {
   "cell_type": "code",
   "execution_count": 48,
   "id": "9d819421",
   "metadata": {},
   "outputs": [],
   "source": [
    "span = []\n",
    "yspan = driver.find_elements(By.XPATH,'//h3[@class=\"lister-item-header\"]/span[2]')\n",
    "for i in yspan:\n",
    "    try:\n",
    "        span.append(i.text)\n",
    "    except NoSuchElementException:\n",
    "        span.append('-')"
   ]
  },
  {
   "cell_type": "code",
   "execution_count": 50,
   "id": "199bbc60",
   "metadata": {},
   "outputs": [
    {
     "data": {
      "text/plain": [
       "100"
      ]
     },
     "execution_count": 50,
     "metadata": {},
     "output_type": "execute_result"
    }
   ],
   "source": [
    "len(span)"
   ]
  },
  {
   "cell_type": "markdown",
   "id": "746aec5b",
   "metadata": {},
   "source": [
    "### c) Genre"
   ]
  },
  {
   "cell_type": "code",
   "execution_count": 51,
   "id": "4377a993",
   "metadata": {},
   "outputs": [],
   "source": [
    "genre = []\n",
    "gr = driver.find_elements(By.XPATH,'//p[@class=\"text-muted text-small\"]/span[5]')\n",
    "for i in gr:\n",
    "    try:\n",
    "        genre.append(i.text)\n",
    "    except NoSuchElementException:\n",
    "        genre.append('-')"
   ]
  },
  {
   "cell_type": "code",
   "execution_count": 53,
   "id": "cc16dbe7",
   "metadata": {},
   "outputs": [
    {
     "data": {
      "text/plain": [
       "100"
      ]
     },
     "execution_count": 53,
     "metadata": {},
     "output_type": "execute_result"
    }
   ],
   "source": [
    "len(genre)"
   ]
  },
  {
   "cell_type": "markdown",
   "id": "a03c1532",
   "metadata": {},
   "source": [
    "### d) Run time"
   ]
  },
  {
   "cell_type": "code",
   "execution_count": 54,
   "id": "68aaa989",
   "metadata": {},
   "outputs": [],
   "source": [
    "time = []\n",
    "rtime = driver.find_elements(By.XPATH,'//p[@class=\"text-muted text-small\"]/span[3]')\n",
    "for i in rtime:\n",
    "    try:\n",
    "        time.append(i.text)\n",
    "    except NoSuchElementException:\n",
    "        time.append('-')"
   ]
  },
  {
   "cell_type": "code",
   "execution_count": 56,
   "id": "b06829f2",
   "metadata": {},
   "outputs": [
    {
     "data": {
      "text/plain": [
       "100"
      ]
     },
     "execution_count": 56,
     "metadata": {},
     "output_type": "execute_result"
    }
   ],
   "source": [
    "len(time)"
   ]
  },
  {
   "cell_type": "markdown",
   "id": "52cfcf3f",
   "metadata": {},
   "source": [
    "### e) Ratings"
   ]
  },
  {
   "cell_type": "code",
   "execution_count": 57,
   "id": "f31b9cd1",
   "metadata": {},
   "outputs": [],
   "source": [
    "ratings = []\n",
    "rat = driver.find_elements(By.XPATH,'//div[@class=\"ipl-rating-widget\"]/div[1]/span[2]')\n",
    "for i in rat:\n",
    "    try:\n",
    "        ratings.append(i.text)\n",
    "    except NoSuchElementException:\n",
    "        ratings.append('-')"
   ]
  },
  {
   "cell_type": "code",
   "execution_count": 59,
   "id": "b8a2899c",
   "metadata": {},
   "outputs": [
    {
     "data": {
      "text/plain": [
       "100"
      ]
     },
     "execution_count": 59,
     "metadata": {},
     "output_type": "execute_result"
    }
   ],
   "source": [
    "len(ratings)"
   ]
  },
  {
   "cell_type": "markdown",
   "id": "4aa756b0",
   "metadata": {},
   "source": [
    "### f) Votes"
   ]
  },
  {
   "cell_type": "code",
   "execution_count": 60,
   "id": "4c8a9f6d",
   "metadata": {},
   "outputs": [],
   "source": [
    "votes = []\n",
    "vt = driver.find_elements(By.XPATH,'//div[@class=\"lister-item-content\"]/p[4]/span[2]')\n",
    "for i in vt:\n",
    "    try:\n",
    "        votes.append(i.text)\n",
    "    except NoSuchElementException:\n",
    "        votes.append('-')"
   ]
  },
  {
   "cell_type": "code",
   "execution_count": 62,
   "id": "3e0d163a",
   "metadata": {},
   "outputs": [
    {
     "data": {
      "text/plain": [
       "100"
      ]
     },
     "execution_count": 62,
     "metadata": {},
     "output_type": "execute_result"
    }
   ],
   "source": [
    "len(votes)"
   ]
  },
  {
   "cell_type": "markdown",
   "id": "c05a45ac",
   "metadata": {},
   "source": [
    "### Dataframe for 'Most watched TV series of all time'"
   ]
  },
  {
   "cell_type": "code",
   "execution_count": 63,
   "id": "eaa32da0",
   "metadata": {},
   "outputs": [
    {
     "data": {
      "text/html": [
       "<div>\n",
       "<style scoped>\n",
       "    .dataframe tbody tr th:only-of-type {\n",
       "        vertical-align: middle;\n",
       "    }\n",
       "\n",
       "    .dataframe tbody tr th {\n",
       "        vertical-align: top;\n",
       "    }\n",
       "\n",
       "    .dataframe thead th {\n",
       "        text-align: right;\n",
       "    }\n",
       "</style>\n",
       "<table border=\"1\" class=\"dataframe\">\n",
       "  <thead>\n",
       "    <tr style=\"text-align: right;\">\n",
       "      <th></th>\n",
       "      <th>Name</th>\n",
       "      <th>Year span</th>\n",
       "      <th>Genre</th>\n",
       "      <th>Run time</th>\n",
       "      <th>Ratings</th>\n",
       "      <th>Votes</th>\n",
       "    </tr>\n",
       "  </thead>\n",
       "  <tbody>\n",
       "    <tr>\n",
       "      <th>0</th>\n",
       "      <td>Game of Thrones</td>\n",
       "      <td>(2011–2019)</td>\n",
       "      <td>Action, Adventure, Drama</td>\n",
       "      <td>57 min</td>\n",
       "      <td>9.2</td>\n",
       "      <td>2,021,249</td>\n",
       "    </tr>\n",
       "    <tr>\n",
       "      <th>1</th>\n",
       "      <td>Stranger Things</td>\n",
       "      <td>(2016– )</td>\n",
       "      <td>Drama, Fantasy, Horror</td>\n",
       "      <td>51 min</td>\n",
       "      <td>8.7</td>\n",
       "      <td>1,117,563</td>\n",
       "    </tr>\n",
       "    <tr>\n",
       "      <th>2</th>\n",
       "      <td>The Walking Dead</td>\n",
       "      <td>(2010–2022)</td>\n",
       "      <td>Drama, Horror, Thriller</td>\n",
       "      <td>44 min</td>\n",
       "      <td>8.2</td>\n",
       "      <td>959,738</td>\n",
       "    </tr>\n",
       "    <tr>\n",
       "      <th>3</th>\n",
       "      <td>13 Reasons Why</td>\n",
       "      <td>(2017–2020)</td>\n",
       "      <td>Drama, Mystery, Thriller</td>\n",
       "      <td>60 min</td>\n",
       "      <td>7.5</td>\n",
       "      <td>286,901</td>\n",
       "    </tr>\n",
       "    <tr>\n",
       "      <th>4</th>\n",
       "      <td>The 100</td>\n",
       "      <td>(2014–2020)</td>\n",
       "      <td>Drama, Mystery, Sci-Fi</td>\n",
       "      <td>43 min</td>\n",
       "      <td>7.6</td>\n",
       "      <td>246,513</td>\n",
       "    </tr>\n",
       "    <tr>\n",
       "      <th>...</th>\n",
       "      <td>...</td>\n",
       "      <td>...</td>\n",
       "      <td>...</td>\n",
       "      <td>...</td>\n",
       "      <td>...</td>\n",
       "      <td>...</td>\n",
       "    </tr>\n",
       "    <tr>\n",
       "      <th>95</th>\n",
       "      <td>Reign</td>\n",
       "      <td>(2013–2017)</td>\n",
       "      <td>Drama</td>\n",
       "      <td>42 min</td>\n",
       "      <td>7.4</td>\n",
       "      <td>49,266</td>\n",
       "    </tr>\n",
       "    <tr>\n",
       "      <th>96</th>\n",
       "      <td>A Series of Unfortunate Events</td>\n",
       "      <td>(2017–2019)</td>\n",
       "      <td>Adventure, Comedy, Drama</td>\n",
       "      <td>50 min</td>\n",
       "      <td>7.8</td>\n",
       "      <td>60,157</td>\n",
       "    </tr>\n",
       "    <tr>\n",
       "      <th>97</th>\n",
       "      <td>Criminal Minds</td>\n",
       "      <td>(2005–2020)</td>\n",
       "      <td>Crime, Drama, Mystery</td>\n",
       "      <td>42 min</td>\n",
       "      <td>8.1</td>\n",
       "      <td>193,396</td>\n",
       "    </tr>\n",
       "    <tr>\n",
       "      <th>98</th>\n",
       "      <td>Scream: The TV Series</td>\n",
       "      <td>(2015–2019)</td>\n",
       "      <td>Comedy, Crime, Drama</td>\n",
       "      <td>45 min</td>\n",
       "      <td>7.1</td>\n",
       "      <td>40,807</td>\n",
       "    </tr>\n",
       "    <tr>\n",
       "      <th>99</th>\n",
       "      <td>The Haunting of Hill House</td>\n",
       "      <td>(2018)</td>\n",
       "      <td>Drama, Horror, Mystery</td>\n",
       "      <td>572 min</td>\n",
       "      <td>8.6</td>\n",
       "      <td>233,328</td>\n",
       "    </tr>\n",
       "  </tbody>\n",
       "</table>\n",
       "<p>100 rows × 6 columns</p>\n",
       "</div>"
      ],
      "text/plain": [
       "                              Name    Year span                     Genre  \\\n",
       "0                  Game of Thrones  (2011–2019)  Action, Adventure, Drama   \n",
       "1                  Stranger Things     (2016– )    Drama, Fantasy, Horror   \n",
       "2                 The Walking Dead  (2010–2022)   Drama, Horror, Thriller   \n",
       "3                   13 Reasons Why  (2017–2020)  Drama, Mystery, Thriller   \n",
       "4                          The 100  (2014–2020)    Drama, Mystery, Sci-Fi   \n",
       "..                             ...          ...                       ...   \n",
       "95                           Reign  (2013–2017)                     Drama   \n",
       "96  A Series of Unfortunate Events  (2017–2019)  Adventure, Comedy, Drama   \n",
       "97                  Criminal Minds  (2005–2020)     Crime, Drama, Mystery   \n",
       "98           Scream: The TV Series  (2015–2019)      Comedy, Crime, Drama   \n",
       "99      The Haunting of Hill House       (2018)    Drama, Horror, Mystery   \n",
       "\n",
       "   Run time Ratings      Votes  \n",
       "0    57 min     9.2  2,021,249  \n",
       "1    51 min     8.7  1,117,563  \n",
       "2    44 min     8.2    959,738  \n",
       "3    60 min     7.5    286,901  \n",
       "4    43 min     7.6    246,513  \n",
       "..      ...     ...        ...  \n",
       "95   42 min     7.4     49,266  \n",
       "96   50 min     7.8     60,157  \n",
       "97   42 min     8.1    193,396  \n",
       "98   45 min     7.1     40,807  \n",
       "99  572 min     8.6    233,328  \n",
       "\n",
       "[100 rows x 6 columns]"
      ]
     },
     "execution_count": 63,
     "metadata": {},
     "output_type": "execute_result"
    }
   ],
   "source": [
    "df = pd.DataFrame()\n",
    "df['Name'] = name\n",
    "df['Year span'] = span\n",
    "df['Genre'] = genre\n",
    "df['Run time'] = time\n",
    "df['Ratings'] = ratings \n",
    "df['Votes'] = votes\n",
    "df"
   ]
  },
  {
   "cell_type": "code",
   "execution_count": 64,
   "id": "d3b2f8a3",
   "metadata": {},
   "outputs": [],
   "source": [
    "driver.close()"
   ]
  },
  {
   "cell_type": "markdown",
   "id": "50b82a74",
   "metadata": {},
   "source": [
    "# 10.  Datasets from UCI machine learning repositories"
   ]
  },
  {
   "cell_type": "code",
   "execution_count": 65,
   "id": "ac839b50",
   "metadata": {},
   "outputs": [],
   "source": [
    "driver = webdriver.Chrome(r'C:\\Users\\HP\\chromedriver_win32\\chromedriver.exe')\n",
    "\n",
    "# getting the url\n",
    "url = 'https://archive.ics.uci.edu/'\n",
    "driver.get(url)\n",
    "driver.maximize_window()"
   ]
  },
  {
   "cell_type": "code",
   "execution_count": 67,
   "id": "871e8548",
   "metadata": {},
   "outputs": [],
   "source": [
    "show = driver.find_element(By.XPATH,'/html/body/table[1]/tbody/tr/td[2]/span[2]/a/font')\n",
    "show.click()"
   ]
  },
  {
   "cell_type": "markdown",
   "id": "3fd8aba5",
   "metadata": {},
   "source": [
    "### a) Dataset name"
   ]
  },
  {
   "cell_type": "code",
   "execution_count": 70,
   "id": "cd9f7531",
   "metadata": {},
   "outputs": [],
   "source": [
    "name = []\n",
    "nm = driver.find_elements(By.XPATH,'//td[@valign=\"top\"]/table[2]/tbody/tr/td/table/tbody/tr/td[2]/p/b/a')\n",
    "for i in nm:\n",
    "    try:\n",
    "        name.append(i.text)\n",
    "    except NoSuchElementException:\n",
    "        name.append('-')"
   ]
  },
  {
   "cell_type": "code",
   "execution_count": 72,
   "id": "7070bd93",
   "metadata": {},
   "outputs": [
    {
     "data": {
      "text/plain": [
       "622"
      ]
     },
     "execution_count": 72,
     "metadata": {},
     "output_type": "execute_result"
    }
   ],
   "source": [
    "len(name)"
   ]
  },
  {
   "cell_type": "markdown",
   "id": "c5921ad7",
   "metadata": {},
   "source": [
    "### b) Data type"
   ]
  },
  {
   "cell_type": "code",
   "execution_count": 90,
   "id": "3044e906",
   "metadata": {},
   "outputs": [],
   "source": [
    "dtype = []\n",
    "dtypes = driver.find_elements(By.XPATH,'//td[@valign=\"top\"]/table[2]/tbody/tr/td[2]/p')\n",
    "for i in dtypes:\n",
    "    try:\n",
    "        dtype.append(i.text)\n",
    "    except NoSuchElementException:\n",
    "        dtype.append('-')"
   ]
  },
  {
   "cell_type": "code",
   "execution_count": 91,
   "id": "e8c92c2a",
   "metadata": {},
   "outputs": [
    {
     "data": {
      "text/plain": [
       "622"
      ]
     },
     "execution_count": 91,
     "metadata": {},
     "output_type": "execute_result"
    }
   ],
   "source": [
    "dtype = dtype[1::]\n",
    "len(dtype)"
   ]
  },
  {
   "cell_type": "markdown",
   "id": "ead67035",
   "metadata": {},
   "source": [
    "### c) Task"
   ]
  },
  {
   "cell_type": "code",
   "execution_count": 99,
   "id": "d3de1440",
   "metadata": {},
   "outputs": [],
   "source": [
    "task = []\n",
    "tasks = driver.find_elements(By.XPATH,'//td[@valign=\"top\"]/table[2]/tbody/tr/td[3]/p')\n",
    "for i in tasks:\n",
    "    try:\n",
    "        task.append(i.text)\n",
    "    except NoSuchElementException:\n",
    "        task.append('-')"
   ]
  },
  {
   "cell_type": "code",
   "execution_count": 100,
   "id": "27e9eb87",
   "metadata": {},
   "outputs": [
    {
     "data": {
      "text/plain": [
       "622"
      ]
     },
     "execution_count": 100,
     "metadata": {},
     "output_type": "execute_result"
    }
   ],
   "source": [
    "task = task[1::]\n",
    "len(task)"
   ]
  },
  {
   "cell_type": "markdown",
   "id": "3285bafe",
   "metadata": {},
   "source": [
    "### d) Attribute type"
   ]
  },
  {
   "cell_type": "code",
   "execution_count": 101,
   "id": "b4f04f1f",
   "metadata": {},
   "outputs": [],
   "source": [
    "attr_type = []\n",
    "at = driver.find_elements(By.XPATH,'//td[@valign=\"top\"]/table[2]/tbody/tr/td[4]/p')\n",
    "for i in at:\n",
    "    try:\n",
    "        attr_type.append(i.text)\n",
    "    except NoSuchElementException:\n",
    "        attr_type.append('-')"
   ]
  },
  {
   "cell_type": "code",
   "execution_count": 103,
   "id": "1cda0e62",
   "metadata": {},
   "outputs": [
    {
     "data": {
      "text/plain": [
       "622"
      ]
     },
     "execution_count": 103,
     "metadata": {},
     "output_type": "execute_result"
    }
   ],
   "source": [
    "attr_type = attr_type[1::]\n",
    "len(attr_type)"
   ]
  },
  {
   "cell_type": "markdown",
   "id": "464d853d",
   "metadata": {},
   "source": [
    "### e) No. of instances"
   ]
  },
  {
   "cell_type": "code",
   "execution_count": 104,
   "id": "8e3fc642",
   "metadata": {},
   "outputs": [],
   "source": [
    "ninstance = []\n",
    "ni = driver.find_elements(By.XPATH,'//td[@valign=\"top\"]/table[2]/tbody/tr/td[5]/p')\n",
    "for i in ni:\n",
    "    try:\n",
    "        ninstance.append(i.text)\n",
    "    except NoSuchElementException:\n",
    "        nisntance.append('-')"
   ]
  },
  {
   "cell_type": "code",
   "execution_count": 106,
   "id": "cd52ed56",
   "metadata": {},
   "outputs": [
    {
     "data": {
      "text/plain": [
       "622"
      ]
     },
     "execution_count": 106,
     "metadata": {},
     "output_type": "execute_result"
    }
   ],
   "source": [
    "ninstance = ninstance[1::]\n",
    "len(ninstance)"
   ]
  },
  {
   "cell_type": "markdown",
   "id": "75ee6669",
   "metadata": {},
   "source": [
    "### f) No. of attribute"
   ]
  },
  {
   "cell_type": "code",
   "execution_count": 107,
   "id": "fc26a893",
   "metadata": {},
   "outputs": [],
   "source": [
    "nattribute = []\n",
    "na = driver.find_elements(By.XPATH,'//td[@valign=\"top\"]/table[2]/tbody/tr/td[6]/p')\n",
    "for i in na:\n",
    "    try:\n",
    "        nattribute.append(i.text)\n",
    "    except NoSuchElementException:\n",
    "        nattribute.append('-')"
   ]
  },
  {
   "cell_type": "code",
   "execution_count": 109,
   "id": "14371c3d",
   "metadata": {},
   "outputs": [
    {
     "data": {
      "text/plain": [
       "622"
      ]
     },
     "execution_count": 109,
     "metadata": {},
     "output_type": "execute_result"
    }
   ],
   "source": [
    "nattribute = nattribute[1::]\n",
    "len(nattribute)"
   ]
  },
  {
   "cell_type": "markdown",
   "id": "2aec6730",
   "metadata": {},
   "source": [
    "### g) Year"
   ]
  },
  {
   "cell_type": "code",
   "execution_count": 110,
   "id": "5c3d9cae",
   "metadata": {},
   "outputs": [],
   "source": [
    "year = []\n",
    "yr = driver.find_elements(By.XPATH,'//td[@valign=\"top\"]/table[2]/tbody/tr/td[7]/p')\n",
    "for i in yr:\n",
    "    try:\n",
    "        year.append(i.text)\n",
    "    except NoSuchElementException:\n",
    "        year.append('-')"
   ]
  },
  {
   "cell_type": "code",
   "execution_count": 112,
   "id": "ffe23fe3",
   "metadata": {},
   "outputs": [
    {
     "data": {
      "text/plain": [
       "622"
      ]
     },
     "execution_count": 112,
     "metadata": {},
     "output_type": "execute_result"
    }
   ],
   "source": [
    "year = year[1::]\n",
    "len(year)"
   ]
  },
  {
   "cell_type": "markdown",
   "id": "e14a5746",
   "metadata": {},
   "source": [
    "### Dataframe for Datasets from UCI machine learning repositories"
   ]
  },
  {
   "cell_type": "code",
   "execution_count": 114,
   "id": "161dc71a",
   "metadata": {},
   "outputs": [
    {
     "data": {
      "text/html": [
       "<div>\n",
       "<style scoped>\n",
       "    .dataframe tbody tr th:only-of-type {\n",
       "        vertical-align: middle;\n",
       "    }\n",
       "\n",
       "    .dataframe tbody tr th {\n",
       "        vertical-align: top;\n",
       "    }\n",
       "\n",
       "    .dataframe thead th {\n",
       "        text-align: right;\n",
       "    }\n",
       "</style>\n",
       "<table border=\"1\" class=\"dataframe\">\n",
       "  <thead>\n",
       "    <tr style=\"text-align: right;\">\n",
       "      <th></th>\n",
       "      <th>Dataset name</th>\n",
       "      <th>Data type</th>\n",
       "      <th>Task</th>\n",
       "      <th>Attribute type</th>\n",
       "      <th>No of instances</th>\n",
       "      <th>No of attributes</th>\n",
       "      <th>Year</th>\n",
       "    </tr>\n",
       "  </thead>\n",
       "  <tbody>\n",
       "    <tr>\n",
       "      <th>0</th>\n",
       "      <td>Abalone</td>\n",
       "      <td>Multivariate</td>\n",
       "      <td>Classification</td>\n",
       "      <td>Categorical, Integer, Real</td>\n",
       "      <td>4177</td>\n",
       "      <td>8</td>\n",
       "      <td>1995</td>\n",
       "    </tr>\n",
       "    <tr>\n",
       "      <th>1</th>\n",
       "      <td>Adult</td>\n",
       "      <td>Multivariate</td>\n",
       "      <td>Classification</td>\n",
       "      <td>Categorical, Integer</td>\n",
       "      <td>48842</td>\n",
       "      <td>14</td>\n",
       "      <td>1996</td>\n",
       "    </tr>\n",
       "    <tr>\n",
       "      <th>2</th>\n",
       "      <td>Annealing</td>\n",
       "      <td>Multivariate</td>\n",
       "      <td>Classification</td>\n",
       "      <td>Categorical, Integer, Real</td>\n",
       "      <td>798</td>\n",
       "      <td>38</td>\n",
       "      <td></td>\n",
       "    </tr>\n",
       "    <tr>\n",
       "      <th>3</th>\n",
       "      <td>Anonymous Microsoft Web Data</td>\n",
       "      <td></td>\n",
       "      <td>Recommender-Systems</td>\n",
       "      <td>Categorical</td>\n",
       "      <td>37711</td>\n",
       "      <td>294</td>\n",
       "      <td>1998</td>\n",
       "    </tr>\n",
       "    <tr>\n",
       "      <th>4</th>\n",
       "      <td>Arrhythmia</td>\n",
       "      <td>Multivariate</td>\n",
       "      <td>Classification</td>\n",
       "      <td>Categorical, Integer, Real</td>\n",
       "      <td>452</td>\n",
       "      <td>279</td>\n",
       "      <td>1998</td>\n",
       "    </tr>\n",
       "    <tr>\n",
       "      <th>...</th>\n",
       "      <td>...</td>\n",
       "      <td>...</td>\n",
       "      <td>...</td>\n",
       "      <td>...</td>\n",
       "      <td>...</td>\n",
       "      <td>...</td>\n",
       "      <td>...</td>\n",
       "    </tr>\n",
       "    <tr>\n",
       "      <th>617</th>\n",
       "      <td>Influenza outbreak event prediction via Twitte...</td>\n",
       "      <td>Multivariate</td>\n",
       "      <td>Classification</td>\n",
       "      <td>Integer, Real</td>\n",
       "      <td>75840</td>\n",
       "      <td>525</td>\n",
       "      <td>2020</td>\n",
       "    </tr>\n",
       "    <tr>\n",
       "      <th>618</th>\n",
       "      <td>Turkish Music Emotion Dataset</td>\n",
       "      <td>Multivariate</td>\n",
       "      <td>Classification</td>\n",
       "      <td>Integer, Real</td>\n",
       "      <td>400</td>\n",
       "      <td>50</td>\n",
       "      <td>2020</td>\n",
       "    </tr>\n",
       "    <tr>\n",
       "      <th>619</th>\n",
       "      <td>Maternal Health Risk Data Set</td>\n",
       "      <td></td>\n",
       "      <td>Classification</td>\n",
       "      <td></td>\n",
       "      <td>1014</td>\n",
       "      <td>7</td>\n",
       "      <td>2020</td>\n",
       "    </tr>\n",
       "    <tr>\n",
       "      <th>620</th>\n",
       "      <td>Room Occupancy Estimation</td>\n",
       "      <td>Multivariate, Time-Series</td>\n",
       "      <td>Classification</td>\n",
       "      <td>Real</td>\n",
       "      <td>10129</td>\n",
       "      <td>16</td>\n",
       "      <td>2021</td>\n",
       "    </tr>\n",
       "    <tr>\n",
       "      <th>621</th>\n",
       "      <td>Image Recognition Task Execution Times in Mobi...</td>\n",
       "      <td>Univariate</td>\n",
       "      <td>Regression</td>\n",
       "      <td>Real</td>\n",
       "      <td>4000</td>\n",
       "      <td>2</td>\n",
       "      <td>2021</td>\n",
       "    </tr>\n",
       "  </tbody>\n",
       "</table>\n",
       "<p>622 rows × 7 columns</p>\n",
       "</div>"
      ],
      "text/plain": [
       "                                          Dataset name  \\\n",
       "0                                              Abalone   \n",
       "1                                                Adult   \n",
       "2                                            Annealing   \n",
       "3                         Anonymous Microsoft Web Data   \n",
       "4                                           Arrhythmia   \n",
       "..                                                 ...   \n",
       "617  Influenza outbreak event prediction via Twitte...   \n",
       "618                      Turkish Music Emotion Dataset   \n",
       "619                      Maternal Health Risk Data Set   \n",
       "620                          Room Occupancy Estimation   \n",
       "621  Image Recognition Task Execution Times in Mobi...   \n",
       "\n",
       "                      Data type                  Task  \\\n",
       "0                 Multivariate        Classification    \n",
       "1                 Multivariate        Classification    \n",
       "2                 Multivariate        Classification    \n",
       "3                                Recommender-Systems    \n",
       "4                 Multivariate        Classification    \n",
       "..                          ...                   ...   \n",
       "617               Multivariate        Classification    \n",
       "618               Multivariate        Classification    \n",
       "619                                   Classification    \n",
       "620  Multivariate, Time-Series        Classification    \n",
       "621                 Univariate            Regression    \n",
       "\n",
       "                  Attribute type No of instances No of attributes   Year  \n",
       "0    Categorical, Integer, Real            4177                8   1995   \n",
       "1          Categorical, Integer           48842               14   1996   \n",
       "2    Categorical, Integer, Real             798               38          \n",
       "3                   Categorical           37711              294   1998   \n",
       "4    Categorical, Integer, Real             452              279   1998   \n",
       "..                           ...             ...              ...    ...  \n",
       "617               Integer, Real           75840              525   2020   \n",
       "618               Integer, Real             400               50   2020   \n",
       "619                                        1014                7   2020   \n",
       "620                        Real           10129               16   2021   \n",
       "621                        Real            4000                2   2021   \n",
       "\n",
       "[622 rows x 7 columns]"
      ]
     },
     "execution_count": 114,
     "metadata": {},
     "output_type": "execute_result"
    }
   ],
   "source": [
    "df = pd.DataFrame()\n",
    "df['Dataset name'] = name\n",
    "df['Data type'] = dtype\n",
    "df['Task'] = task\n",
    "df['Attribute type'] = attr_type\n",
    "df['No of instances'] = ninstance\n",
    "df['No of attributes'] = nattribute\n",
    "df['Year'] = year\n",
    "df"
   ]
  },
  {
   "cell_type": "code",
   "execution_count": 115,
   "id": "1f6edae0",
   "metadata": {},
   "outputs": [],
   "source": [
    "driver.close()"
   ]
  },
  {
   "cell_type": "code",
   "execution_count": null,
   "id": "f475fde1",
   "metadata": {},
   "outputs": [],
   "source": []
  }
 ],
 "metadata": {
  "kernelspec": {
   "display_name": "Python 3 (ipykernel)",
   "language": "python",
   "name": "python3"
  },
  "language_info": {
   "codemirror_mode": {
    "name": "ipython",
    "version": 3
   },
   "file_extension": ".py",
   "mimetype": "text/x-python",
   "name": "python",
   "nbconvert_exporter": "python",
   "pygments_lexer": "ipython3",
   "version": "3.9.7"
  }
 },
 "nbformat": 4,
 "nbformat_minor": 5
}
